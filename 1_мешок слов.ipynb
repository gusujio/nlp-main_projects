{
  "cells": [
    {
      "cell_type": "markdown",
      "metadata": {
        "id": "PLYNNoofvGwy"
      },
      "source": [
        "# Тематическая классификация длинных текстов - TFIDF и LogReg"
      ]
    },
    {
      "cell_type": "code",
      "execution_count": 68,
      "metadata": {
        "colab": {
          "base_uri": "https://localhost:8080/"
        },
        "id": "1fBTH392vGw0",
        "outputId": "b174a553-46ff-471f-cc1d-d2def68c6b84"
      },
      "outputs": [
        {
          "output_type": "stream",
          "name": "stdout",
          "text": [
            "fatal: destination path 'stepik-dl-nlp' already exists and is not an empty directory.\n"
          ]
        }
      ],
      "source": [
        "# Если Вы запускаете ноутбук на colab или kaggle,\n",
        "# выполните следующие строчки, чтобы подгрузить библиотеку dlnlputils:\n",
        "\n",
        "!git clone https://github.com/Samsung-IT-Academy/stepik-dl-nlp.git && pip install -r stepik-dl-nlp/requirements.txt\n",
        "import sys; sys.path.append('./stepik-dl-nlp')"
      ]
    },
    {
      "cell_type": "code",
      "execution_count": 86,
      "metadata": {
        "ExecuteTime": {
          "end_time": "2019-09-12T12:42:57.265628Z",
          "start_time": "2019-09-12T12:42:55.188211Z"
        },
        "id": "lvIal7eyvGw1",
        "colab": {
          "base_uri": "https://localhost:8080/"
        },
        "outputId": "013c415f-1111-4ed7-b612-d9d7a5857b29"
      },
      "outputs": [
        {
          "output_type": "stream",
          "name": "stdout",
          "text": [
            "[nltk_data] Downloading package wordnet to /root/nltk_data...\n",
            "[nltk_data]   Package wordnet is already up-to-date!\n"
          ]
        }
      ],
      "source": [
        "import warnings\n",
        "warnings.filterwarnings('ignore')\n",
        "\n",
        "from sklearn.datasets import fetch_20newsgroups\n",
        "from sklearn.metrics import accuracy_score\n",
        "\n",
        "import numpy as np\n",
        "\n",
        "import matplotlib.pyplot as plt\n",
        "%matplotlib inline\n",
        "\n",
        "import collections\n",
        "\n",
        "import nltk\n",
        "from nltk.stem import WordNetLemmatizer \n",
        "\n",
        "nltk.download('wordnet')\n",
        "\n",
        "import torch\n",
        "from torch import nn\n",
        "from torch.nn import functional as F\n",
        "\n",
        "import dlnlputils\n",
        "from dlnlputils.data import tokenize_text_simple_regex, tokenize_corpus, build_vocabulary, \\\n",
        "    vectorize_texts, SparseFeaturesDataset\n",
        "from dlnlputils.pipeline import train_eval_loop, predict_with_model, init_random_seed\n",
        "\n",
        "init_random_seed()"
      ]
    },
    {
      "cell_type": "code",
      "source": [
        ""
      ],
      "metadata": {
        "id": "XTwTHqtLA_Fi"
      },
      "execution_count": null,
      "outputs": []
    },
    {
      "cell_type": "markdown",
      "metadata": {
        "id": "f3BzSVUAvGw2"
      },
      "source": [
        "## Предобработка текстов и подготовка признаков"
      ]
    },
    {
      "cell_type": "code",
      "execution_count": 70,
      "metadata": {
        "ExecuteTime": {
          "end_time": "2019-09-12T12:42:57.847399Z",
          "start_time": "2019-09-12T12:42:57.268037Z"
        },
        "colab": {
          "base_uri": "https://localhost:8080/"
        },
        "id": "wXfMCpB6vGw2",
        "outputId": "24112f98-e857-482e-e22c-a55225211b8a"
      },
      "outputs": [
        {
          "output_type": "stream",
          "name": "stdout",
          "text": [
            "Количество обучающих текстов 11314\n",
            "Количество тестовых текстов 7532\n",
            "\n",
            "From: lerxst@wam.umd.edu (where's my thing)\n",
            "Subject: WHAT car is this!?\n",
            "Nntp-Posting-Host: rac3.wam.umd.edu\n",
            "Organization: University of Maryland, College Park\n",
            "Lines: 15\n",
            "\n",
            " I was wondering if anyone out there could enlighten me on this car I saw\n",
            "the other day. It was a 2-door sports car, looked to be from the late 60s/\n",
            "early 70s. It was called a Bricklin. The doors were really small. In addition,\n",
            "the front bumper was separate from the rest of the body. This is \n",
            "all I know. If anyone can tellme a model name, engine specs, years\n",
            "of production, where this car is made, history, or whatever info you\n",
            "have on this funky looking car, please e-mail.\n",
            "\n",
            "Thanks,\n",
            "- IL\n",
            "   ---- brought to you by your neighborhood Lerxst ----\n",
            "\n",
            "Метка 7\n"
          ]
        }
      ],
      "source": [
        "## подгружаем данные \n",
        "train_source = fetch_20newsgroups(subset='train')\n",
        "test_source = fetch_20newsgroups(subset='test')\n",
        "\n",
        "print('Количество обучающих текстов', len(train_source['data']))\n",
        "print('Количество тестовых текстов', len(test_source['data']))\n",
        "print()\n",
        "print(train_source['data'][0].strip())\n",
        "\n",
        "print()\n",
        "print('Метка', train_source['target'][0])"
      ]
    },
    {
      "cell_type": "markdown",
      "metadata": {
        "id": "YbtEqc2VvGw3"
      },
      "source": [
        "### Подготовка признаков"
      ]
    },
    {
      "cell_type": "code",
      "execution_count": 71,
      "metadata": {
        "ExecuteTime": {
          "end_time": "2019-09-12T12:43:00.294422Z",
          "start_time": "2019-09-12T12:42:57.849386Z"
        },
        "colab": {
          "base_uri": "https://localhost:8080/"
        },
        "id": "ECNwS32tvGw3",
        "outputId": "1c39d801-bbe2-42fa-c05d-7b6fdb838878"
      },
      "outputs": [
        {
          "output_type": "stream",
          "name": "stdout",
          "text": [
            "['from', 'lerxst', 'where', 'thing', 'subject', 'what', 'this', 'nntp', 'posting', 'host', 'rac3', 'organization', 'university', 'maryland', 'college', 'park', 'lines', 'wondering', 'anyone', 'there', 'could', 'enlighten', 'this', 'other', 'door', 'sports', 'looked', 'from', 'late', 'early', 'called', 'bricklin', 'doors', 'were', 'really', 'small', 'addition', 'front', 'bumper', 'separate', 'from', 'rest', 'body', 'this', 'know', 'anyone', 'tellme', 'model', 'name', 'engine', 'specs', 'years', 'production', 'where', 'this', 'made', 'history', 'whatever', 'info', 'have', 'this', 'funky', 'looking', 'please', 'mail', 'thanks', 'brought', 'your', 'neighborhood', 'lerxst']\n"
          ]
        }
      ],
      "source": [
        "# токенезируем, разбиваем предложения на токены\n",
        "train_tokenized = tokenize_corpus(train_source['data'])\n",
        "test_tokenized = tokenize_corpus(test_source['data'])\n",
        "\n",
        "print(train_tokenized[0])"
      ]
    },
    {
      "cell_type": "code",
      "source": [
        "lemmatizer = WordNetLemmatizer()\n",
        "train_tokenized = [[lemmatizer.lemmatize(w)  for w in lists ]for lists in train_tokenized]\n",
        "test_tokenized = [[lemmatizer.lemmatize(w)  for w in lists ]for lists in test_tokenized]\n",
        "print(train_tokenized[0])"
      ],
      "metadata": {
        "colab": {
          "base_uri": "https://localhost:8080/"
        },
        "id": "UVu_0FuxBKh0",
        "outputId": "d1f9d8b7-46c8-438c-aaf7-69151441a29b"
      },
      "execution_count": 95,
      "outputs": [
        {
          "output_type": "stream",
          "name": "stdout",
          "text": [
            "['from', 'lerxst', 'where', 'thing', 'subject', 'what', 'this', 'nntp', 'posting', 'host', 'rac3', 'organization', 'university', 'maryland', 'college', 'park', 'line', 'wondering', 'anyone', 'there', 'could', 'enlighten', 'this', 'other', 'door', 'sport', 'looked', 'from', 'late', 'early', 'called', 'bricklin', 'door', 'were', 'really', 'small', 'addition', 'front', 'bumper', 'separate', 'from', 'rest', 'body', 'this', 'know', 'anyone', 'tellme', 'model', 'name', 'engine', 'spec', 'year', 'production', 'where', 'this', 'made', 'history', 'whatever', 'info', 'have', 'this', 'funky', 'looking', 'please', 'mail', 'thanks', 'brought', 'your', 'neighborhood', 'lerxst']\n"
          ]
        }
      ]
    },
    {
      "cell_type": "code",
      "execution_count": 96,
      "metadata": {
        "ExecuteTime": {
          "end_time": "2019-09-12T12:43:00.825372Z",
          "start_time": "2019-09-12T12:43:00.297392Z"
        },
        "colab": {
          "base_uri": "https://localhost:8080/"
        },
        "id": "D6bq7OEtvGw3",
        "outputId": "6cb00b7b-390d-49c5-a815-e9d65e6023e5"
      },
      "outputs": [
        {
          "output_type": "stream",
          "name": "stdout",
          "text": [
            "Количество уникальных токенов 19578\n",
            "[('that', 0), ('this', 1), ('have', 2), ('with', 3), ('writes', 4), ('article', 5), ('posting', 6), ('host', 7), ('nntp', 8), ('there', 9)]\n"
          ]
        }
      ],
      "source": [
        "MAX_DF = 0.8\n",
        "MIN_COUNT = 5\n",
        "\"\"\"build_vocabulary строим словарь. Каждому токену присваеваем свой номер (кодируем слово под одним номером)\n",
        "build_vocabulary - возращает 2 параметра\n",
        "vocabulary - словарь - токины из нашей обучающ-ся выборки, с порядковым номером, отсортерованные по частоте встречаемости среди всех документов\n",
        "word_doc_freq - относительноая частота встречаемости слова среди всех документов\n",
        "max_doc_freq -  удаляем токины из ловаря, если они встречались более чем в 80% документов\n",
        "min_count - удаляем токины, которые встречались меньше 5 раз\n",
        "\"\"\"\n",
        "vocabulary, word_doc_freq = build_vocabulary(train_tokenized, max_doc_freq=MAX_DF, min_count=MIN_COUNT)\n",
        "UNIQUE_WORDS_N = len(vocabulary)\n",
        "print('Количество уникальных токенов', UNIQUE_WORDS_N)\n",
        "print(list(vocabulary.items())[:10])"
      ]
    },
    {
      "cell_type": "code",
      "execution_count": 97,
      "metadata": {
        "ExecuteTime": {
          "end_time": "2019-09-12T12:43:01.524600Z",
          "start_time": "2019-09-12T12:43:00.829107Z"
        },
        "colab": {
          "base_uri": "https://localhost:8080/",
          "height": 281
        },
        "id": "eZk7rQjtvGw4",
        "outputId": "e1b11e71-4d4f-4ac3-a6aa-172817da6c79"
      },
      "outputs": [
        {
          "output_type": "display_data",
          "data": {
            "image/png": "[encoded data removed]",
            "text/plain": [
              "<Figure size 432x288 with 1 Axes>"
            ]
          },
          "metadata": {
            "needs_background": "light"
          }
        }
      ],
      "source": [
        "plt.hist(word_doc_freq, bins=20)\n",
        "plt.title('Распределение относительных частот слов')\n",
        "plt.yscale('log');"
      ]
    },
    {
      "cell_type": "code",
      "execution_count": 98,
      "metadata": {
        "ExecuteTime": {
          "end_time": "2019-09-12T12:44:16.094816Z",
          "start_time": "2019-09-12T12:43:01.526554Z"
        },
        "id": "_lOUkySwvGw4",
        "colab": {
          "base_uri": "https://localhost:8080/"
        },
        "outputId": "bff87991-7dc8-4040-99ab-75a5754818eb"
      },
      "outputs": [
        {
          "output_type": "stream",
          "name": "stdout",
          "text": [
            "Размерность матрицы признаков обучающей выборки (11314, 19578)\n",
            "Размерность матрицы признаков тестовой выборки (7532, 19578)\n",
            "\n",
            "Количество ненулевых элементов в обучающей выборке 1105974\n",
            "Процент заполненности матрицы признаков 0.50%\n",
            "\n",
            "Количество ненулевых элементов в тестовой выборке 709349\n",
            "Процент заполненности матрицы признаков 0.48%\n"
          ]
        }
      ],
      "source": [
        "\"\"\"vectorize_texts - строим матрицу, кол-во строк = кол-ву текстов, кол-во столбцов = кол-ву слов\n",
        "и заполняем в нашем случае ячейки матрицы tfidf\n",
        "\"\"\"\n",
        "VECTORIZATION_MODE = 'tfidf'\n",
        "train_vectors = vectorize_texts(train_tokenized, vocabulary, word_doc_freq, mode=VECTORIZATION_MODE)\n",
        "test_vectors = vectorize_texts(test_tokenized, vocabulary, word_doc_freq, mode=VECTORIZATION_MODE)\n",
        "\n",
        "print('Размерность матрицы признаков обучающей выборки', train_vectors.shape)\n",
        "print('Размерность матрицы признаков тестовой выборки', test_vectors.shape)\n",
        "print()\n",
        "print('Количество ненулевых элементов в обучающей выборке', train_vectors.nnz)\n",
        "print('Процент заполненности матрицы признаков {:.2f}%'.format(train_vectors.nnz * 100 / (train_vectors.shape[0] * train_vectors.shape[1])))\n",
        "print()\n",
        "print('Количество ненулевых элементов в тестовой выборке', test_vectors.nnz)\n",
        "print('Процент заполненности матрицы признаков {:.2f}%'.format(test_vectors.nnz * 100 / (test_vectors.shape[0] * test_vectors.shape[1])))"
      ]
    },
    {
      "cell_type": "code",
      "source": [
        "train_vectors"
      ],
      "metadata": {
        "id": "PSf-d7uZIzH2",
        "colab": {
          "base_uri": "https://localhost:8080/"
        },
        "outputId": "0415158a-064e-4440-cd8f-0f6fce66729c"
      },
      "execution_count": 99,
      "outputs": [
        {
          "output_type": "execute_result",
          "data": {
            "text/plain": [
              "<11314x19578 sparse matrix of type '<class 'numpy.float32'>'\n",
              "\twith 1105974 stored elements in Compressed Sparse Row format>"
            ]
          },
          "metadata": {},
          "execution_count": 99
        }
      ]
    },
    {
      "cell_type": "code",
      "execution_count": 100,
      "metadata": {
        "ExecuteTime": {
          "end_time": "2019-09-12T12:44:16.857114Z",
          "start_time": "2019-09-12T12:44:16.098773Z"
        },
        "id": "cif176brvGw5",
        "colab": {
          "base_uri": "https://localhost:8080/",
          "height": 281
        },
        "outputId": "7ae5afaa-bebc-419f-d3a2-9e7ec084f3bd"
      },
      "outputs": [
        {
          "output_type": "display_data",
          "data": {
            "image/png": "[encoded data removed]",
            "text/plain": [
              "<Figure size 432x288 with 1 Axes>"
            ]
          },
          "metadata": {
            "needs_background": "light"
          }
        }
      ],
      "source": [
        "plt.hist(train_vectors.data, bins=20)\n",
        "plt.title('Распределение весов признаков')\n",
        "plt.yscale('log');"
      ]
    },
    {
      "cell_type": "markdown",
      "metadata": {
        "id": "enM5Nu-1vGw5"
      },
      "source": [
        "### Распределение классов"
      ]
    },
    {
      "cell_type": "code",
      "execution_count": 101,
      "metadata": {
        "ExecuteTime": {
          "end_time": "2019-09-12T12:44:16.864960Z",
          "start_time": "2019-09-12T12:44:16.859476Z"
        },
        "id": "mbckk5w-vGw5",
        "colab": {
          "base_uri": "https://localhost:8080/"
        },
        "outputId": "6fb50af4-fb07-4e1d-f7d3-a6abe771a485"
      },
      "outputs": [
        {
          "output_type": "stream",
          "name": "stdout",
          "text": [
            "Количество уникальных меток 20\n"
          ]
        }
      ],
      "source": [
        "UNIQUE_LABELS_N = len(set(train_source['target']))\n",
        "print('Количество уникальных меток', UNIQUE_LABELS_N)"
      ]
    },
    {
      "cell_type": "code",
      "execution_count": 102,
      "metadata": {
        "ExecuteTime": {
          "end_time": "2019-09-12T12:44:17.106036Z",
          "start_time": "2019-09-12T12:44:16.867310Z"
        },
        "id": "l12zdJlPvGw6",
        "colab": {
          "base_uri": "https://localhost:8080/",
          "height": 281
        },
        "outputId": "aa0bf9ce-1955-4e7e-c78e-f7ee4a69391e"
      },
      "outputs": [
        {
          "output_type": "display_data",
          "data": {
            "image/png": "[encoded data removed]",
            "text/plain": [
              "<Figure size 432x288 with 1 Axes>"
            ]
          },
          "metadata": {
            "needs_background": "light"
          }
        }
      ],
      "source": [
        "plt.hist(train_source['target'], bins=np.arange(0, 21))\n",
        "plt.title('Распределение меток в обучающей выборке');"
      ]
    },
    {
      "cell_type": "code",
      "execution_count": 103,
      "metadata": {
        "ExecuteTime": {
          "end_time": "2019-09-12T12:44:17.312198Z",
          "start_time": "2019-09-12T12:44:17.109884Z"
        },
        "scrolled": true,
        "id": "vJnCONg4vGw6",
        "colab": {
          "base_uri": "https://localhost:8080/",
          "height": 281
        },
        "outputId": "b7ad572f-376c-4bd0-b819-a84109e0d9e7"
      },
      "outputs": [
        {
          "output_type": "display_data",
          "data": {
            "image/png": "[encoded data removed]",
            "text/plain": [
              "<Figure size 432x288 with 1 Axes>"
            ]
          },
          "metadata": {
            "needs_background": "light"
          }
        }
      ],
      "source": [
        "plt.hist(test_source['target'], bins=np.arange(0, 21))\n",
        "plt.title('Распределение меток в тестовой выборке');"
      ]
    },
    {
      "cell_type": "markdown",
      "metadata": {
        "id": "NLDLKO_WvGw6"
      },
      "source": [
        "### PyTorch Dataset"
      ]
    },
    {
      "cell_type": "code",
      "execution_count": 104,
      "metadata": {
        "ExecuteTime": {
          "end_time": "2019-09-12T12:44:17.319292Z",
          "start_time": "2019-09-12T12:44:17.315074Z"
        },
        "id": "wBZWtC8yvGw6"
      },
      "outputs": [],
      "source": [
        "\"\"\"SparseFeaturesDataset - подключаем для удобства работы с разрежеными матрицами. \n",
        "теперь мы пожем получать определенные элемент в разреженной матрице в полном виде, \n",
        "все сотальные элементы, кроме этого, так и будут разрежеными \"\"\"\n",
        "train_dataset = SparseFeaturesDataset(train_vectors, train_source['target'])\n",
        "test_dataset = SparseFeaturesDataset(test_vectors, test_source['target'])"
      ]
    },
    {
      "cell_type": "markdown",
      "metadata": {
        "id": "G1QS0ZS2vGw7"
      },
      "source": [
        "## Обучение модели на PyTorch"
      ]
    },
    {
      "cell_type": "code",
      "execution_count": 109,
      "metadata": {
        "ExecuteTime": {
          "end_time": "2019-09-12T12:46:22.371272Z",
          "start_time": "2019-09-12T12:44:17.322178Z"
        },
        "scrolled": false,
        "id": "qOxZLLR4vGw7",
        "colab": {
          "base_uri": "https://localhost:8080/"
        },
        "outputId": "7dedf7fe-c182-4cc2-e12c-02fde452d192"
      },
      "outputs": [
        {
          "output_type": "stream",
          "name": "stdout",
          "text": [
            "Эпоха 0\n",
            "Эпоха: 354 итераций, 3.96 сек\n",
            "Среднее значение функции потерь на обучении 2.2650583403258673\n",
            "Среднее значение функции потерь на валидации 2.164438661882433\n",
            "Новая лучшая модель!\n",
            "\n",
            "Эпоха 1\n",
            "Эпоха: 354 итераций, 3.75 сек\n",
            "Среднее значение функции потерь на обучении 0.9927731429116201\n",
            "Среднее значение функции потерь на валидации 1.736058524604571\n",
            "Новая лучшая модель!\n",
            "\n",
            "Эпоха 2\n",
            "Эпоха: 354 итераций, 3.74 сек\n",
            "Среднее значение функции потерь на обучении 0.5248118019373403\n",
            "Среднее значение функции потерь на валидации 1.5057129056776983\n",
            "Новая лучшая модель!\n",
            "\n",
            "Эпоха 3\n",
            "Эпоха: 354 итераций, 3.84 сек\n",
            "Среднее значение функции потерь на обучении 0.32624722863573813\n",
            "Среднее значение функции потерь на валидации 1.3752704800690634\n",
            "Новая лучшая модель!\n",
            "\n",
            "Эпоха 4\n",
            "Эпоха: 354 итераций, 3.73 сек\n",
            "Среднее значение функции потерь на обучении 0.22267551720142365\n",
            "Среднее значение функции потерь на валидации 1.2910115812289513\n",
            "Новая лучшая модель!\n",
            "\n",
            "Эпоха 5\n",
            "Эпоха: 354 итераций, 3.78 сек\n",
            "Среднее значение функции потерь на обучении 0.16133174382276455\n",
            "Среднее значение функции потерь на валидации 1.235128687094834\n",
            "Новая лучшая модель!\n",
            "\n",
            "Эпоха 6\n",
            "Эпоха: 354 итераций, 3.68 сек\n",
            "Среднее значение функции потерь на обучении 0.12159349284224254\n",
            "Среднее значение функции потерь на валидации 1.1905132481607341\n",
            "Новая лучшая модель!\n",
            "\n",
            "Эпоха 7\n",
            "Эпоха: 354 итераций, 3.70 сек\n",
            "Среднее значение функции потерь на обучении 0.0939429026665324\n",
            "Среднее значение функции потерь на валидации 1.1394222472178734\n",
            "Новая лучшая модель!\n",
            "\n",
            "Эпоха 8\n",
            "Эпоха: 354 итераций, 3.68 сек\n",
            "Среднее значение функции потерь на обучении 0.07444820138967811\n",
            "Среднее значение функции потерь на валидации 1.1148373817993422\n",
            "Новая лучшая модель!\n",
            "\n",
            "Эпоха 9\n",
            "Эпоха: 354 итераций, 3.70 сек\n",
            "Среднее значение функции потерь на обучении 0.06010547870675386\n",
            "Среднее значение функции потерь на валидации 1.0862698534787711\n",
            "Новая лучшая модель!\n",
            "\n",
            "Эпоха 10\n",
            "Эпоха: 354 итераций, 3.63 сек\n",
            "Среднее значение функции потерь на обучении 0.04910323172439374\n",
            "Среднее значение функции потерь на валидации 1.0623139574871225\n",
            "Новая лучшая модель!\n",
            "\n",
            "Эпоха 11\n",
            "Эпоха: 354 итераций, 3.67 сек\n",
            "Среднее значение функции потерь на обучении 0.04054130918719927\n",
            "Среднее значение функции потерь на валидации 1.045748033260895\n",
            "Новая лучшая модель!\n",
            "\n",
            "Эпоха 12\n",
            "Эпоха: 354 итераций, 3.63 сек\n",
            "Среднее значение функции потерь на обучении 0.03360624763704205\n",
            "Среднее значение функции потерь на валидации 1.0425890295182245\n",
            "Новая лучшая модель!\n",
            "\n",
            "Эпоха 13\n",
            "Эпоха: 354 итераций, 3.68 сек\n",
            "Среднее значение функции потерь на обучении 0.02840757216353201\n",
            "Среднее значение функции потерь на валидации 1.0169700646804551\n",
            "Новая лучшая модель!\n",
            "\n",
            "Эпоха 14\n",
            "Эпоха: 354 итераций, 3.71 сек\n",
            "Среднее значение функции потерь на обучении 0.0239133111630056\n",
            "Среднее значение функции потерь на валидации 1.008928134027174\n",
            "Новая лучшая модель!\n",
            "\n",
            "Эпоха 15\n",
            "Эпоха: 354 итераций, 3.79 сек\n",
            "Среднее значение функции потерь на обучении 0.020397645034590513\n",
            "Среднее значение функции потерь на валидации 0.9986709800817198\n",
            "Новая лучшая модель!\n",
            "\n",
            "Эпоха 16\n",
            "Эпоха: 354 итераций, 3.65 сек\n",
            "Среднее значение функции потерь на обучении 0.017557874456111153\n",
            "Среднее значение функции потерь на валидации 0.9889323385590214\n",
            "Новая лучшая модель!\n",
            "\n",
            "Эпоха 17\n",
            "Эпоха: 354 итераций, 3.73 сек\n",
            "Среднее значение функции потерь на обучении 0.015321430602863347\n",
            "Среднее значение функции потерь на валидации 0.9872112882844473\n",
            "Новая лучшая модель!\n",
            "\n",
            "Эпоха 18\n",
            "Эпоха: 354 итераций, 3.66 сек\n",
            "Среднее значение функции потерь на обучении 0.01326569682973737\n",
            "Среднее значение функции потерь на валидации 0.9899698089239961\n",
            "\n",
            "Эпоха 19\n",
            "Эпоха: 354 итераций, 3.66 сек\n",
            "Среднее значение функции потерь на обучении 0.01140856628416706\n",
            "Среднее значение функции потерь на валидации 0.9679349812410646\n",
            "Новая лучшая модель!\n",
            "\n",
            "Эпоха 20\n",
            "Эпоха: 354 итераций, 3.75 сек\n",
            "Среднее значение функции потерь на обучении 0.01017497749972857\n",
            "Среднее значение функции потерь на валидации 0.9743936253806292\n",
            "\n",
            "Эпоха 21\n",
            "Эпоха: 354 итераций, 3.75 сек\n",
            "Среднее значение функции потерь на обучении 0.008929899766104622\n",
            "Среднее значение функции потерь на валидации 0.9721754683276355\n",
            "\n",
            "Эпоха 22\n",
            "Эпоха: 354 итераций, 3.80 сек\n",
            "Среднее значение функции потерь на обучении 0.00805228688270064\n",
            "Среднее значение функции потерь на валидации 0.9643075909402411\n",
            "Новая лучшая модель!\n",
            "\n",
            "Эпоха 23\n",
            "Эпоха: 354 итераций, 3.71 сек\n",
            "Среднее значение функции потерь на обучении 0.006904429942566775\n",
            "Среднее значение функции потерь на валидации 0.9606402378718731\n",
            "Новая лучшая модель!\n",
            "\n",
            "Эпоха 24\n",
            "Эпоха: 354 итераций, 3.73 сек\n",
            "Среднее значение функции потерь на обучении 0.006508341553689396\n",
            "Среднее значение функции потерь на валидации 0.9588137416768883\n",
            "Новая лучшая модель!\n",
            "\n",
            "Эпоха 25\n",
            "Эпоха: 354 итераций, 3.69 сек\n",
            "Среднее значение функции потерь на обучении 0.006009904183164544\n",
            "Среднее значение функции потерь на валидации 0.9696835600218531\n",
            "\n",
            "Эпоха 26\n",
            "Эпоха: 354 итераций, 3.78 сек\n",
            "Среднее значение функции потерь на обучении 0.0052463598549366\n",
            "Среднее значение функции потерь на валидации 0.9760721728710805\n",
            "\n",
            "Эпоха 27\n",
            "Эпоха: 354 итераций, 3.67 сек\n",
            "Среднее значение функции потерь на обучении 0.004803241329862195\n",
            "Досрочно остановлено пользователем\n"
          ]
        }
      ],
      "source": [
        "\"\"\" моздаем по сути несколько логистический регрессий\"\"\"\n",
        "model = nn.Linear(UNIQUE_WORDS_N, UNIQUE_LABELS_N)\n",
        "\n",
        "scheduler = lambda optim: \\\n",
        "    torch.optim.lr_scheduler.ReduceLROnPlateau(optim, patience=5, factor=0.5, verbose=True)\n",
        "\n",
        "\"\"\"train_eval_loop - обучает модель (учились этому на прошлом курсе)\"\"\"\n",
        "best_val_loss, best_model = train_eval_loop(model=model,\n",
        "                                            train_dataset=train_dataset,\n",
        "                                            val_dataset=test_dataset,\n",
        "                                            criterion=F.cross_entropy,\n",
        "                                            lr=1e-1,\n",
        "                                            epoch_n=200,\n",
        "                                            batch_size=32,\n",
        "                                            l2_reg_alpha=0,\n",
        "                                            lr_scheduler_ctor=scheduler)"
      ]
    },
    {
      "cell_type": "markdown",
      "metadata": {
        "id": "if4UI_0wvGw7"
      },
      "source": [
        "## Оценка качества"
      ]
    },
    {
      "cell_type": "code",
      "execution_count": 110,
      "metadata": {
        "ExecuteTime": {
          "end_time": "2019-09-12T12:46:25.105663Z",
          "start_time": "2019-09-12T12:46:22.373012Z"
        },
        "id": "7QJbjxUhvGw7",
        "colab": {
          "base_uri": "https://localhost:8080/"
        },
        "outputId": "67eaaf85-9e15-46ff-b899-da6fdfcecdab"
      },
      "outputs": [
        {
          "output_type": "stream",
          "name": "stderr",
          "text": [
            "100%|██████████| 354/353.5625 [00:02<00:00, 151.08it/s]\n"
          ]
        },
        {
          "output_type": "stream",
          "name": "stdout",
          "text": [
            "Среднее значение функции потерь на обучении 0.005251995287835598\n",
            "Доля верных ответов 0.9992045253668022\n",
            "\n"
          ]
        },
        {
          "output_type": "stream",
          "name": "stderr",
          "text": [
            "236it [00:01, 155.03it/s]                             "
          ]
        },
        {
          "output_type": "stream",
          "name": "stdout",
          "text": [
            "Среднее значение функции потерь на валидации 0.9575307369232178\n",
            "Доля верных ответов 0.7665958576739246\n"
          ]
        },
        {
          "output_type": "stream",
          "name": "stderr",
          "text": [
            "\n"
          ]
        }
      ],
      "source": [
        "train_pred = predict_with_model(best_model, train_dataset)\n",
        "\n",
        "train_loss = F.cross_entropy(torch.from_numpy(train_pred),\n",
        "                             torch.from_numpy(train_source['target']).long())\n",
        "\n",
        "print('Среднее значение функции потерь на обучении', float(train_loss))\n",
        "print('Доля верных ответов', accuracy_score(train_source['target'], train_pred.argmax(-1)))\n",
        "print()\n",
        "\n",
        "\n",
        "\n",
        "test_pred = predict_with_model(best_model, test_dataset)\n",
        "\n",
        "test_loss = F.cross_entropy(torch.from_numpy(test_pred),\n",
        "                            torch.from_numpy(test_source['target']).long())\n",
        "\n",
        "print('Среднее значение функции потерь на валидации', float(test_loss))\n",
        "print('Доля верных ответов', accuracy_score(test_source['target'], test_pred.argmax(-1)))"
      ]
    },
    {
      "cell_type": "markdown",
      "source": [
        "Доля верных ответов 0.76805629314923 на test\n"
      ],
      "metadata": {
        "id": "9-AfEtSXC58S"
      }
    },
    {
      "cell_type": "markdown",
      "metadata": {
        "id": "vngLgiUkvGw8"
      },
      "source": [
        "# Альтернативная реализация на scikit-learn"
      ]
    },
    {
      "cell_type": "code",
      "execution_count": 107,
      "metadata": {
        "ExecuteTime": {
          "end_time": "2019-09-12T12:46:31.791405Z",
          "start_time": "2019-09-12T12:46:25.107897Z"
        },
        "scrolled": false,
        "id": "rVBjHpKVvGw8"
      },
      "outputs": [],
      "source": [
        "from sklearn.feature_extraction.text import TfidfVectorizer\n",
        "from sklearn.pipeline import Pipeline\n",
        "from sklearn.linear_model import LogisticRegression\n",
        "\n",
        "\"\"\"весь код выше, но в 5 строчках через sklearn \"\"\"\n",
        "sklearn_pipeline = Pipeline((('vect', TfidfVectorizer(tokenizer=tokenize_text_simple_regex,\n",
        "                                                      max_df=MAX_DF,\n",
        "                                                      min_df=MIN_COUNT)),\n",
        "                             ('cls', LogisticRegression())))\n",
        "sklearn_pipeline.fit(train_source['data'], train_source['target']);"
      ]
    },
    {
      "cell_type": "markdown",
      "metadata": {
        "id": "6K4dzbbkvGw8"
      },
      "source": [
        "## Оценка качества"
      ]
    },
    {
      "cell_type": "code",
      "execution_count": 108,
      "metadata": {
        "ExecuteTime": {
          "end_time": "2019-09-12T12:46:35.454567Z",
          "start_time": "2019-09-12T12:46:31.792832Z"
        },
        "id": "xYL4l-2tvGw8",
        "colab": {
          "base_uri": "https://localhost:8080/"
        },
        "outputId": "96a693bf-13e8-4a7e-c953-e80c7e6cb329"
      },
      "outputs": [
        {
          "output_type": "stream",
          "name": "stdout",
          "text": [
            "Среднее значение функции потерь на обучении 2.49547889185785\n",
            "Доля верных ответов 0.9716280714159449\n",
            "\n",
            "Среднее значение функции потерь на валидации 2.6539022582336975\n",
            "Доля верных ответов 0.8190387679235263\n"
          ]
        }
      ],
      "source": [
        "sklearn_train_pred = sklearn_pipeline.predict_proba(train_source['data'])\n",
        "sklearn_train_loss = F.cross_entropy(torch.from_numpy(sklearn_train_pred),\n",
        "                                                 torch.from_numpy(train_source['target']))\n",
        "print('Среднее значение функции потерь на обучении', float(sklearn_train_loss))\n",
        "print('Доля верных ответов', accuracy_score(train_source['target'], sklearn_train_pred.argmax(-1)))\n",
        "print()\n",
        "\n",
        "sklearn_test_pred = sklearn_pipeline.predict_proba(test_source['data'])\n",
        "sklearn_test_loss = F.cross_entropy(torch.from_numpy(sklearn_test_pred),\n",
        "                                                torch.from_numpy(test_source['target']))\n",
        "print('Среднее значение функции потерь на валидации', float(sklearn_test_loss))\n",
        "print('Доля верных ответов', accuracy_score(test_source['target'], sklearn_test_pred.argmax(-1)))"
      ]
    },
    {
      "cell_type": "code",
      "execution_count": null,
      "metadata": {
        "id": "byGG-MbwvGw9"
      },
      "outputs": [],
      "source": [
        ""
      ]
    }
  ],
  "metadata": {
    "kernelspec": {
      "display_name": "Python 3",
      "language": "python",
      "name": "python3"
    },
    "language_info": {
      "codemirror_mode": {
        "name": "ipython",
        "version": 3
      },
      "file_extension": ".py",
      "mimetype": "text/x-python",
      "name": "python",
      "nbconvert_exporter": "python",
      "pygments_lexer": "ipython3",
      "version": "3.6.9"
    },
    "latex_envs": {
      "LaTeX_envs_menu_present": true,
      "autoclose": false,
      "autocomplete": true,
      "bibliofile": "biblio.bib",
      "cite_by": "apalike",
      "current_citInitial": 1,
      "eqLabelWithNumbers": true,
      "eqNumInitial": 1,
      "hotkeys": {
        "equation": "Ctrl-E",
        "itemize": "Ctrl-I"
      },
      "labels_anchors": false,
      "latex_user_defs": false,
      "report_style_numbering": false,
      "user_envs_cfg": false
    },
    "toc": {
      "base_numbering": 1,
      "nav_menu": {},
      "number_sections": true,
      "sideBar": true,
      "skip_h1_title": false,
      "title_cell": "Table of Contents",
      "title_sidebar": "Contents",
      "toc_cell": false,
      "toc_position": {},
      "toc_section_display": true,
      "toc_window_display": true
    },
    "colab": {
      "name": "task1_20newsgroups.ipynb",
      "provenance": [],
      "collapsed_sections": []
    }
  },
  "nbformat": 4,
  "nbformat_minor": 0
}