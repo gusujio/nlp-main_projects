{
  "cells": [
    {
      "cell_type": "markdown",
      "metadata": {
        "id": "qOmuQiyBu0uU"
      },
      "source": [
        "# Аспектный анализ тональности текстов\n",
        "\n",
        " На сегодняшнем семинаре мы рассмотрим задачу анализа тональности текстов на примерах отзывов об автомобилях, и для этого мы будем использовать датасет, который предлагался участникам соревнования SentiRuEval-2015[1]. "
      ]
    },
    {
      "cell_type": "markdown",
      "metadata": {
        "id": "uVnZ_LD8u0uW"
      },
      "source": [
        "* [1] https://github.com/nlpub/pymystem3\n",
        "* [2] SentiRuEval2015\n",
        "* [3] https://rusvectores.org/ru/models/"
      ]
    },
    {
      "cell_type": "code",
      "execution_count": 2,
      "metadata": {
        "colab": {
          "base_uri": "https://localhost:8080/"
        },
        "id": "gLm80Oqvu0uW",
        "outputId": "a8a0ff29-de3a-4254-b3b9-96542a0b116f"
      },
      "outputs": [
        {
          "output_type": "stream",
          "name": "stdout",
          "text": [
            "Cloning into 'stepik-dl-nlp'...\n",
            "remote: Enumerating objects: 289, done.\u001b[K\n",
            "remote: Counting objects: 100% (23/23), done.\u001b[K\n",
            "remote: Compressing objects: 100% (17/17), done.\u001b[K\n",
            "remote: Total 289 (delta 10), reused 14 (delta 6), pack-reused 266\u001b[K\n",
            "Receiving objects: 100% (289/289), 42.27 MiB | 10.84 MiB/s, done.\n",
            "Resolving deltas: 100% (139/139), done.\n",
            "Checking out files: 100% (51/51), done.\n",
            "Requirement already satisfied: scikit-learn in /usr/local/lib/python3.7/dist-packages (from -r stepik-dl-nlp/requirements.txt (line 1)) (1.0.2)\n",
            "Collecting spacy-udpipe\n",
            "  Downloading spacy_udpipe-1.0.0-py3-none-any.whl (11 kB)\n",
            "Collecting pymorphy2\n",
            "  Downloading pymorphy2-0.9.1-py3-none-any.whl (55 kB)\n",
            "\u001b[K     |████████████████████████████████| 55 kB 2.1 MB/s \n",
            "\u001b[?25hRequirement already satisfied: torch>=1.2 in /usr/local/lib/python3.7/dist-packages (from -r stepik-dl-nlp/requirements.txt (line 4)) (1.10.0+cu111)\n",
            "Requirement already satisfied: matplotlib in /usr/local/lib/python3.7/dist-packages (from -r stepik-dl-nlp/requirements.txt (line 5)) (3.2.2)\n",
            "Collecting ipymarkup\n",
            "  Downloading ipymarkup-0.9.0-py3-none-any.whl (14 kB)\n",
            "Requirement already satisfied: lxml in /usr/local/lib/python3.7/dist-packages (from -r stepik-dl-nlp/requirements.txt (line 7)) (4.2.6)\n",
            "Requirement already satisfied: scipy in /usr/local/lib/python3.7/dist-packages (from -r stepik-dl-nlp/requirements.txt (line 8)) (1.4.1)\n",
            "Requirement already satisfied: pandas in /usr/local/lib/python3.7/dist-packages (from -r stepik-dl-nlp/requirements.txt (line 9)) (1.3.5)\n",
            "Requirement already satisfied: tqdm in /usr/local/lib/python3.7/dist-packages (from -r stepik-dl-nlp/requirements.txt (line 10)) (4.62.3)\n",
            "Collecting youtokentome\n",
            "  Downloading youtokentome-1.0.6-cp37-cp37m-manylinux2010_x86_64.whl (1.7 MB)\n",
            "\u001b[K     |████████████████████████████████| 1.7 MB 8.9 MB/s \n",
            "\u001b[?25hRequirement already satisfied: seaborn in /usr/local/lib/python3.7/dist-packages (from -r stepik-dl-nlp/requirements.txt (line 12)) (0.11.2)\n",
            "Requirement already satisfied: ipykernel in /usr/local/lib/python3.7/dist-packages (from -r stepik-dl-nlp/requirements.txt (line 13)) (4.10.1)\n",
            "Requirement already satisfied: ipython in /usr/local/lib/python3.7/dist-packages (from -r stepik-dl-nlp/requirements.txt (line 14)) (5.5.0)\n",
            "Collecting pyconll\n",
            "  Downloading pyconll-3.1.0-py3-none-any.whl (26 kB)\n",
            "Collecting gensim==3.8.1\n",
            "  Downloading gensim-3.8.1-cp37-cp37m-manylinux1_x86_64.whl (24.2 MB)\n",
            "\u001b[K     |████████████████████████████████| 24.2 MB 82.5 MB/s \n",
            "\u001b[?25hCollecting wget\n",
            "  Downloading wget-3.2.zip (10 kB)\n",
            "Collecting livelossplot==0.5.3\n",
            "  Downloading livelossplot-0.5.3-py3-none-any.whl (30 kB)\n",
            "Requirement already satisfied: numpy>=1.11.3 in /usr/local/lib/python3.7/dist-packages (from gensim==3.8.1->-r stepik-dl-nlp/requirements.txt (line 16)) (1.19.5)\n",
            "Requirement already satisfied: smart-open>=1.8.1 in /usr/local/lib/python3.7/dist-packages (from gensim==3.8.1->-r stepik-dl-nlp/requirements.txt (line 16)) (5.2.1)\n",
            "Requirement already satisfied: six>=1.5.0 in /usr/local/lib/python3.7/dist-packages (from gensim==3.8.1->-r stepik-dl-nlp/requirements.txt (line 16)) (1.15.0)\n",
            "Requirement already satisfied: bokeh in /usr/local/lib/python3.7/dist-packages (from livelossplot==0.5.3->-r stepik-dl-nlp/requirements.txt (line 18)) (2.3.3)\n",
            "Requirement already satisfied: typing-extensions in /usr/local/lib/python3.7/dist-packages (from torch>=1.2->-r stepik-dl-nlp/requirements.txt (line 4)) (3.10.0.2)\n",
            "Requirement already satisfied: joblib>=0.11 in /usr/local/lib/python3.7/dist-packages (from scikit-learn->-r stepik-dl-nlp/requirements.txt (line 1)) (1.1.0)\n",
            "Requirement already satisfied: threadpoolctl>=2.0.0 in /usr/local/lib/python3.7/dist-packages (from scikit-learn->-r stepik-dl-nlp/requirements.txt (line 1)) (3.0.0)\n",
            "Collecting spacy<4.0.0,>=3.0.0\n",
            "  Downloading spacy-3.2.1-cp37-cp37m-manylinux_2_17_x86_64.manylinux2014_x86_64.whl (6.0 MB)\n",
            "\u001b[K     |████████████████████████████████| 6.0 MB 47.9 MB/s \n",
            "\u001b[?25hCollecting ufal.udpipe>=1.2.0\n",
            "  Downloading ufal.udpipe-1.2.0.3.tar.gz (304 kB)\n",
            "\u001b[K     |████████████████████████████████| 304 kB 41.8 MB/s \n",
            "\u001b[?25hCollecting typer<0.5.0,>=0.3.0\n",
            "  Downloading typer-0.4.0-py3-none-any.whl (27 kB)\n",
            "Requirement already satisfied: setuptools in /usr/local/lib/python3.7/dist-packages (from spacy<4.0.0,>=3.0.0->spacy-udpipe->-r stepik-dl-nlp/requirements.txt (line 2)) (57.4.0)\n",
            "Requirement already satisfied: packaging>=20.0 in /usr/local/lib/python3.7/dist-packages (from spacy<4.0.0,>=3.0.0->spacy-udpipe->-r stepik-dl-nlp/requirements.txt (line 2)) (21.3)\n",
            "Requirement already satisfied: murmurhash<1.1.0,>=0.28.0 in /usr/local/lib/python3.7/dist-packages (from spacy<4.0.0,>=3.0.0->spacy-udpipe->-r stepik-dl-nlp/requirements.txt (line 2)) (1.0.6)\n",
            "Collecting langcodes<4.0.0,>=3.2.0\n",
            "  Downloading langcodes-3.3.0-py3-none-any.whl (181 kB)\n",
            "\u001b[K     |████████████████████████████████| 181 kB 56.0 MB/s \n",
            "\u001b[?25hCollecting srsly<3.0.0,>=2.4.1\n",
            "  Downloading srsly-2.4.2-cp37-cp37m-manylinux_2_17_x86_64.manylinux2014_x86_64.whl (451 kB)\n",
            "\u001b[K     |████████████████████████████████| 451 kB 55.6 MB/s \n",
            "\u001b[?25hCollecting pathy>=0.3.5\n",
            "  Downloading pathy-0.6.1-py3-none-any.whl (42 kB)\n",
            "\u001b[K     |████████████████████████████████| 42 kB 1.3 MB/s \n",
            "\u001b[?25hRequirement already satisfied: preshed<3.1.0,>=3.0.2 in /usr/local/lib/python3.7/dist-packages (from spacy<4.0.0,>=3.0.0->spacy-udpipe->-r stepik-dl-nlp/requirements.txt (line 2)) (3.0.6)\n",
            "Requirement already satisfied: requests<3.0.0,>=2.13.0 in /usr/local/lib/python3.7/dist-packages (from spacy<4.0.0,>=3.0.0->spacy-udpipe->-r stepik-dl-nlp/requirements.txt (line 2)) (2.23.0)\n",
            "Requirement already satisfied: jinja2 in /usr/local/lib/python3.7/dist-packages (from spacy<4.0.0,>=3.0.0->spacy-udpipe->-r stepik-dl-nlp/requirements.txt (line 2)) (2.11.3)\n",
            "Collecting thinc<8.1.0,>=8.0.12\n",
            "  Downloading thinc-8.0.13-cp37-cp37m-manylinux_2_17_x86_64.manylinux2014_x86_64.whl (628 kB)\n",
            "\u001b[K     |████████████████████████████████| 628 kB 58.7 MB/s \n",
            "\u001b[?25hRequirement already satisfied: cymem<2.1.0,>=2.0.2 in /usr/local/lib/python3.7/dist-packages (from spacy<4.0.0,>=3.0.0->spacy-udpipe->-r stepik-dl-nlp/requirements.txt (line 2)) (2.0.6)\n",
            "Collecting pydantic!=1.8,!=1.8.1,<1.9.0,>=1.7.4\n",
            "  Downloading pydantic-1.8.2-cp37-cp37m-manylinux2014_x86_64.whl (10.1 MB)\n",
            "\u001b[K     |████████████████████████████████| 10.1 MB 32.7 MB/s \n",
            "\u001b[?25hRequirement already satisfied: blis<0.8.0,>=0.4.0 in /usr/local/lib/python3.7/dist-packages (from spacy<4.0.0,>=3.0.0->spacy-udpipe->-r stepik-dl-nlp/requirements.txt (line 2)) (0.4.1)\n",
            "Collecting spacy-legacy<3.1.0,>=3.0.8\n",
            "  Downloading spacy_legacy-3.0.8-py2.py3-none-any.whl (14 kB)\n",
            "Collecting spacy-loggers<2.0.0,>=1.0.0\n",
            "  Downloading spacy_loggers-1.0.1-py3-none-any.whl (7.0 kB)\n",
            "Requirement already satisfied: wasabi<1.1.0,>=0.8.1 in /usr/local/lib/python3.7/dist-packages (from spacy<4.0.0,>=3.0.0->spacy-udpipe->-r stepik-dl-nlp/requirements.txt (line 2)) (0.9.0)\n",
            "Collecting catalogue<2.1.0,>=2.0.6\n",
            "  Downloading catalogue-2.0.6-py3-none-any.whl (17 kB)\n",
            "Requirement already satisfied: zipp>=0.5 in /usr/local/lib/python3.7/dist-packages (from catalogue<2.1.0,>=2.0.6->spacy<4.0.0,>=3.0.0->spacy-udpipe->-r stepik-dl-nlp/requirements.txt (line 2)) (3.7.0)\n",
            "Requirement already satisfied: pyparsing!=3.0.5,>=2.0.2 in /usr/local/lib/python3.7/dist-packages (from packaging>=20.0->spacy<4.0.0,>=3.0.0->spacy-udpipe->-r stepik-dl-nlp/requirements.txt (line 2)) (3.0.7)\n",
            "Requirement already satisfied: urllib3!=1.25.0,!=1.25.1,<1.26,>=1.21.1 in /usr/local/lib/python3.7/dist-packages (from requests<3.0.0,>=2.13.0->spacy<4.0.0,>=3.0.0->spacy-udpipe->-r stepik-dl-nlp/requirements.txt (line 2)) (1.24.3)\n",
            "Requirement already satisfied: idna<3,>=2.5 in /usr/local/lib/python3.7/dist-packages (from requests<3.0.0,>=2.13.0->spacy<4.0.0,>=3.0.0->spacy-udpipe->-r stepik-dl-nlp/requirements.txt (line 2)) (2.10)\n",
            "Requirement already satisfied: chardet<4,>=3.0.2 in /usr/local/lib/python3.7/dist-packages (from requests<3.0.0,>=2.13.0->spacy<4.0.0,>=3.0.0->spacy-udpipe->-r stepik-dl-nlp/requirements.txt (line 2)) (3.0.4)\n",
            "Requirement already satisfied: certifi>=2017.4.17 in /usr/local/lib/python3.7/dist-packages (from requests<3.0.0,>=2.13.0->spacy<4.0.0,>=3.0.0->spacy-udpipe->-r stepik-dl-nlp/requirements.txt (line 2)) (2021.10.8)\n",
            "Requirement already satisfied: click<9.0.0,>=7.1.1 in /usr/local/lib/python3.7/dist-packages (from typer<0.5.0,>=0.3.0->spacy<4.0.0,>=3.0.0->spacy-udpipe->-r stepik-dl-nlp/requirements.txt (line 2)) (7.1.2)\n",
            "Requirement already satisfied: docopt>=0.6 in /usr/local/lib/python3.7/dist-packages (from pymorphy2->-r stepik-dl-nlp/requirements.txt (line 3)) (0.6.2)\n",
            "Collecting dawg-python>=0.7.1\n",
            "  Downloading DAWG_Python-0.7.2-py2.py3-none-any.whl (11 kB)\n",
            "Collecting pymorphy2-dicts-ru<3.0,>=2.4\n",
            "  Downloading pymorphy2_dicts_ru-2.4.417127.4579844-py2.py3-none-any.whl (8.2 MB)\n",
            "\u001b[K     |████████████████████████████████| 8.2 MB 31.8 MB/s \n",
            "\u001b[?25hRequirement already satisfied: python-dateutil>=2.1 in /usr/local/lib/python3.7/dist-packages (from matplotlib->-r stepik-dl-nlp/requirements.txt (line 5)) (2.8.2)\n",
            "Requirement already satisfied: cycler>=0.10 in /usr/local/lib/python3.7/dist-packages (from matplotlib->-r stepik-dl-nlp/requirements.txt (line 5)) (0.11.0)\n",
            "Requirement already satisfied: kiwisolver>=1.0.1 in /usr/local/lib/python3.7/dist-packages (from matplotlib->-r stepik-dl-nlp/requirements.txt (line 5)) (1.3.2)\n",
            "Collecting intervaltree>=3\n",
            "  Downloading intervaltree-3.1.0.tar.gz (32 kB)\n",
            "Requirement already satisfied: sortedcontainers<3.0,>=2.0 in /usr/local/lib/python3.7/dist-packages (from intervaltree>=3->ipymarkup->-r stepik-dl-nlp/requirements.txt (line 6)) (2.4.0)\n",
            "Requirement already satisfied: pytz>=2017.3 in /usr/local/lib/python3.7/dist-packages (from pandas->-r stepik-dl-nlp/requirements.txt (line 9)) (2018.9)\n",
            "Requirement already satisfied: jupyter-client in /usr/local/lib/python3.7/dist-packages (from ipykernel->-r stepik-dl-nlp/requirements.txt (line 13)) (5.3.5)\n",
            "Requirement already satisfied: traitlets>=4.1.0 in /usr/local/lib/python3.7/dist-packages (from ipykernel->-r stepik-dl-nlp/requirements.txt (line 13)) (5.1.1)\n",
            "Requirement already satisfied: tornado>=4.0 in /usr/local/lib/python3.7/dist-packages (from ipykernel->-r stepik-dl-nlp/requirements.txt (line 13)) (5.1.1)\n",
            "Requirement already satisfied: decorator in /usr/local/lib/python3.7/dist-packages (from ipython->-r stepik-dl-nlp/requirements.txt (line 14)) (4.4.2)\n",
            "Requirement already satisfied: simplegeneric>0.8 in /usr/local/lib/python3.7/dist-packages (from ipython->-r stepik-dl-nlp/requirements.txt (line 14)) (0.8.1)\n",
            "Requirement already satisfied: pexpect in /usr/local/lib/python3.7/dist-packages (from ipython->-r stepik-dl-nlp/requirements.txt (line 14)) (4.8.0)\n",
            "Requirement already satisfied: pickleshare in /usr/local/lib/python3.7/dist-packages (from ipython->-r stepik-dl-nlp/requirements.txt (line 14)) (0.7.5)\n",
            "Requirement already satisfied: pygments in /usr/local/lib/python3.7/dist-packages (from ipython->-r stepik-dl-nlp/requirements.txt (line 14)) (2.6.1)\n",
            "Requirement already satisfied: prompt-toolkit<2.0.0,>=1.0.4 in /usr/local/lib/python3.7/dist-packages (from ipython->-r stepik-dl-nlp/requirements.txt (line 14)) (1.0.18)\n",
            "Requirement already satisfied: wcwidth in /usr/local/lib/python3.7/dist-packages (from prompt-toolkit<2.0.0,>=1.0.4->ipython->-r stepik-dl-nlp/requirements.txt (line 14)) (0.2.5)\n",
            "Requirement already satisfied: PyYAML>=3.10 in /usr/local/lib/python3.7/dist-packages (from bokeh->livelossplot==0.5.3->-r stepik-dl-nlp/requirements.txt (line 18)) (3.13)\n",
            "Requirement already satisfied: pillow>=7.1.0 in /usr/local/lib/python3.7/dist-packages (from bokeh->livelossplot==0.5.3->-r stepik-dl-nlp/requirements.txt (line 18)) (7.1.2)\n",
            "Requirement already satisfied: MarkupSafe>=0.23 in /usr/local/lib/python3.7/dist-packages (from jinja2->spacy<4.0.0,>=3.0.0->spacy-udpipe->-r stepik-dl-nlp/requirements.txt (line 2)) (2.0.1)\n",
            "Requirement already satisfied: pyzmq>=13 in /usr/local/lib/python3.7/dist-packages (from jupyter-client->ipykernel->-r stepik-dl-nlp/requirements.txt (line 13)) (22.3.0)\n",
            "Requirement already satisfied: jupyter-core>=4.6.0 in /usr/local/lib/python3.7/dist-packages (from jupyter-client->ipykernel->-r stepik-dl-nlp/requirements.txt (line 13)) (4.9.1)\n",
            "Requirement already satisfied: ptyprocess>=0.5 in /usr/local/lib/python3.7/dist-packages (from pexpect->ipython->-r stepik-dl-nlp/requirements.txt (line 14)) (0.7.0)\n",
            "Building wheels for collected packages: ufal.udpipe, intervaltree, wget\n",
            "  Building wheel for ufal.udpipe (setup.py) ... \u001b[?25l\u001b[?25hdone\n",
            "  Created wheel for ufal.udpipe: filename=ufal.udpipe-1.2.0.3-cp37-cp37m-linux_x86_64.whl size=5626659 sha256=f0648c8a7edcc4413a701390dd3a6799d2be562f775bfca7e91a5fe37498a4fb\n",
            "  Stored in directory: /root/.cache/pip/wheels/b8/b5/8e/3da091629a21ce2d10bf90759d0cb034ba10a5cf7a01e83d64\n",
            "  Building wheel for intervaltree (setup.py) ... \u001b[?25l\u001b[?25hdone\n",
            "  Created wheel for intervaltree: filename=intervaltree-3.1.0-py2.py3-none-any.whl size=26119 sha256=96313dd98b44a98f84707aeb3531b875f767905e8adb1b1a57074a1b9c4fe9ff\n",
            "  Stored in directory: /root/.cache/pip/wheels/16/85/bd/1001cbb46dcfb71c2001cd7401c6fb250392f22a81ce3722f7\n",
            "  Building wheel for wget (setup.py) ... \u001b[?25l\u001b[?25hdone\n",
            "  Created wheel for wget: filename=wget-3.2-py3-none-any.whl size=9675 sha256=ab59670840567b8de153c45d912d6e47811d09cd33d6129afd73fd2b17c92581\n",
            "  Stored in directory: /root/.cache/pip/wheels/a1/b6/7c/0e63e34eb06634181c63adacca38b79ff8f35c37e3c13e3c02\n",
            "Successfully built ufal.udpipe intervaltree wget\n",
            "Installing collected packages: catalogue, typer, srsly, pydantic, thinc, spacy-loggers, spacy-legacy, pathy, langcodes, ufal.udpipe, spacy, pymorphy2-dicts-ru, intervaltree, dawg-python, youtokentome, wget, spacy-udpipe, pymorphy2, pyconll, livelossplot, ipymarkup, gensim\n",
            "  Attempting uninstall: catalogue\n",
            "    Found existing installation: catalogue 1.0.0\n",
            "    Uninstalling catalogue-1.0.0:\n",
            "      Successfully uninstalled catalogue-1.0.0\n",
            "  Attempting uninstall: srsly\n",
            "    Found existing installation: srsly 1.0.5\n",
            "    Uninstalling srsly-1.0.5:\n",
            "      Successfully uninstalled srsly-1.0.5\n",
            "  Attempting uninstall: thinc\n",
            "    Found existing installation: thinc 7.4.0\n",
            "    Uninstalling thinc-7.4.0:\n",
            "      Successfully uninstalled thinc-7.4.0\n",
            "  Attempting uninstall: spacy\n",
            "    Found existing installation: spacy 2.2.4\n",
            "    Uninstalling spacy-2.2.4:\n",
            "      Successfully uninstalled spacy-2.2.4\n",
            "  Attempting uninstall: intervaltree\n",
            "    Found existing installation: intervaltree 2.1.0\n",
            "    Uninstalling intervaltree-2.1.0:\n",
            "      Successfully uninstalled intervaltree-2.1.0\n",
            "  Attempting uninstall: gensim\n",
            "    Found existing installation: gensim 3.6.0\n",
            "    Uninstalling gensim-3.6.0:\n",
            "      Successfully uninstalled gensim-3.6.0\n",
            "Successfully installed catalogue-2.0.6 dawg-python-0.7.2 gensim-3.8.1 intervaltree-3.1.0 ipymarkup-0.9.0 langcodes-3.3.0 livelossplot-0.5.3 pathy-0.6.1 pyconll-3.1.0 pydantic-1.8.2 pymorphy2-0.9.1 pymorphy2-dicts-ru-2.4.417127.4579844 spacy-3.2.1 spacy-legacy-3.0.8 spacy-loggers-1.0.1 spacy-udpipe-1.0.0 srsly-2.4.2 thinc-8.0.13 typer-0.4.0 ufal.udpipe-1.2.0.3 wget-3.2 youtokentome-1.0.6\n"
          ]
        }
      ],
      "source": [
        "# Если Вы запускаете ноутбук на colab или kaggle,\n",
        "# выполните следующие строчки, чтобы подгрузить библиотеку dlnlputils:\n",
        "\n",
        "!git clone https://github.com/Samsung-IT-Academy/stepik-dl-nlp.git && pip install -r stepik-dl-nlp/requirements.txt\n",
        "import sys; sys.path.append('./stepik-dl-nlp')"
      ]
    },
    {
      "cell_type": "code",
      "execution_count": 3,
      "metadata": {
        "colab": {
          "base_uri": "https://localhost:8080/"
        },
        "id": "h9tDQEqKu0uZ",
        "outputId": "462af709-c433-457e-d893-0aaa4be27272"
      },
      "outputs": [
        {
          "output_type": "execute_result",
          "data": {
            "text/plain": [
              "<torch._C.Generator at 0x7f4fb2624e70>"
            ]
          },
          "metadata": {},
          "execution_count": 3
        }
      ],
      "source": [
        "import torch\n",
        "import torch.nn as nn\n",
        "import torch.nn.functional as F\n",
        "import torch.optim as optim\n",
        "\n",
        "import random\n",
        "import numpy as np\n",
        "import matplotlib.pyplot as plt\n",
        "%matplotlib inline\n",
        "\n",
        "torch.manual_seed(1)"
      ]
    },
    {
      "cell_type": "markdown",
      "metadata": {
        "id": "ZUrzPatGu0ua"
      },
      "source": [
        "## Оригинальная разметка\n"
      ]
    },
    {
      "cell_type": "code",
      "execution_count": 11,
      "metadata": {
        "id": "po4Dm7bRu0ua"
      },
      "outputs": [],
      "source": [
        "# Если Вы запускаете ноутбук на colab или kaggle, добавьте в начало пути ./stepik-dl-nlp\n",
        "xml_sentiments = './stepik-dl-nlp/datasets/sentirueval2015/SentiRuEval_car_markup_train.xml'"
      ]
    },
    {
      "cell_type": "code",
      "execution_count": 12,
      "metadata": {
        "id": "qZB0_pKzu0ub"
      },
      "outputs": [],
      "source": [
        "from dlnlputils.sentiment_utils import parse_xml_sentiment, parse_xml_aspect, show_markup"
      ]
    },
    {
      "cell_type": "markdown",
      "metadata": {
        "id": "KPFzXGqbu0uc"
      },
      "source": [
        "тексты с разметкой аспектов и тональностей: "
      ]
    },
    {
      "cell_type": "code",
      "execution_count": 13,
      "metadata": {
        "id": "ddcz7m56u0uc"
      },
      "outputs": [],
      "source": [
        "texts_w_sentiment_spans = parse_xml_sentiment(xml_sentiments)\n",
        "texts_w_aspect_spans    = parse_xml_aspect(xml_sentiments)"
      ]
    },
    {
      "cell_type": "code",
      "execution_count": 14,
      "metadata": {
        "colab": {
          "base_uri": "https://localhost:8080/"
        },
        "id": "FBJqe7UEu0ud",
        "outputId": "9cb32634-aeb0-42c1-9bbb-d9cfa9e65ae0"
      },
      "outputs": [
        {
          "output_type": "stream",
          "name": "stdout",
          "text": [
            "Загружено 217 текстов с разметкой тональности\n",
            "\n"
          ]
        }
      ],
      "source": [
        "amount = len(texts_w_sentiment_spans)\n",
        "\n",
        "print('Загружено {} текстов с разметкой тональности\\n'.format(amount))"
      ]
    },
    {
      "cell_type": "markdown",
      "metadata": {
        "id": "qXCl-TI3u0ue"
      },
      "source": [
        "##### выберем 2 текста, на которых будем рассматривать все примеры:"
      ]
    },
    {
      "cell_type": "code",
      "execution_count": 15,
      "metadata": {
        "id": "0q8An_29u0ue"
      },
      "outputs": [],
      "source": [
        "random_picks = [random.randint(0,amount-1) for _ in range(0,2)]"
      ]
    },
    {
      "cell_type": "markdown",
      "metadata": {
        "id": "WDvzsGdiu0uf"
      },
      "source": [
        "####  тональность (sentiment)\n",
        "\n",
        "Содержимое этих файлов выглядит следующим образом: в отзыве присутствует разметка, в которой выделены ключевые слова в тексте, означающие позитивную, нейтральную или негативную оценку. Например, \"просторный багажник\" — это пример позитивной оценки в отзыве об автомобиле. А такие слова, как \"руль закрывает обзор\" — это явно негативная часть отзыва. Также, помимо тональности, у нас есть аспекты — категории, которые упомянуты в отзыве. Посмотрим, как они выглядят. Помимо тональной разметки в датасете также содержится аспектная разметка. Проще говоря, в отзывах есть некие аспекты или категории, о которых написан отзыв, например — \"общее впечатление\" об автомобиле, \"надёжность\""
      ]
    },
    {
      "cell_type": "code",
      "execution_count": 16,
      "metadata": {
        "scrolled": true,
        "colab": {
          "base_uri": "https://localhost:8080/",
          "height": 174
        },
        "id": "atU70JCru0uf",
        "outputId": "05a29991-459f-4a2d-a843-3765196c19ab"
      },
      "outputs": [
        {
          "output_type": "stream",
          "name": "stdout",
          "text": [
            "Текст №: 107\n"
          ]
        },
        {
          "output_type": "display_data",
          "data": {
            "text/html": [
              "<div class=\"tex2jax_ignore\" style=\"white-space: pre-wrap\">Хороший <span style=\"padding: 2px; border-radius: 4px; border: 1px solid #c8e6c9; background: #e8f5e9\">немец<span style=\"vertical-align: middle; margin-left: 2px; font-size: 0.7em; color: #66bb6a;\">positive</span></span>, это легендарный <span style=\"padding: 2px; border-radius: 4px; border: 1px solid #c8e6c9; background: #e8f5e9\">автомобиль<span style=\"vertical-align: middle; margin-left: 2px; font-size: 0.7em; color: #66bb6a;\">positive</span></span>. <span style=\"padding: 2px; border-radius: 4px; border: 1px solid #ffe0b2; background: #fff3e0\">под капотом<span style=\"vertical-align: middle; margin-left: 2px; font-size: 0.7em; color: #ffb74d;\">neutral</span></span> v8 c двумя <span style=\"padding: 2px; border-radius: 4px; border: 1px solid #c8e6c9; background: #e8f5e9\">надувами<span style=\"vertical-align: middle; margin-left: 2px; font-size: 0.7em; color: #66bb6a;\">positive</span></span>, 500л. с. хорошие показатели для гонок, но и <span style=\"padding: 2px; border-radius: 4px; border: 1px solid #c8e6c9; background: #e8f5e9\">проходимость<span style=\"vertical-align: middle; margin-left: 2px; font-size: 0.7em; color: #66bb6a;\">positive</span></span> у него очень хорошая с <span style=\"padding: 2px; border-radius: 4px; border: 1px solid #c8e6c9; background: #e8f5e9\">понижающей передачей<span style=\"vertical-align: middle; margin-left: 2px; font-size: 0.7em; color: #66bb6a;\">positive</span></span> и <span style=\"padding: 2px; border-radius: 4px; border: 1px solid #c8e6c9; background: #e8f5e9\">блокировки 3-х дифференциалов<span style=\"vertical-align: middle; margin-left: 2px; font-size: 0.7em; color: #66bb6a;\">positive</span></span>. <span style=\"padding: 2px; border-radius: 4px; border: 1px solid #ffcdd2; background: #ffebee\">Салон<span style=\"vertical-align: middle; margin-left: 2px; font-size: 0.7em; color: #e57373;\">negative</span></span> не очень. <span style=\"padding: 2px; border-radius: 4px; border: 1px solid #ffcdd2; background: #ffebee\">задние сиденья<span style=\"vertical-align: middle; margin-left: 2px; font-size: 0.7em; color: #e57373;\">negative</span></span> <span style=\"padding: 2px; border-radius: 4px; border: 1px solid #ffcdd2; background: #ffebee\">не регулируются<span style=\"vertical-align: middle; margin-left: 2px; font-size: 0.7em; color: #e57373;\">negative</span></span> совсем. <span style=\"padding: 2px; border-radius: 4px; border: 1px solid #c8e6c9; background: #e8f5e9\">передние сиденья<span style=\"vertical-align: middle; margin-left: 2px; font-size: 0.7em; color: #66bb6a;\">positive</span></span> <span style=\"padding: 2px; border-radius: 4px; border: 1px solid #c8e6c9; background: #e8f5e9\">регулируются<span style=\"vertical-align: middle; margin-left: 2px; font-size: 0.7em; color: #66bb6a;\">positive</span></span>. Общее впечатление : хорошее</div>"
            ],
            "text/plain": [
              "<IPython.core.display.HTML object>"
            ]
          },
          "metadata": {}
        },
        {
          "output_type": "stream",
          "name": "stdout",
          "text": [
            "Текст №: 76\n"
          ]
        },
        {
          "output_type": "display_data",
          "data": {
            "text/html": [
              "<div class=\"tex2jax_ignore\" style=\"white-space: pre-wrap\">Сегодня я купил <span style=\"padding: 2px; border-radius: 4px; border: 1px solid #ffe0b2; background: #fff3e0\">машину лада гранта<span style=\"vertical-align: middle; margin-left: 2px; font-size: 0.7em; color: #ffb74d;\">neutral</span></span> и ни как не могу ее продать начнем с покупки <span style=\"padding: 2px; border-radius: 4px; border: 1px solid #ffe0b2; background: #fff3e0\">машина<span style=\"vertical-align: middle; margin-left: 2px; font-size: 0.7em; color: #ffb74d;\">neutral</span></span> мне обошлась в четыреста восемдесят тысяч <span style=\"padding: 2px; border-radius: 4px; border: 1px solid #ffe0b2; background: #fff3e0\">рублей<span style=\"vertical-align: middle; margin-left: 2px; font-size: 0.7em; color: #ffb74d;\">neutral</span></span> на реканий на <span style=\"padding: 2px; border-radius: 4px; border: 1px solid #c8e6c9; background: #e8f5e9\">машину<span style=\"vertical-align: middle; margin-left: 2px; font-size: 0.7em; color: #66bb6a;\">positive</span></span> нет <span style=\"padding: 2px; border-radius: 4px; border: 1px solid #ffe0b2; background: #fff3e0\">стоимость масла<span style=\"vertical-align: middle; margin-left: 2px; font-size: 0.7em; color: #ffb74d;\">neutral</span></span> 850 рублей замена бампера 5000 <span style=\"padding: 2px; border-radius: 4px; border: 1px solid #ffe0b2; background: #fff3e0\">рублей<span style=\"vertical-align: middle; margin-left: 2px; font-size: 0.7em; color: #ffb74d;\">neutral</span></span> если собираетесь делать <span style=\"padding: 2px; border-radius: 4px; border: 1px solid #ffe0b2; background: #fff3e0\">ремонт машины<span style=\"vertical-align: middle; margin-left: 2px; font-size: 0.7em; color: #ffb74d;\">neutral</span></span> капитально, то <span style=\"padding: 2px; border-radius: 4px; border: 1px solid #ffe0b2; background: #fff3e0\">стоимость<span style=\"vertical-align: middle; margin-left: 2px; font-size: 0.7em; color: #ffb74d;\">neutral</span></span> обойдется в районе 200000 рублей <span style=\"padding: 2px; border-radius: 4px; border: 1px solid #ffe0b2; background: #fff3e0\">мощьность<span style=\"vertical-align: middle; margin-left: 2px; font-size: 0.7em; color: #ffb74d;\">neutral</span></span> у нее 100 <span style=\"padding: 2px; border-radius: 4px; border: 1px solid #ffe0b2; background: #fff3e0\">лошадей<span style=\"vertical-align: middle; margin-left: 2px; font-size: 0.7em; color: #ffb74d;\">neutral</span></span> <span style=\"padding: 2px; border-radius: 4px; border: 1px solid #ffe0b2; background: #fff3e0\">макс скорость<span style=\"vertical-align: middle; margin-left: 2px; font-size: 0.7em; color: #ffb74d;\">neutral</span></span> 185 км в час. Общее впечатление : замечательный <span style=\"padding: 2px; border-radius: 4px; border: 1px solid #c8e6c9; background: #e8f5e9\">автомобиль<span style=\"vertical-align: middle; margin-left: 2px; font-size: 0.7em; color: #66bb6a;\">positive</span></span></div>"
            ],
            "text/plain": [
              "<IPython.core.display.HTML object>"
            ]
          },
          "metadata": {}
        }
      ],
      "source": [
        "for rand_i in random_picks:\n",
        "    text, spans = texts_w_sentiment_spans[rand_i]\n",
        "    \n",
        "    print('Текст №:',rand_i)\n",
        "    show_markup(text,spans)"
      ]
    },
    {
      "cell_type": "markdown",
      "metadata": {
        "id": "YTHU44Neu0uh"
      },
      "source": [
        "####  Аспекты (aspects)\n",
        "\n"
      ]
    },
    {
      "cell_type": "code",
      "execution_count": null,
      "metadata": {
        "scrolled": true,
        "id": "pDfszHxqu0uh",
        "outputId": "a40f80c9-61e9-40e3-9bbf-c8faedd76a92"
      },
      "outputs": [
        {
          "name": "stdout",
          "output_type": "stream",
          "text": [
            "Текст №: 76\n"
          ]
        },
        {
          "data": {
            "text/html": [
              "<div class=\"tex2jax_ignore\" style=\"white-space: pre-wrap\">Сегодня я купил <span style=\"padding: 2px; border-radius: 4px; border: 1px solid #ffcdd2; background: #ffebee\">машину лада гранта<span style=\"vertical-align: middle; margin-left: 2px; font-size: 0.7em; color: #e57373;\">Whole</span></span> и ни как не могу ее продать начнем с покупки <span style=\"padding: 2px; border-radius: 4px; border: 1px solid #ffcdd2; background: #ffebee\">машина<span style=\"vertical-align: middle; margin-left: 2px; font-size: 0.7em; color: #e57373;\">Costs</span></span> мне обошлась в четыреста восемдесят тысяч <span style=\"padding: 2px; border-radius: 4px; border: 1px solid #ffcdd2; background: #ffebee\">рублей<span style=\"vertical-align: middle; margin-left: 2px; font-size: 0.7em; color: #e57373;\">Costs</span></span> на реканий на <span style=\"padding: 2px; border-radius: 4px; border: 1px solid #ffcdd2; background: #ffebee\">машину<span style=\"vertical-align: middle; margin-left: 2px; font-size: 0.7em; color: #e57373;\">Whole</span></span> нет <span style=\"padding: 2px; border-radius: 4px; border: 1px solid #ffcdd2; background: #ffebee\">стоимость масла<span style=\"vertical-align: middle; margin-left: 2px; font-size: 0.7em; color: #e57373;\">Costs</span></span> 850 рублей замена бампера 5000 <span style=\"padding: 2px; border-radius: 4px; border: 1px solid #ffcdd2; background: #ffebee\">рублей<span style=\"vertical-align: middle; margin-left: 2px; font-size: 0.7em; color: #e57373;\">Costs</span></span> если собираетесь делать <span style=\"padding: 2px; border-radius: 4px; border: 1px solid #ffcdd2; background: #ffebee\">ремонт машины<span style=\"vertical-align: middle; margin-left: 2px; font-size: 0.7em; color: #e57373;\">Costs</span></span> капитально, то <span style=\"padding: 2px; border-radius: 4px; border: 1px solid #ffcdd2; background: #ffebee\">стоимость<span style=\"vertical-align: middle; margin-left: 2px; font-size: 0.7em; color: #e57373;\">Costs</span></span> обойдется в районе 200000 рублей <span style=\"padding: 2px; border-radius: 4px; border: 1px solid #bbdefb; background: #e3f2fd\">мощьность<span style=\"vertical-align: middle; margin-left: 2px; font-size: 0.7em; color: #64b5f6;\">Driveability</span></span> у нее 100 <span style=\"padding: 2px; border-radius: 4px; border: 1px solid #bbdefb; background: #e3f2fd\">лошадей<span style=\"vertical-align: middle; margin-left: 2px; font-size: 0.7em; color: #64b5f6;\">Driveability</span></span> <span style=\"padding: 2px; border-radius: 4px; border: 1px solid #bbdefb; background: #e3f2fd\">макс скорость<span style=\"vertical-align: middle; margin-left: 2px; font-size: 0.7em; color: #64b5f6;\">Driveability</span></span> 185 км в час. Общее впечатление : замечательный <span style=\"padding: 2px; border-radius: 4px; border: 1px solid #ffcdd2; background: #ffebee\">автомобиль<span style=\"vertical-align: middle; margin-left: 2px; font-size: 0.7em; color: #e57373;\">Whole</span></span></div>"
            ],
            "text/plain": [
              "BoxMarkup('Сегодня я купил машину лада гранта и ни как не могу ее продать начнем с покупки машина мне обошлась в четыреста восемдесят тысяч рублей на реканий на машину нет стоимость масла 850 рублей замена бампера 5000 рублей если собираетесь делать ремонт машины капитально, то стоимость обойдется в районе 200000 рублей мощьность у нее 100 лошадей макс скорость 185 км в час. Общее впечатление : замечательный автомобиль',\n",
              "          [Span(16, 34, 'Whole'),\n",
              "           Span(80, 86, 'Costs'),\n",
              "           Span(129, 135, 'Costs'),\n",
              "           Span(150, 156, 'Whole'),\n",
              "           Span(161, 176, 'Costs'),\n",
              "           Span(208, 214, 'Costs'),\n",
              "           Span(239, 252, 'Costs'),\n",
              "           Span(268, 277, 'Costs'),\n",
              "           Span(311, 320, 'Driveability'),\n",
              "           Span(331, 338, 'Driveability'),\n",
              "           Span(339, 352, 'Driveability'),\n",
              "           Span(401, 411, 'Whole')])"
            ]
          },
          "metadata": {},
          "output_type": "display_data"
        },
        {
          "name": "stdout",
          "output_type": "stream",
          "text": [
            "Текст №: 43\n"
          ]
        },
        {
          "data": {
            "text/html": [
              "<div class=\"tex2jax_ignore\" style=\"white-space: pre-wrap\">Начну с того, что на <span style=\"padding: 2px; border-radius: 4px; border: 1px solid #ffcdd2; background: #ffebee\">Тойоте Хайс<span style=\"vertical-align: middle; margin-left: 2px; font-size: 0.7em; color: #e57373;\">Whole</span></span> работает мой муж и уже давненько. Поначалу <span style=\"padding: 2px; border-radius: 4px; border: 1px solid #ffcdd2; background: #ffebee\">машинка<span style=\"vertical-align: middle; margin-left: 2px; font-size: 0.7em; color: #e57373;\">Whole</span></span> очень понравилась и <span style=\"padding: 2px; border-radius: 4px; border: 1px solid #bbdefb; background: #e3f2fd\">внешне<span style=\"vertical-align: middle; margin-left: 2px; font-size: 0.7em; color: #64b5f6;\">Appearance</span></span>, и внутренне. Муж был просто в восторге, что его по работе пересадили с <span style=\"padding: 2px; border-radius: 4px; border: 1px solid #ffcdd2; background: #ffebee\">Баргузина<span style=\"vertical-align: middle; margin-left: 2px; font-size: 0.7em; color: #e57373;\">Whole</span></span> на <span style=\"padding: 2px; border-radius: 4px; border: 1px solid #ffcdd2; background: #ffebee\">Хайс<span style=\"vertical-align: middle; margin-left: 2px; font-size: 0.7em; color: #e57373;\">Whole</span></span>, и не замечал недостатков в этой <span style=\"padding: 2px; border-radius: 4px; border: 1px solid #ffcdd2; background: #ffebee\">машине<span style=\"vertical-align: middle; margin-left: 2px; font-size: 0.7em; color: #e57373;\">Whole</span></span>. А так как он периодически отвозит меня на работу и забирает с работы на ней, то и я волей-неволей столкнулась с этой <span style=\"padding: 2px; border-radius: 4px; border: 1px solid #ffcdd2; background: #ffebee\">машиной<span style=\"vertical-align: middle; margin-left: 2px; font-size: 0.7em; color: #e57373;\">Whole</span></span>. Конечно, после <span style=\"padding: 2px; border-radius: 4px; border: 1px solid #ffcdd2; background: #ffebee\">Баргузина<span style=\"vertical-align: middle; margin-left: 2px; font-size: 0.7em; color: #e57373;\">Whole</span></span> <span style=\"padding: 2px; border-radius: 4px; border: 1px solid #ffcdd2; background: #ffebee\">Хайс<span style=\"vertical-align: middle; margin-left: 2px; font-size: 0.7em; color: #e57373;\">Whole</span></span> казался просто нереальной <span style=\"padding: 2px; border-radius: 4px; border: 1px solid #ffcdd2; background: #ffebee\">машиной<span style=\"vertical-align: middle; margin-left: 2px; font-size: 0.7em; color: #e57373;\">Whole</span></span>. И <span style=\"padding: 2px; border-radius: 4px; border: 1px solid #ffe0b2; background: #fff3e0\">удобство<span style=\"vertical-align: middle; margin-left: 2px; font-size: 0.7em; color: #ffb74d;\">Comfort</span></span> <span style=\"padding: 2px; border-radius: 4px; border: 1px solid #ffe0b2; background: #fff3e0\">кресел в салоне<span style=\"vertical-align: middle; margin-left: 2px; font-size: 0.7em; color: #ffb74d;\">Comfort</span></span>, и <span style=\"padding: 2px; border-radius: 4px; border: 1px solid #bbdefb; background: #e3f2fd\">плавность хода<span style=\"vertical-align: middle; margin-left: 2px; font-size: 0.7em; color: #64b5f6;\">Driveability</span></span>, и <span style=\"padding: 2px; border-radius: 4px; border: 1px solid #bbdefb; background: #e3f2fd\">внешний вид<span style=\"vertical-align: middle; margin-left: 2px; font-size: 0.7em; color: #64b5f6;\">Appearance</span></span>, всё приводило в восторг. Муж даже начал бредить идеей, что для нашей большой семьи (у нас трое деток) покупка такой <span style=\"padding: 2px; border-radius: 4px; border: 1px solid #ffcdd2; background: #ffebee\">машины<span style=\"vertical-align: middle; margin-left: 2px; font-size: 0.7em; color: #e57373;\">Whole</span></span> в семью будет идеальной. Даже в мечтах обрисовывал, как он переделает <span style=\"padding: 2px; border-radius: 4px; border: 1px solid #ffe0b2; background: #fff3e0\">салон<span style=\"vertical-align: middle; margin-left: 2px; font-size: 0.7em; color: #ffb74d;\">Comfort</span></span> под междугородние путешествия всей семьёй. Но прошло уже года три-четыре, как он работает на <span style=\"padding: 2px; border-radius: 4px; border: 1px solid #ffcdd2; background: #ffebee\">Тойоте Хайс<span style=\"vertical-align: middle; margin-left: 2px; font-size: 0.7em; color: #e57373;\">Whole</span></span>. Сейчас могу сказать только одно: <span style=\"padding: 2px; border-radius: 4px; border: 1px solid #ffcdd2; background: #ffebee\">машина<span style=\"vertical-align: middle; margin-left: 2px; font-size: 0.7em; color: #e57373;\">Whole</span></span> ужасная до безобразия. В этом мы убедились оба. Начну с того, что проживаем мы в северном районе нашей страны, и, соответственно, <span style=\"padding: 2px; border-radius: 4px; border: 1px solid #ffcdd2; background: #ffebee\">машина<span style=\"vertical-align: middle; margin-left: 2px; font-size: 0.7em; color: #e57373;\">Whole</span></span> эксплуатируется зимой при довольно низких температурах. Так вот, в зимний период <span style=\"padding: 2px; border-radius: 4px; border: 1px solid #ffe0b2; background: #fff3e0\">салон<span style=\"vertical-align: middle; margin-left: 2px; font-size: 0.7em; color: #ffb74d;\">Comfort</span></span> <span style=\"padding: 2px; border-radius: 4px; border: 1px solid #ffe0b2; background: #fff3e0\">прогревается<span style=\"vertical-align: middle; margin-left: 2px; font-size: 0.7em; color: #ffb74d;\">Comfort</span></span> только в зоне <span style=\"padding: 2px; border-radius: 4px; border: 1px solid #ffe0b2; background: #fff3e0\">передних сидений<span style=\"vertical-align: middle; margin-left: 2px; font-size: 0.7em; color: #ffb74d;\">Comfort</span></span> (водителя и пассажира), и то кое-как. В самом салоне <span style=\"padding: 2px; border-radius: 4px; border: 1px solid #ffe0b2; background: #fff3e0\">машина<span style=\"vertical-align: middle; margin-left: 2px; font-size: 0.7em; color: #ffb74d;\">Comfort</span></span> <span style=\"padding: 2px; border-radius: 4px; border: 1px solid #ffe0b2; background: #fff3e0\">не прогревается<span style=\"vertical-align: middle; margin-left: 2px; font-size: 0.7em; color: #ffb74d;\">Comfort</span></span>, несмотря на дополнительные <span style=\"padding: 2px; border-radius: 4px; border: 1px solid #ffe0b2; background: #fff3e0\">печки<span style=\"vertical-align: middle; margin-left: 2px; font-size: 0.7em; color: #ffb74d;\">Comfort</span></span> и всевозможные <span style=\"padding: 2px; border-radius: 4px; border: 1px solid #ffe0b2; background: #fff3e0\">регуляторы температуры нагрева<span style=\"vertical-align: middle; margin-left: 2px; font-size: 0.7em; color: #ffb74d;\">Comfort</span></span>. Так же зимой <span style=\"padding: 2px; border-radius: 4px; border: 1px solid #bbdefb; background: #e3f2fd\">на поворотах<span style=\"vertical-align: middle; margin-left: 2px; font-size: 0.7em; color: #64b5f6;\">Driveability</span></span> (например, на перекрёстке) очень сильно <span style=\"padding: 2px; border-radius: 4px; border: 1px solid #bbdefb; background: #e3f2fd\">заносит<span style=\"vertical-align: middle; margin-left: 2px; font-size: 0.7em; color: #64b5f6;\">Driveability</span></span> <span style=\"padding: 2px; border-radius: 4px; border: 1px solid #bbdefb; background: #e3f2fd\">заднюю часть автомобиля<span style=\"vertical-align: middle; margin-left: 2px; font-size: 0.7em; color: #64b5f6;\">Driveability</span></span>. Ну это понятно - <span style=\"padding: 2px; border-radius: 4px; border: 1px solid #bbdefb; background: #e3f2fd\">задний привод<span style=\"vertical-align: middle; margin-left: 2px; font-size: 0.7em; color: #64b5f6;\">Driveability</span></span> и всё остальное прочее. Но <span style=\"padding: 2px; border-radius: 4px; border: 1px solid #bbdefb; background: #e3f2fd\">заносы<span style=\"vertical-align: middle; margin-left: 2px; font-size: 0.7em; color: #64b5f6;\">Driveability</span></span> эти, даже глядя со стороны, приводят в тихую жуть. <span style=\"padding: 2px; border-radius: 4px; border: 1px solid #bbdefb; background: #e3f2fd\">Хайсов<span style=\"vertical-align: middle; margin-left: 2px; font-size: 0.7em; color: #64b5f6;\">Driveability</span></span> по городу бегает достаточное количество и регулярно наблюдается картина с этими <span style=\"padding: 2px; border-radius: 4px; border: 1px solid #bbdefb; background: #e3f2fd\">заносами<span style=\"vertical-align: middle; margin-left: 2px; font-size: 0.7em; color: #64b5f6;\">Driveability</span></span>. <span style=\"padding: 2px; border-radius: 4px; border: 1px solid #ffe0b2; background: #fff3e0\">Дверь на салазках<span style=\"vertical-align: middle; margin-left: 2px; font-size: 0.7em; color: #ffb74d;\">Comfort</span></span> снаружи <span style=\"padding: 2px; border-radius: 4px; border: 1px solid #ffe0b2; background: #fff3e0\">открывается ужасно<span style=\"vertical-align: middle; margin-left: 2px; font-size: 0.7em; color: #ffb74d;\">Comfort</span></span> - женская половина пассажиров, в том числе и я, регулярно ломают ногти, так как <span style=\"padding: 2px; border-radius: 4px; border: 1px solid #ffe0b2; background: #fff3e0\">ручка<span style=\"vertical-align: middle; margin-left: 2px; font-size: 0.7em; color: #ffb74d;\">Comfort</span></span> сделана не очень хорошо и с неё постоянно соскальзывают пальцы. В <span style=\"padding: 2px; border-radius: 4px; border: 1px solid #ffe0b2; background: #fff3e0\">водительской части салона<span style=\"vertical-align: middle; margin-left: 2px; font-size: 0.7em; color: #ffb74d;\">Comfort</span></span> в принципе всё довольно неплохо, за исключением <span style=\"padding: 2px; border-radius: 4px; border: 1px solid #ffe0b2; background: #fff3e0\">торпеды<span style=\"vertical-align: middle; margin-left: 2px; font-size: 0.7em; color: #ffb74d;\">Comfort</span></span>, которая после недолгой эксплуатации автомобиля начала <span style=\"padding: 2px; border-radius: 4px; border: 1px solid #ffe0b2; background: #fff3e0\">греметь<span style=\"vertical-align: middle; margin-left: 2px; font-size: 0.7em; color: #ffb74d;\">Comfort</span></span>, что само по себе уже не приятно. Да и сам <span style=\"padding: 2px; border-radius: 4px; border: 1px solid #ffe0b2; background: #fff3e0\">кузов Хайса<span style=\"vertical-align: middle; margin-left: 2px; font-size: 0.7em; color: #ffb74d;\">Comfort</span></span> начал <span style=\"padding: 2px; border-radius: 4px; border: 1px solid #ffe0b2; background: #fff3e0\">скрипеть<span style=\"vertical-align: middle; margin-left: 2px; font-size: 0.7em; color: #ffb74d;\">Comfort</span></span>, чем сразу заслужил гордое звание <span style=\"padding: 2px; border-radius: 4px; border: 1px solid #c8e6c9; background: #e8f5e9\">\"Сарай\"<span style=\"vertical-align: middle; margin-left: 2px; font-size: 0.7em; color: #66bb6a;\">Reliability</span></span>. <span style=\"padding: 2px; border-radius: 4px; border: 1px solid #c8e6c9; background: #e8f5e9\">Сервисное обслуживание<span style=\"vertical-align: middle; margin-left: 2px; font-size: 0.7em; color: #66bb6a;\">Reliability</span></span> в Тойота-центре нашего города тоже ниже плинтуса. <span style=\"padding: 2px; border-radius: 4px; border: 1px solid #c8e6c9; background: #e8f5e9\">Машина<span style=\"vertical-align: middle; margin-left: 2px; font-size: 0.7em; color: #66bb6a;\">Reliability</span></span> хоть и обслуживается за счёт организации, но после каждого <span style=\"padding: 2px; border-radius: 4px; border: 1px solid #c8e6c9; background: #e8f5e9\">ТО<span style=\"vertical-align: middle; margin-left: 2px; font-size: 0.7em; color: #66bb6a;\">Reliability</span></span> мой муж, мягко говоря, в шоке от того, как сервис-менеджеры каждый раз находят на ровном месте какие-то \"болячки\" у <span style=\"padding: 2px; border-radius: 4px; border: 1px solid #ffcdd2; background: #ffebee\">машины<span style=\"vertical-align: middle; margin-left: 2px; font-size: 0.7em; color: #e57373;\">Costs</span></span>, дабы <span style=\"padding: 2px; border-radius: 4px; border: 1px solid #ffcdd2; background: #ffebee\">содрать побольше денег<span style=\"vertical-align: middle; margin-left: 2px; font-size: 0.7em; color: #e57373;\">Costs</span></span>. А те <span style=\"padding: 2px; border-radius: 4px; border: 1px solid #c8e6c9; background: #e8f5e9\">поломки<span style=\"vertical-align: middle; margin-left: 2px; font-size: 0.7em; color: #66bb6a;\">Reliability</span></span>, которые действительно требуют серьёзного внимания, в заказ-наряде прописываются, но специалисты даже и не заглядывают туда. Таким образом, мой муж половину этой зимы проездил с <span style=\"padding: 2px; border-radius: 4px; border: 1px solid #c8e6c9; background: #e8f5e9\">\"инвалидным\"<span style=\"vertical-align: middle; margin-left: 2px; font-size: 0.7em; color: #66bb6a;\">Reliability</span></span> <span style=\"padding: 2px; border-radius: 4px; border: 1px solid #c8e6c9; background: #e8f5e9\">задним правым колесом<span style=\"vertical-align: middle; margin-left: 2px; font-size: 0.7em; color: #66bb6a;\">Reliability</span></span>: <span style=\"padding: 2px; border-radius: 4px; border: 1px solid #bbdefb; background: #e3f2fd\">с места тронуться<span style=\"vertical-align: middle; margin-left: 2px; font-size: 0.7em; color: #64b5f6;\">Driveability</span></span> было невозможно - оно просто <span style=\"padding: 2px; border-radius: 4px; border: 1px solid #c8e6c9; background: #e8f5e9\">не крутилось<span style=\"vertical-align: middle; margin-left: 2px; font-size: 0.7em; color: #66bb6a;\">Reliability</span></span>, приходилось его <span style=\"padding: 2px; border-radius: 4px; border: 1px solid #bbdefb; background: #e3f2fd\">срывать<span style=\"vertical-align: middle; margin-left: 2px; font-size: 0.7em; color: #64b5f6;\">Driveability</span></span>. Вобщем, впечатление от <span style=\"padding: 2px; border-radius: 4px; border: 1px solid #ffcdd2; background: #ffebee\">Хайса<span style=\"vertical-align: middle; margin-left: 2px; font-size: 0.7em; color: #e57373;\">Whole</span></span> не айс (прям каламбур получился). <span style=\"padding: 2px; border-radius: 4px; border: 1px solid #bbdefb; background: #e3f2fd\">Внешне<span style=\"vertical-align: middle; margin-left: 2px; font-size: 0.7em; color: #64b5f6;\">Appearance</span></span>, да, <span style=\"padding: 2px; border-radius: 4px; border: 1px solid #bbdefb; background: #e3f2fd\">выглядит<span style=\"vertical-align: middle; margin-left: 2px; font-size: 0.7em; color: #64b5f6;\">Appearance</span></span> <span style=\"padding: 2px; border-radius: 4px; border: 1px solid #bbdefb; background: #e3f2fd\">красиво<span style=\"vertical-align: middle; margin-left: 2px; font-size: 0.7em; color: #64b5f6;\">Appearance</span></span> и <span style=\"padding: 2px; border-radius: 4px; border: 1px solid #bbdefb; background: #e3f2fd\">величественно<span style=\"vertical-align: middle; margin-left: 2px; font-size: 0.7em; color: #64b5f6;\">Appearance</span></span>. Но на самом деле такой же <span style=\"padding: 2px; border-radius: 4px; border: 1px solid #c8e6c9; background: #e8f5e9\">\"сарай\"<span style=\"vertical-align: middle; margin-left: 2px; font-size: 0.7em; color: #66bb6a;\">Reliability</span></span> как <span style=\"padding: 2px; border-radius: 4px; border: 1px solid #c8e6c9; background: #e8f5e9\">Баргузин<span style=\"vertical-align: middle; margin-left: 2px; font-size: 0.7em; color: #66bb6a;\">Reliability</span></span>, <span style=\"padding: 2px; border-radius: 4px; border: 1px solid #c8e6c9; background: #e8f5e9\">Газель<span style=\"vertical-align: middle; margin-left: 2px; font-size: 0.7em; color: #66bb6a;\">Reliability</span></span> и прочее. Одно, что <span style=\"padding: 2px; border-radius: 4px; border: 1px solid #bbdefb; background: #e3f2fd\">кочки пятой точкой не чувствуешь<span style=\"vertical-align: middle; margin-left: 2px; font-size: 0.7em; color: #64b5f6;\">Driveability</span></span> :) За такую <span style=\"padding: 2px; border-radius: 4px; border: 1px solid #ffcdd2; background: #ffebee\">цену<span style=\"vertical-align: middle; margin-left: 2px; font-size: 0.7em; color: #e57373;\">Costs</span></span> ожидаешь лучшего <span style=\"padding: 2px; border-radius: 4px; border: 1px solid #c8e6c9; background: #e8f5e9\">качества<span style=\"vertical-align: middle; margin-left: 2px; font-size: 0.7em; color: #66bb6a;\">Reliability</span></span>. </div>"
            ],
            "text/plain": [
              "BoxMarkup('Начну с того, что на Тойоте Хайс работает мой муж и уже давненько. Поначалу машинка очень понравилась и внешне, и внутренне. Муж был просто в восторге, что его по работе пересадили с Баргузина на Хайс, и не замечал недостатков в этой машине. А так как он периодически отвозит меня на работу и забирает с работы на ней, то и я волей-неволей столкнулась с этой машиной. Конечно, после Баргузина Хайс казался просто нереальной машиной. И удобство кресел в салоне, и плавность хода, и внешний вид, всё приводило в восторг. Муж даже начал бредить идеей, что для нашей большой семьи (у нас трое деток) покупка такой машины в семью будет идеальной. Даже в мечтах обрисовывал, как он переделает салон под междугородние путешествия всей семьёй. Но прошло уже года три-четыре, как он работает на Тойоте Хайс. Сейчас могу сказать только одно: машина ужасная до безобразия. В этом мы убедились оба. Начну с того, что проживаем мы в северном районе нашей страны, и, соответственно, машина эксплуатируется зимой при довольно низких температурах. Так вот, в зимний период салон прогревается только в зоне передних сидений (водителя и пассажира), и то кое-как. В самом салоне машина не прогревается, несмотря на дополнительные печки и всевозможные регуляторы температуры нагрева. Так же зимой на поворотах (например, на перекрёстке) очень сильно заносит заднюю часть автомобиля. Ну это понятно - задний привод и всё остальное прочее. Но заносы эти, даже глядя со стороны, приводят в тихую жуть. Хайсов по городу бегает достаточное количество и регулярно наблюдается картина с этими заносами. Дверь на салазках снаружи открывается ужасно - женская половина пассажиров, в том числе и я, регулярно ломают ногти, так как ручка сделана не очень хорошо и с неё постоянно соскальзывают пальцы. В водительской части салона в принципе всё довольно неплохо, за исключением торпеды, которая после недолгой эксплуатации автомобиля начала греметь, что само по себе уже не приятно. Да и сам кузов Хайса начал скрипеть, чем сразу заслужил гордое звание \"Сарай\". Сервисное обслуживание в Тойота-центре нашего города тоже ниже плинтуса. Машина хоть и обслуживается за счёт организации, но после каждого ТО мой муж, мягко говоря, в шоке от того, как сервис-менеджеры каждый раз находят на ровном месте какие-то \"болячки\" у машины, дабы содрать побольше денег. А те поломки, которые действительно требуют серьёзного внимания, в заказ-наряде прописываются, но специалисты даже и не заглядывают туда. Таким образом, мой муж половину этой зимы проездил с \"инвалидным\" задним правым колесом: с места тронуться было невозможно - оно просто не крутилось, приходилось его срывать. Вобщем, впечатление от Хайса не айс (прям каламбур получился). Внешне, да, выглядит красиво и величественно. Но на самом деле такой же \"сарай\" как Баргузин, Газель и прочее. Одно, что кочки пятой точкой не чувствуешь :) За такую цену ожидаешь лучшего качества. ',\n",
              "          [Span(21, 32, 'Whole'),\n",
              "           Span(76, 83, 'Whole'),\n",
              "           Span(104, 110, 'Appearance'),\n",
              "           Span(183, 192, 'Whole'),\n",
              "           Span(196, 200, 'Whole'),\n",
              "           Span(234, 240, 'Whole'),\n",
              "           Span(359, 366, 'Whole'),\n",
              "           Span(383, 392, 'Whole'),\n",
              "           Span(393, 397, 'Whole'),\n",
              "           Span(424, 431, 'Whole'),\n",
              "           Span(435, 443, 'Comfort'),\n",
              "           Span(444, 459, 'Comfort'),\n",
              "           Span(463, 477, 'Driveability'),\n",
              "           Span(481, 492, 'Appearance'),\n",
              "           Span(610, 616, 'Whole'),\n",
              "           Span(687, 692, 'Comfort'),\n",
              "           Span(786, 797, 'Whole'),\n",
              "           Span(832, 838, 'Whole'),\n",
              "           Span(969, 975, 'Whole'),\n",
              "           Span(1057, 1062, 'Comfort'),\n",
              "           Span(1063, 1075, 'Comfort'),\n",
              "           Span(1090, 1106, 'Comfort'),\n",
              "           Span(1160, 1166, 'Comfort'),\n",
              "           Span(1167, 1182, 'Comfort'),\n",
              "           Span(1211, 1216, 'Comfort'),\n",
              "           Span(1232, 1262, 'Comfort'),\n",
              "           Span(1277, 1289, 'Driveability'),\n",
              "           Span(1330, 1337, 'Driveability'),\n",
              "           Span(1338, 1361, 'Driveability'),\n",
              "           Span(1380, 1393, 'Driveability'),\n",
              "           Span(1421, 1427, 'Driveability'),\n",
              "           Span(1479, 1485, 'Driveability'),\n",
              "           Span(1566, 1574, 'Driveability'),\n",
              "           Span(1576, 1593, 'Comfort'),\n",
              "           Span(1602, 1620, 'Comfort'),\n",
              "           Span(1701, 1706, 'Comfort'),\n",
              "           Span(1773, 1798, 'Comfort'),\n",
              "           Span(1847, 1854, 'Comfort'),\n",
              "           Span(1910, 1917, 'Comfort'),\n",
              "           Span(1961, 1972, 'Comfort'),\n",
              "           Span(1979, 1987, 'Comfort'),\n",
              "           Span(2022, 2029, 'Reliability'),\n",
              "           Span(2031, 2053, 'Reliability'),\n",
              "           Span(2104, 2110, 'Reliability'),\n",
              "           Span(2170, 2172, 'Reliability'),\n",
              "           Span(2289, 2295, 'Costs'),\n",
              "           Span(2302, 2324, 'Costs'),\n",
              "           Span(2331, 2338, 'Reliability'),\n",
              "           Span(2517, 2529, 'Reliability'),\n",
              "           Span(2530, 2551, 'Reliability'),\n",
              "           Span(2553, 2570, 'Driveability'),\n",
              "           Span(2600, 2612, 'Reliability'),\n",
              "           Span(2630, 2637, 'Driveability'),\n",
              "           Span(2662, 2667, 'Whole'),\n",
              "           Span(2702, 2708, 'Appearance'),\n",
              "           Span(2714, 2722, 'Appearance'),\n",
              "           Span(2723, 2730, 'Appearance'),\n",
              "           Span(2733, 2746, 'Appearance'),\n",
              "           Span(2774, 2781, 'Reliability'),\n",
              "           Span(2786, 2794, 'Reliability'),\n",
              "           Span(2796, 2802, 'Reliability'),\n",
              "           Span(2823, 2855, 'Driveability'),\n",
              "           Span(2868, 2872, 'Costs'),\n",
              "           Span(2890, 2898, 'Reliability')])"
            ]
          },
          "metadata": {},
          "output_type": "display_data"
        }
      ],
      "source": [
        "for rand_i in random_picks:\n",
        "    text,spans = texts_w_aspect_spans[rand_i]\n",
        "    \n",
        "    print('Текст №:',rand_i)\n",
        "    show_markup(text,spans)"
      ]
    },
    {
      "cell_type": "markdown",
      "metadata": {
        "id": "xfxTAcMHu0ui"
      },
      "source": [
        "## BIO-тэги для обучения модели\n",
        "\n",
        "На основе оригинальной разметки к данному датасету мы подготовили BIO-разметку, чтобы размеченный таким образом датасет можно было подавать на вход нашей нейросети. Как можно видеть на двух примерах на экране, мы добавили тэг \"OTHER\" для всех слов, которые не относятся к аспектам или тональности, объединили в сущности, стоящие рядом. Результат вы видите сами. Мы выделили все куски текста, которые были вне оригинальной разметки (например, вот эти два), также (в этих кусках) сделали деление на слова и, наконец, добавили BIO-тэги размеченных в оригинале элементов. А, как вы помните, BIO-тэг — это b — beginning (начало), i — inside (внутри), и о — other (для всего, что не важно для задачи)."
      ]
    },
    {
      "cell_type": "code",
      "execution_count": 20,
      "metadata": {
        "id": "YZG8bCIiu0ui"
      },
      "outputs": [],
      "source": [
        "from dlnlputils.sentiment_utils import fill_gaps, extract_BIO_tagged_tokens"
      ]
    },
    {
      "cell_type": "code",
      "execution_count": 21,
      "metadata": {
        "colab": {
          "base_uri": "https://localhost:8080/",
          "height": 191
        },
        "id": "9jn8nwXiu0ui",
        "outputId": "92b5a41f-ebb6-430f-ea3a-b9bdef8799fd"
      },
      "outputs": [
        {
          "output_type": "stream",
          "name": "stdout",
          "text": [
            "Полное покрытие разметкой текста №: 107\n"
          ]
        },
        {
          "output_type": "display_data",
          "data": {
            "text/html": [
              "<div class=\"tex2jax_ignore\" style=\"white-space: pre-wrap\"><span style=\"padding: 2px; border-radius: 4px; border: 1px solid #d7ccc8; background: #efebe9\">Хороший <span style=\"vertical-align: middle; margin-left: 2px; font-size: 0.7em; color: #a1887f;\">Other</span></span><span style=\"padding: 2px; border-radius: 4px; border: 1px solid #ffcdd2; background: #ffebee\">немец<span style=\"vertical-align: middle; margin-left: 2px; font-size: 0.7em; color: #e57373;\">Whole</span></span><span style=\"padding: 2px; border-radius: 4px; border: 1px solid #d7ccc8; background: #efebe9\">, это легендарный <span style=\"vertical-align: middle; margin-left: 2px; font-size: 0.7em; color: #a1887f;\">Other</span></span><span style=\"padding: 2px; border-radius: 4px; border: 1px solid #ffcdd2; background: #ffebee\">автомобиль<span style=\"vertical-align: middle; margin-left: 2px; font-size: 0.7em; color: #e57373;\">Whole</span></span><span style=\"padding: 2px; border-radius: 4px; border: 1px solid #d7ccc8; background: #efebe9\">. <span style=\"vertical-align: middle; margin-left: 2px; font-size: 0.7em; color: #a1887f;\">Other</span></span><span style=\"padding: 2px; border-radius: 4px; border: 1px solid #bbdefb; background: #e3f2fd\">под капотом<span style=\"vertical-align: middle; margin-left: 2px; font-size: 0.7em; color: #64b5f6;\">Driveability</span></span><span style=\"padding: 2px; border-radius: 4px; border: 1px solid #d7ccc8; background: #efebe9\"> v8 c двумя <span style=\"vertical-align: middle; margin-left: 2px; font-size: 0.7em; color: #a1887f;\">Other</span></span><span style=\"padding: 2px; border-radius: 4px; border: 1px solid #bbdefb; background: #e3f2fd\">надувами<span style=\"vertical-align: middle; margin-left: 2px; font-size: 0.7em; color: #64b5f6;\">Driveability</span></span><span style=\"padding: 2px; border-radius: 4px; border: 1px solid #d7ccc8; background: #efebe9\">, 500л. с. хорошие показатели для гонок, но и <span style=\"vertical-align: middle; margin-left: 2px; font-size: 0.7em; color: #a1887f;\">Other</span></span><span style=\"padding: 2px; border-radius: 4px; border: 1px solid #bbdefb; background: #e3f2fd\">проходимость<span style=\"vertical-align: middle; margin-left: 2px; font-size: 0.7em; color: #64b5f6;\">Driveability</span></span><span style=\"padding: 2px; border-radius: 4px; border: 1px solid #d7ccc8; background: #efebe9\"> у него очень хорошая с <span style=\"vertical-align: middle; margin-left: 2px; font-size: 0.7em; color: #a1887f;\">Other</span></span><span style=\"padding: 2px; border-radius: 4px; border: 1px solid #bbdefb; background: #e3f2fd\">понижающей передачей<span style=\"vertical-align: middle; margin-left: 2px; font-size: 0.7em; color: #64b5f6;\">Driveability</span></span><span style=\"padding: 2px; border-radius: 4px; border: 1px solid #d7ccc8; background: #efebe9\"> и <span style=\"vertical-align: middle; margin-left: 2px; font-size: 0.7em; color: #a1887f;\">Other</span></span><span style=\"padding: 2px; border-radius: 4px; border: 1px solid #bbdefb; background: #e3f2fd\">блокировки 3-х дифференциалов<span style=\"vertical-align: middle; margin-left: 2px; font-size: 0.7em; color: #64b5f6;\">Driveability</span></span><span style=\"padding: 2px; border-radius: 4px; border: 1px solid #d7ccc8; background: #efebe9\">. <span style=\"vertical-align: middle; margin-left: 2px; font-size: 0.7em; color: #a1887f;\">Other</span></span><span style=\"padding: 2px; border-radius: 4px; border: 1px solid #ffe0b2; background: #fff3e0\">Салон<span style=\"vertical-align: middle; margin-left: 2px; font-size: 0.7em; color: #ffb74d;\">Comfort</span></span><span style=\"padding: 2px; border-radius: 4px; border: 1px solid #d7ccc8; background: #efebe9\"> не очень. <span style=\"vertical-align: middle; margin-left: 2px; font-size: 0.7em; color: #a1887f;\">Other</span></span><span style=\"padding: 2px; border-radius: 4px; border: 1px solid #ffe0b2; background: #fff3e0\">задние сиденья<span style=\"vertical-align: middle; margin-left: 2px; font-size: 0.7em; color: #ffb74d;\">Comfort</span></span><span style=\"padding: 2px; border-radius: 4px; border: 1px solid #d7ccc8; background: #efebe9\"> <span style=\"vertical-align: middle; margin-left: 2px; font-size: 0.7em; color: #a1887f;\">Other</span></span><span style=\"padding: 2px; border-radius: 4px; border: 1px solid #ffe0b2; background: #fff3e0\">не регулируются<span style=\"vertical-align: middle; margin-left: 2px; font-size: 0.7em; color: #ffb74d;\">Comfort</span></span><span style=\"padding: 2px; border-radius: 4px; border: 1px solid #d7ccc8; background: #efebe9\"> совсем. <span style=\"vertical-align: middle; margin-left: 2px; font-size: 0.7em; color: #a1887f;\">Other</span></span><span style=\"padding: 2px; border-radius: 4px; border: 1px solid #ffe0b2; background: #fff3e0\">передние сиденья<span style=\"vertical-align: middle; margin-left: 2px; font-size: 0.7em; color: #ffb74d;\">Comfort</span></span><span style=\"padding: 2px; border-radius: 4px; border: 1px solid #d7ccc8; background: #efebe9\"> <span style=\"vertical-align: middle; margin-left: 2px; font-size: 0.7em; color: #a1887f;\">Other</span></span><span style=\"padding: 2px; border-radius: 4px; border: 1px solid #ffe0b2; background: #fff3e0\">регулируются<span style=\"vertical-align: middle; margin-left: 2px; font-size: 0.7em; color: #ffb74d;\">Comfort</span></span><span style=\"padding: 2px; border-radius: 4px; border: 1px solid #d7ccc8; background: #efebe9\">. Общее впечатление : хорошее<span style=\"vertical-align: middle; margin-left: 2px; font-size: 0.7em; color: #a1887f;\">Other</span></span></div>"
            ],
            "text/plain": [
              "<IPython.core.display.HTML object>"
            ]
          },
          "metadata": {}
        },
        {
          "output_type": "stream",
          "name": "stdout",
          "text": [
            "Полное покрытие разметкой текста №: 76\n"
          ]
        },
        {
          "output_type": "display_data",
          "data": {
            "text/html": [
              "<div class=\"tex2jax_ignore\" style=\"white-space: pre-wrap\"><span style=\"padding: 2px; border-radius: 4px; border: 1px solid #d7ccc8; background: #efebe9\">Сегодня я купил <span style=\"vertical-align: middle; margin-left: 2px; font-size: 0.7em; color: #a1887f;\">Other</span></span><span style=\"padding: 2px; border-radius: 4px; border: 1px solid #ffcdd2; background: #ffebee\">машину лада гранта<span style=\"vertical-align: middle; margin-left: 2px; font-size: 0.7em; color: #e57373;\">Whole</span></span><span style=\"padding: 2px; border-radius: 4px; border: 1px solid #d7ccc8; background: #efebe9\"> и ни как не могу ее продать начнем с покупки <span style=\"vertical-align: middle; margin-left: 2px; font-size: 0.7em; color: #a1887f;\">Other</span></span><span style=\"padding: 2px; border-radius: 4px; border: 1px solid #ffcdd2; background: #ffebee\">машина<span style=\"vertical-align: middle; margin-left: 2px; font-size: 0.7em; color: #e57373;\">Costs</span></span><span style=\"padding: 2px; border-radius: 4px; border: 1px solid #d7ccc8; background: #efebe9\"> мне обошлась в четыреста восемдесят тысяч <span style=\"vertical-align: middle; margin-left: 2px; font-size: 0.7em; color: #a1887f;\">Other</span></span><span style=\"padding: 2px; border-radius: 4px; border: 1px solid #ffcdd2; background: #ffebee\">рублей<span style=\"vertical-align: middle; margin-left: 2px; font-size: 0.7em; color: #e57373;\">Costs</span></span><span style=\"padding: 2px; border-radius: 4px; border: 1px solid #d7ccc8; background: #efebe9\"> на реканий на <span style=\"vertical-align: middle; margin-left: 2px; font-size: 0.7em; color: #a1887f;\">Other</span></span><span style=\"padding: 2px; border-radius: 4px; border: 1px solid #ffcdd2; background: #ffebee\">машину<span style=\"vertical-align: middle; margin-left: 2px; font-size: 0.7em; color: #e57373;\">Whole</span></span><span style=\"padding: 2px; border-radius: 4px; border: 1px solid #d7ccc8; background: #efebe9\"> нет <span style=\"vertical-align: middle; margin-left: 2px; font-size: 0.7em; color: #a1887f;\">Other</span></span><span style=\"padding: 2px; border-radius: 4px; border: 1px solid #ffcdd2; background: #ffebee\">стоимость масла<span style=\"vertical-align: middle; margin-left: 2px; font-size: 0.7em; color: #e57373;\">Costs</span></span><span style=\"padding: 2px; border-radius: 4px; border: 1px solid #d7ccc8; background: #efebe9\"> 850 рублей замена бампера 5000 <span style=\"vertical-align: middle; margin-left: 2px; font-size: 0.7em; color: #a1887f;\">Other</span></span><span style=\"padding: 2px; border-radius: 4px; border: 1px solid #ffcdd2; background: #ffebee\">рублей<span style=\"vertical-align: middle; margin-left: 2px; font-size: 0.7em; color: #e57373;\">Costs</span></span><span style=\"padding: 2px; border-radius: 4px; border: 1px solid #d7ccc8; background: #efebe9\"> если собираетесь делать <span style=\"vertical-align: middle; margin-left: 2px; font-size: 0.7em; color: #a1887f;\">Other</span></span><span style=\"padding: 2px; border-radius: 4px; border: 1px solid #ffcdd2; background: #ffebee\">ремонт машины<span style=\"vertical-align: middle; margin-left: 2px; font-size: 0.7em; color: #e57373;\">Costs</span></span><span style=\"padding: 2px; border-radius: 4px; border: 1px solid #d7ccc8; background: #efebe9\"> капитально, то <span style=\"vertical-align: middle; margin-left: 2px; font-size: 0.7em; color: #a1887f;\">Other</span></span><span style=\"padding: 2px; border-radius: 4px; border: 1px solid #ffcdd2; background: #ffebee\">стоимость<span style=\"vertical-align: middle; margin-left: 2px; font-size: 0.7em; color: #e57373;\">Costs</span></span><span style=\"padding: 2px; border-radius: 4px; border: 1px solid #d7ccc8; background: #efebe9\"> обойдется в районе 200000 рублей <span style=\"vertical-align: middle; margin-left: 2px; font-size: 0.7em; color: #a1887f;\">Other</span></span><span style=\"padding: 2px; border-radius: 4px; border: 1px solid #bbdefb; background: #e3f2fd\">мощьность<span style=\"vertical-align: middle; margin-left: 2px; font-size: 0.7em; color: #64b5f6;\">Driveability</span></span><span style=\"padding: 2px; border-radius: 4px; border: 1px solid #d7ccc8; background: #efebe9\"> у нее 100 <span style=\"vertical-align: middle; margin-left: 2px; font-size: 0.7em; color: #a1887f;\">Other</span></span><span style=\"padding: 2px; border-radius: 4px; border: 1px solid #bbdefb; background: #e3f2fd\">лошадей<span style=\"vertical-align: middle; margin-left: 2px; font-size: 0.7em; color: #64b5f6;\">Driveability</span></span><span style=\"padding: 2px; border-radius: 4px; border: 1px solid #d7ccc8; background: #efebe9\"> <span style=\"vertical-align: middle; margin-left: 2px; font-size: 0.7em; color: #a1887f;\">Other</span></span><span style=\"padding: 2px; border-radius: 4px; border: 1px solid #bbdefb; background: #e3f2fd\">макс скорость<span style=\"vertical-align: middle; margin-left: 2px; font-size: 0.7em; color: #64b5f6;\">Driveability</span></span><span style=\"padding: 2px; border-radius: 4px; border: 1px solid #d7ccc8; background: #efebe9\"> 185 км в час. Общее впечатление : замечательный <span style=\"vertical-align: middle; margin-left: 2px; font-size: 0.7em; color: #a1887f;\">Other</span></span><span style=\"padding: 2px; border-radius: 4px; border: 1px solid #ffcdd2; background: #ffebee\">автомобиль<span style=\"vertical-align: middle; margin-left: 2px; font-size: 0.7em; color: #e57373;\">Whole</span></span></div>"
            ],
            "text/plain": [
              "<IPython.core.display.HTML object>"
            ]
          },
          "metadata": {}
        }
      ],
      "source": [
        "for rand_i in random_picks:\n",
        "    text, aspect_spans = texts_w_aspect_spans[rand_i]\n",
        "    cover_spans       = fill_gaps(text, aspect_spans)\n",
        "    \n",
        "    print('Полное покрытие разметкой текста №:',rand_i) \n",
        "    show_markup(text, cover_spans)"
      ]
    },
    {
      "cell_type": "markdown",
      "metadata": {
        "id": "noTHyJFpu0uj"
      },
      "source": [
        "### Разбиение текста на предложения, а предложений - на слова."
      ]
    },
    {
      "cell_type": "code",
      "execution_count": 22,
      "metadata": {
        "id": "NoJcsedSu0uj"
      },
      "outputs": [],
      "source": [
        "from dlnlputils.sentiment_utils import regex_sentence_detector, sentence_spans,sentence_splitter"
      ]
    },
    {
      "cell_type": "code",
      "execution_count": 23,
      "metadata": {
        "id": "af67qh-2u0uj"
      },
      "outputs": [],
      "source": [
        "from nltk.tokenize import RegexpTokenizer\n",
        "\n",
        "word_tokenizer = RegexpTokenizer('\\w+|\\$[\\d\\.]+|\\S+')"
      ]
    },
    {
      "cell_type": "code",
      "execution_count": 24,
      "metadata": {
        "collapsed": true,
        "colab": {
          "base_uri": "https://localhost:8080/",
          "height": 673
        },
        "id": "bsfk7WFlu0uj",
        "outputId": "5919f81b-4e2f-4531-9548-a3b9e165403a"
      },
      "outputs": [
        {
          "output_type": "stream",
          "name": "stdout",
          "text": [
            "Разбиение на предложения и BIO токенизация текста №: 107\n"
          ]
        },
        {
          "output_type": "display_data",
          "data": {
            "text/html": [
              "<div class=\"tex2jax_ignore\" style=\"white-space: pre-wrap\"><span style=\"padding: 2px; border-radius: 4px; border: 1px solid #d7ccc8; background: #efebe9\">Хороший <span style=\"vertical-align: middle; margin-left: 2px; font-size: 0.7em; color: #a1887f;\">Other</span></span><span style=\"padding: 2px; border-radius: 4px; border: 1px solid #ffcdd2; background: #ffebee\">немец<span style=\"vertical-align: middle; margin-left: 2px; font-size: 0.7em; color: #e57373;\">Whole</span></span><span style=\"padding: 2px; border-radius: 4px; border: 1px solid #d7ccc8; background: #efebe9\">, это легендарный <span style=\"vertical-align: middle; margin-left: 2px; font-size: 0.7em; color: #a1887f;\">Other</span></span><span style=\"padding: 2px; border-radius: 4px; border: 1px solid #ffcdd2; background: #ffebee\">автомобиль<span style=\"vertical-align: middle; margin-left: 2px; font-size: 0.7em; color: #e57373;\">Whole</span></span>.</div>"
            ],
            "text/plain": [
              "<IPython.core.display.HTML object>"
            ]
          },
          "metadata": {}
        },
        {
          "output_type": "stream",
          "name": "stdout",
          "text": [
            "[('Хороший', 'Other'), ('немец', 'B-Whole'), (',', 'Other'), ('это', 'Other'), ('легендарный', 'Other'), ('автомобиль', 'B-Whole')] \n",
            "\n"
          ]
        },
        {
          "output_type": "display_data",
          "data": {
            "text/html": [
              "<div class=\"tex2jax_ignore\" style=\"white-space: pre-wrap\"><span style=\"padding: 2px; border-radius: 4px; border: 1px solid #bbdefb; background: #e3f2fd\">под капотом<span style=\"vertical-align: middle; margin-left: 2px; font-size: 0.7em; color: #64b5f6;\">Driveability</span></span><span style=\"padding: 2px; border-radius: 4px; border: 1px solid #d7ccc8; background: #efebe9\"> v8 c двумя <span style=\"vertical-align: middle; margin-left: 2px; font-size: 0.7em; color: #a1887f;\">Other</span></span><span style=\"padding: 2px; border-radius: 4px; border: 1px solid #bbdefb; background: #e3f2fd\">надувами<span style=\"vertical-align: middle; margin-left: 2px; font-size: 0.7em; color: #64b5f6;\">Driveability</span></span><span style=\"padding: 2px; border-radius: 4px; border: 1px solid #d7ccc8; background: #efebe9\">, 500л.<span style=\"vertical-align: middle; margin-left: 2px; font-size: 0.7em; color: #a1887f;\">Other</span></span></div>"
            ],
            "text/plain": [
              "<IPython.core.display.HTML object>"
            ]
          },
          "metadata": {}
        },
        {
          "output_type": "stream",
          "name": "stdout",
          "text": [
            "[('под', 'B-Driveability'), ('капотом', 'I-Driveability'), ('v8', 'Other'), ('c', 'Other'), ('двумя', 'Other'), ('надувами', 'B-Driveability'), (',', 'Other'), ('500л', 'Other'), ('.', 'Other')] \n",
            "\n"
          ]
        },
        {
          "output_type": "display_data",
          "data": {
            "text/html": [
              "<div class=\"tex2jax_ignore\" style=\"white-space: pre-wrap\"><span style=\"padding: 2px; border-radius: 4px; border: 1px solid #d7ccc8; background: #efebe9\">с.<span style=\"vertical-align: middle; margin-left: 2px; font-size: 0.7em; color: #a1887f;\">Other</span></span></div>"
            ],
            "text/plain": [
              "<IPython.core.display.HTML object>"
            ]
          },
          "metadata": {}
        },
        {
          "output_type": "stream",
          "name": "stdout",
          "text": [
            "[('с', 'Other'), ('.', 'Other')] \n",
            "\n"
          ]
        },
        {
          "output_type": "display_data",
          "data": {
            "text/html": [
              "<div class=\"tex2jax_ignore\" style=\"white-space: pre-wrap\"><span style=\"padding: 2px; border-radius: 4px; border: 1px solid #d7ccc8; background: #efebe9\">хорошие показатели для гонок, но и <span style=\"vertical-align: middle; margin-left: 2px; font-size: 0.7em; color: #a1887f;\">Other</span></span><span style=\"padding: 2px; border-radius: 4px; border: 1px solid #bbdefb; background: #e3f2fd\">проходимость<span style=\"vertical-align: middle; margin-left: 2px; font-size: 0.7em; color: #64b5f6;\">Driveability</span></span><span style=\"padding: 2px; border-radius: 4px; border: 1px solid #d7ccc8; background: #efebe9\"> у него очень хорошая с <span style=\"vertical-align: middle; margin-left: 2px; font-size: 0.7em; color: #a1887f;\">Other</span></span><span style=\"padding: 2px; border-radius: 4px; border: 1px solid #bbdefb; background: #e3f2fd\">понижающей передачей<span style=\"vertical-align: middle; margin-left: 2px; font-size: 0.7em; color: #64b5f6;\">Driveability</span></span><span style=\"padding: 2px; border-radius: 4px; border: 1px solid #d7ccc8; background: #efebe9\"> и <span style=\"vertical-align: middle; margin-left: 2px; font-size: 0.7em; color: #a1887f;\">Other</span></span><span style=\"padding: 2px; border-radius: 4px; border: 1px solid #bbdefb; background: #e3f2fd\">блокировки 3-х дифференциалов<span style=\"vertical-align: middle; margin-left: 2px; font-size: 0.7em; color: #64b5f6;\">Driveability</span></span>.</div>"
            ],
            "text/plain": [
              "<IPython.core.display.HTML object>"
            ]
          },
          "metadata": {}
        },
        {
          "output_type": "stream",
          "name": "stdout",
          "text": [
            "[('хорошие', 'Other'), ('показатели', 'Other'), ('для', 'Other'), ('гонок', 'Other'), (',', 'Other'), ('но', 'Other'), ('и', 'Other'), ('проходимость', 'B-Driveability'), ('у', 'Other'), ('него', 'Other')] \n",
            "\n"
          ]
        },
        {
          "output_type": "display_data",
          "data": {
            "text/html": [
              "<div class=\"tex2jax_ignore\" style=\"white-space: pre-wrap\"><span style=\"padding: 2px; border-radius: 4px; border: 1px solid #ffe0b2; background: #fff3e0\">Салон<span style=\"vertical-align: middle; margin-left: 2px; font-size: 0.7em; color: #ffb74d;\">Comfort</span></span><span style=\"padding: 2px; border-radius: 4px; border: 1px solid #d7ccc8; background: #efebe9\"> не очень.<span style=\"vertical-align: middle; margin-left: 2px; font-size: 0.7em; color: #a1887f;\">Other</span></span></div>"
            ],
            "text/plain": [
              "<IPython.core.display.HTML object>"
            ]
          },
          "metadata": {}
        },
        {
          "output_type": "stream",
          "name": "stdout",
          "text": [
            "[('Салон', 'B-Comfort'), ('не', 'Other'), ('очень', 'Other'), ('.', 'Other')] \n",
            "\n"
          ]
        },
        {
          "output_type": "display_data",
          "data": {
            "text/html": [
              "<div class=\"tex2jax_ignore\" style=\"white-space: pre-wrap\"><span style=\"padding: 2px; border-radius: 4px; border: 1px solid #ffe0b2; background: #fff3e0\">задние сиденья<span style=\"vertical-align: middle; margin-left: 2px; font-size: 0.7em; color: #ffb74d;\">Comfort</span></span><span style=\"padding: 2px; border-radius: 4px; border: 1px solid #d7ccc8; background: #efebe9\"> <span style=\"vertical-align: middle; margin-left: 2px; font-size: 0.7em; color: #a1887f;\">Other</span></span><span style=\"padding: 2px; border-radius: 4px; border: 1px solid #ffe0b2; background: #fff3e0\">не регулируются<span style=\"vertical-align: middle; margin-left: 2px; font-size: 0.7em; color: #ffb74d;\">Comfort</span></span><span style=\"padding: 2px; border-radius: 4px; border: 1px solid #d7ccc8; background: #efebe9\"> совсем.<span style=\"vertical-align: middle; margin-left: 2px; font-size: 0.7em; color: #a1887f;\">Other</span></span></div>"
            ],
            "text/plain": [
              "<IPython.core.display.HTML object>"
            ]
          },
          "metadata": {}
        },
        {
          "output_type": "stream",
          "name": "stdout",
          "text": [
            "[('задние', 'B-Comfort'), ('сиденья', 'I-Comfort'), ('не', 'B-Comfort'), ('регулируются', 'I-Comfort'), ('совсем', 'Other'), ('.', 'Other')] \n",
            "\n"
          ]
        },
        {
          "output_type": "display_data",
          "data": {
            "text/html": [
              "<div class=\"tex2jax_ignore\" style=\"white-space: pre-wrap\"><span style=\"padding: 2px; border-radius: 4px; border: 1px solid #ffe0b2; background: #fff3e0\">передние сиденья<span style=\"vertical-align: middle; margin-left: 2px; font-size: 0.7em; color: #ffb74d;\">Comfort</span></span><span style=\"padding: 2px; border-radius: 4px; border: 1px solid #d7ccc8; background: #efebe9\"> <span style=\"vertical-align: middle; margin-left: 2px; font-size: 0.7em; color: #a1887f;\">Other</span></span><span style=\"padding: 2px; border-radius: 4px; border: 1px solid #ffe0b2; background: #fff3e0\">регулируются<span style=\"vertical-align: middle; margin-left: 2px; font-size: 0.7em; color: #ffb74d;\">Comfort</span></span>.</div>"
            ],
            "text/plain": [
              "<IPython.core.display.HTML object>"
            ]
          },
          "metadata": {}
        },
        {
          "output_type": "stream",
          "name": "stdout",
          "text": [
            "[('передние', 'B-Comfort'), ('сиденья', 'I-Comfort'), ('регулируются', 'B-Comfort')] \n",
            "\n"
          ]
        },
        {
          "output_type": "display_data",
          "data": {
            "text/html": [
              "<div class=\"tex2jax_ignore\" style=\"white-space: pre-wrap\"><span style=\"padding: 2px; border-radius: 4px; border: 1px solid #d7ccc8; background: #efebe9\">Общее впечатление : хорошее<span style=\"vertical-align: middle; margin-left: 2px; font-size: 0.7em; color: #a1887f;\">Other</span></span></div>"
            ],
            "text/plain": [
              "<IPython.core.display.HTML object>"
            ]
          },
          "metadata": {}
        },
        {
          "output_type": "stream",
          "name": "stdout",
          "text": [
            "[('Общее', 'Other'), ('впечатление', 'Other'), (':', 'Other'), ('хорошее', 'Other')] \n",
            "\n",
            "Разбиение на предложения и BIO токенизация текста №: 76\n"
          ]
        },
        {
          "output_type": "display_data",
          "data": {
            "text/html": [
              "<div class=\"tex2jax_ignore\" style=\"white-space: pre-wrap\"><span style=\"padding: 2px; border-radius: 4px; border: 1px solid #d7ccc8; background: #efebe9\">Сегодня я купил <span style=\"vertical-align: middle; margin-left: 2px; font-size: 0.7em; color: #a1887f;\">Other</span></span><span style=\"padding: 2px; border-radius: 4px; border: 1px solid #ffcdd2; background: #ffebee\">машину лада гранта<span style=\"vertical-align: middle; margin-left: 2px; font-size: 0.7em; color: #e57373;\">Whole</span></span><span style=\"padding: 2px; border-radius: 4px; border: 1px solid #d7ccc8; background: #efebe9\"> и ни как не могу ее продать начнем с покупки <span style=\"vertical-align: middle; margin-left: 2px; font-size: 0.7em; color: #a1887f;\">Other</span></span><span style=\"padding: 2px; border-radius: 4px; border: 1px solid #ffcdd2; background: #ffebee\">машина<span style=\"vertical-align: middle; margin-left: 2px; font-size: 0.7em; color: #e57373;\">Costs</span></span><span style=\"padding: 2px; border-radius: 4px; border: 1px solid #d7ccc8; background: #efebe9\"> мне обошлась в четыреста восемдесят тысяч <span style=\"vertical-align: middle; margin-left: 2px; font-size: 0.7em; color: #a1887f;\">Other</span></span><span style=\"padding: 2px; border-radius: 4px; border: 1px solid #ffcdd2; background: #ffebee\">рублей<span style=\"vertical-align: middle; margin-left: 2px; font-size: 0.7em; color: #e57373;\">Costs</span></span><span style=\"padding: 2px; border-radius: 4px; border: 1px solid #d7ccc8; background: #efebe9\"> на реканий на <span style=\"vertical-align: middle; margin-left: 2px; font-size: 0.7em; color: #a1887f;\">Other</span></span><span style=\"padding: 2px; border-radius: 4px; border: 1px solid #ffcdd2; background: #ffebee\">машину<span style=\"vertical-align: middle; margin-left: 2px; font-size: 0.7em; color: #e57373;\">Whole</span></span><span style=\"padding: 2px; border-radius: 4px; border: 1px solid #d7ccc8; background: #efebe9\"> нет <span style=\"vertical-align: middle; margin-left: 2px; font-size: 0.7em; color: #a1887f;\">Other</span></span><span style=\"padding: 2px; border-radius: 4px; border: 1px solid #ffcdd2; background: #ffebee\">стоимость масла<span style=\"vertical-align: middle; margin-left: 2px; font-size: 0.7em; color: #e57373;\">Costs</span></span><span style=\"padding: 2px; border-radius: 4px; border: 1px solid #d7ccc8; background: #efebe9\"> 850 рублей замена бампера 5000 <span style=\"vertical-align: middle; margin-left: 2px; font-size: 0.7em; color: #a1887f;\">Other</span></span><span style=\"padding: 2px; border-radius: 4px; border: 1px solid #ffcdd2; background: #ffebee\">рублей<span style=\"vertical-align: middle; margin-left: 2px; font-size: 0.7em; color: #e57373;\">Costs</span></span><span style=\"padding: 2px; border-radius: 4px; border: 1px solid #d7ccc8; background: #efebe9\"> если собираетесь делать <span style=\"vertical-align: middle; margin-left: 2px; font-size: 0.7em; color: #a1887f;\">Other</span></span><span style=\"padding: 2px; border-radius: 4px; border: 1px solid #ffcdd2; background: #ffebee\">ремонт машины<span style=\"vertical-align: middle; margin-left: 2px; font-size: 0.7em; color: #e57373;\">Costs</span></span><span style=\"padding: 2px; border-radius: 4px; border: 1px solid #d7ccc8; background: #efebe9\"> капитально, то <span style=\"vertical-align: middle; margin-left: 2px; font-size: 0.7em; color: #a1887f;\">Other</span></span><span style=\"padding: 2px; border-radius: 4px; border: 1px solid #ffcdd2; background: #ffebee\">стоимость<span style=\"vertical-align: middle; margin-left: 2px; font-size: 0.7em; color: #e57373;\">Costs</span></span><span style=\"padding: 2px; border-radius: 4px; border: 1px solid #d7ccc8; background: #efebe9\"> обойдется в районе 200000 рублей <span style=\"vertical-align: middle; margin-left: 2px; font-size: 0.7em; color: #a1887f;\">Other</span></span><span style=\"padding: 2px; border-radius: 4px; border: 1px solid #bbdefb; background: #e3f2fd\">мощьность<span style=\"vertical-align: middle; margin-left: 2px; font-size: 0.7em; color: #64b5f6;\">Driveability</span></span><span style=\"padding: 2px; border-radius: 4px; border: 1px solid #d7ccc8; background: #efebe9\"> у нее 100 <span style=\"vertical-align: middle; margin-left: 2px; font-size: 0.7em; color: #a1887f;\">Other</span></span><span style=\"padding: 2px; border-radius: 4px; border: 1px solid #bbdefb; background: #e3f2fd\">лошадей<span style=\"vertical-align: middle; margin-left: 2px; font-size: 0.7em; color: #64b5f6;\">Driveability</span></span><span style=\"padding: 2px; border-radius: 4px; border: 1px solid #d7ccc8; background: #efebe9\"> <span style=\"vertical-align: middle; margin-left: 2px; font-size: 0.7em; color: #a1887f;\">Other</span></span><span style=\"padding: 2px; border-radius: 4px; border: 1px solid #bbdefb; background: #e3f2fd\">макс скорость<span style=\"vertical-align: middle; margin-left: 2px; font-size: 0.7em; color: #64b5f6;\">Driveability</span></span><span style=\"padding: 2px; border-radius: 4px; border: 1px solid #d7ccc8; background: #efebe9\"> 185 км в час.<span style=\"vertical-align: middle; margin-left: 2px; font-size: 0.7em; color: #a1887f;\">Other</span></span></div>"
            ],
            "text/plain": [
              "<IPython.core.display.HTML object>"
            ]
          },
          "metadata": {}
        },
        {
          "output_type": "stream",
          "name": "stdout",
          "text": [
            "[('Сегодня', 'Other'), ('я', 'Other'), ('купил', 'Other'), ('машину', 'B-Whole'), ('лада', 'I-Whole'), ('гранта', 'I-Whole'), ('и', 'Other'), ('ни', 'Other'), ('как', 'Other'), ('не', 'Other')] \n",
            "\n"
          ]
        },
        {
          "output_type": "display_data",
          "data": {
            "text/html": [
              "<div class=\"tex2jax_ignore\" style=\"white-space: pre-wrap\"><span style=\"padding: 2px; border-radius: 4px; border: 1px solid #d7ccc8; background: #efebe9\">Общее впечатление : замечательный <span style=\"vertical-align: middle; margin-left: 2px; font-size: 0.7em; color: #a1887f;\">Other</span></span><span style=\"padding: 2px; border-radius: 4px; border: 1px solid #ffcdd2; background: #ffebee\">автомобиль<span style=\"vertical-align: middle; margin-left: 2px; font-size: 0.7em; color: #e57373;\">Whole</span></span></div>"
            ],
            "text/plain": [
              "<IPython.core.display.HTML object>"
            ]
          },
          "metadata": {}
        },
        {
          "output_type": "stream",
          "name": "stdout",
          "text": [
            "[('Общее', 'Other'), ('впечатление', 'Other'), (':', 'Other'), ('замечательный', 'Other'), ('автомобиль', 'B-Whole')] \n",
            "\n"
          ]
        }
      ],
      "source": [
        "for rand_i in random_picks:\n",
        "    text, aspect_spans = texts_w_aspect_spans[rand_i]\n",
        "\n",
        "    print('Разбиение на предложения и BIO токенизация текста №:',rand_i) \n",
        "    for sentence, spans in sentence_splitter(text, aspect_spans):\n",
        "\n",
        "        cover_spans      = fill_gaps(sentence,spans)\n",
        "        tokens_w_biotags = extract_BIO_tagged_tokens(sentence, \n",
        "                                                     cover_spans, \n",
        "                                                     word_tokenizer.tokenize)\n",
        "\n",
        "        show_markup(sentence, cover_spans)\n",
        "        print(tokens_w_biotags[:10],'\\n')"
      ]
    },
    {
      "cell_type": "markdown",
      "metadata": {
        "id": "hO8-XAq1u0uk"
      },
      "source": [
        "##  Подготовка данных для обучения: "
      ]
    },
    {
      "cell_type": "code",
      "execution_count": 46,
      "metadata": {
        "id": "rzkVI9d2u0ul"
      },
      "outputs": [],
      "source": [
        "from dlnlputils.sentiment_utils import prepare_data, form_vocabulary_and_tagset"
      ]
    },
    {
      "cell_type": "code",
      "execution_count": 47,
      "metadata": {
        "id": "ywcNmPz1u0ul"
      },
      "outputs": [],
      "source": [
        "# Если Вы запускаете ноутбук на colab или kaggle, добавьте в начало пути ./stepik-dl-nlp\n",
        "xml_train = './stepik-dl-nlp/datasets/sentirueval2015/SentiRuEval_car_markup_train.xml'\n",
        "xml_test  = './stepik-dl-nlp/datasets/sentirueval2015/SentiRuEval_car_markup_test.xml'"
      ]
    },
    {
      "cell_type": "markdown",
      "metadata": {
        "id": "ZUDQbUC7u0ul"
      },
      "source": [
        "### Токенизация: "
      ]
    },
    {
      "cell_type": "code",
      "execution_count": 48,
      "metadata": {
        "id": "JmZYvEqJu0ul"
      },
      "outputs": [],
      "source": [
        "texts_w_aspect_spans = parse_xml_aspect(xml_train)\n",
        "training_data        = prepare_data(texts_w_aspect_spans, word_tokenizer.tokenize)\n",
        "\n",
        "texts_w_aspect_spans = parse_xml_aspect(xml_test)\n",
        "test_data            = prepare_data(texts_w_aspect_spans, word_tokenizer.tokenize)\n"
      ]
    },
    {
      "cell_type": "markdown",
      "metadata": {
        "id": "pyNqqbvvu0um"
      },
      "source": [
        "#### разбиение на предложения дало нам столько коротких текстов:"
      ]
    },
    {
      "cell_type": "code",
      "execution_count": 49,
      "metadata": {
        "colab": {
          "base_uri": "https://localhost:8080/"
        },
        "id": "H6t1GFT_u0um",
        "outputId": "aaecbddc-6512-4c25-f9f8-f1728af70996"
      },
      "outputs": [
        {
          "output_type": "execute_result",
          "data": {
            "text/plain": [
              "(2210, 1922)"
            ]
          },
          "metadata": {},
          "execution_count": 49
        }
      ],
      "source": [
        "len(training_data), len(test_data)"
      ]
    },
    {
      "cell_type": "code",
      "execution_count": 50,
      "metadata": {
        "id": "JAWZFK64u0um"
      },
      "outputs": [],
      "source": [
        "all_data = training_data + test_data"
      ]
    },
    {
      "cell_type": "code",
      "execution_count": 51,
      "metadata": {
        "id": "JLJzP3cCu0um"
      },
      "outputs": [],
      "source": [
        "vocabulary,labels = form_vocabulary_and_tagset(all_data)"
      ]
    },
    {
      "cell_type": "code",
      "execution_count": 52,
      "metadata": {
        "colab": {
          "base_uri": "https://localhost:8080/"
        },
        "id": "AilM-mwTu0un",
        "outputId": "d5b4b897-0a84-4056-ee40-5f6d5f501a98"
      },
      "outputs": [
        {
          "output_type": "execute_result",
          "data": {
            "text/plain": [
              "{'B-Appearance',\n",
              " 'B-Comfort',\n",
              " 'B-Costs',\n",
              " 'B-Driveability',\n",
              " 'B-Reliability',\n",
              " 'B-Safety',\n",
              " 'B-Whole',\n",
              " 'I-Appearance',\n",
              " 'I-Comfort',\n",
              " 'I-Costs',\n",
              " 'I-Driveability',\n",
              " 'I-Reliability',\n",
              " 'I-Safety',\n",
              " 'I-Whole',\n",
              " 'Other'}"
            ]
          },
          "metadata": {},
          "execution_count": 52
        }
      ],
      "source": [
        "labels"
      ]
    },
    {
      "cell_type": "markdown",
      "metadata": {
        "id": "ZdcpLc4du0un"
      },
      "source": [
        "#### а размер словаря:"
      ]
    },
    {
      "cell_type": "code",
      "execution_count": 53,
      "metadata": {
        "colab": {
          "base_uri": "https://localhost:8080/"
        },
        "id": "KfXJWUVGu0un",
        "outputId": "060925d3-0d65-44ef-8b22-45f479788b8c"
      },
      "outputs": [
        {
          "output_type": "execute_result",
          "data": {
            "text/plain": [
              "(11333, 15)"
            ]
          },
          "metadata": {},
          "execution_count": 53
        }
      ],
      "source": [
        "len(vocabulary), len(labels)"
      ]
    },
    {
      "cell_type": "markdown",
      "metadata": {
        "id": "YT-pFi9Nu0un"
      },
      "source": [
        "#### индексация:"
      ]
    },
    {
      "cell_type": "code",
      "execution_count": 54,
      "metadata": {
        "id": "Tv3GEuRsu0un"
      },
      "outputs": [],
      "source": [
        "from dlnlputils.sentiment_utils import Converter, generate_markup"
      ]
    },
    {
      "cell_type": "code",
      "execution_count": 55,
      "metadata": {
        "id": "oBUjBQo6u0uo"
      },
      "outputs": [],
      "source": [
        "converter = Converter(vocabulary,labels)"
      ]
    },
    {
      "cell_type": "code",
      "execution_count": 56,
      "metadata": {
        "colab": {
          "base_uri": "https://localhost:8080/",
          "height": 193
        },
        "id": "K5FEsNWMu0uo",
        "outputId": "44a68bfb-9b8c-4790-9fbd-232175b2ee6d"
      },
      "outputs": [
        {
          "output_type": "display_data",
          "data": {
            "text/html": [
              "<div class=\"tex2jax_ignore\" style=\"white-space: pre-wrap\"><span style=\"padding: 2px; border-radius: 4px; border: 1px solid #d7ccc8; background: #efebe9\">За первых три года не было<span style=\"vertical-align: middle; margin-left: 2px; font-size: 0.7em; color: #a1887f;\">Other</span></span> <span style=\"padding: 2px; border-radius: 4px; border: 1px solid #c8e6c9; background: #e8f5e9\">ни одной поломки<span style=\"vertical-align: middle; margin-left: 2px; font-size: 0.7em; color: #66bb6a;\">Reliability</span></span> <span style=\"padding: 2px; border-radius: 4px; border: 1px solid #d7ccc8; background: #efebe9\">, потом стали проявляться мелкие<span style=\"vertical-align: middle; margin-left: 2px; font-size: 0.7em; color: #a1887f;\">Other</span></span> <span style=\"padding: 2px; border-radius: 4px; border: 1px solid #c8e6c9; background: #e8f5e9\">неисправности<span style=\"vertical-align: middle; margin-left: 2px; font-size: 0.7em; color: #66bb6a;\">Reliability</span></span> <span style=\"padding: 2px; border-radius: 4px; border: 1px solid #d7ccc8; background: #efebe9\">:<span style=\"vertical-align: middle; margin-left: 2px; font-size: 0.7em; color: #a1887f;\">Other</span></span> <span style=\"padding: 2px; border-radius: 4px; border: 1px solid #c8e6c9; background: #e8f5e9\">подшипник на полуоси<span style=\"vertical-align: middle; margin-left: 2px; font-size: 0.7em; color: #66bb6a;\">Reliability</span></span> <span style=\"padding: 2px; border-radius: 4px; border: 1px solid #d7ccc8; background: #efebe9\">,<span style=\"vertical-align: middle; margin-left: 2px; font-size: 0.7em; color: #a1887f;\">Other</span></span> <span style=\"padding: 2px; border-radius: 4px; border: 1px solid #c8e6c9; background: #e8f5e9\">лампочки дальнего ближнего света<span style=\"vertical-align: middle; margin-left: 2px; font-size: 0.7em; color: #66bb6a;\">Reliability</span></span> <span style=\"padding: 2px; border-radius: 4px; border: 1px solid #d7ccc8; background: #efebe9\">,<span style=\"vertical-align: middle; margin-left: 2px; font-size: 0.7em; color: #a1887f;\">Other</span></span> <span style=\"padding: 2px; border-radius: 4px; border: 1px solid #c8e6c9; background: #e8f5e9\">крестовины<span style=\"vertical-align: middle; margin-left: 2px; font-size: 0.7em; color: #66bb6a;\">Reliability</span></span> <span style=\"padding: 2px; border-radius: 4px; border: 1px solid #d7ccc8; background: #efebe9\">,<span style=\"vertical-align: middle; margin-left: 2px; font-size: 0.7em; color: #a1887f;\">Other</span></span> <span style=\"padding: 2px; border-radius: 4px; border: 1px solid #c8e6c9; background: #e8f5e9\">аккумулятор<span style=\"vertical-align: middle; margin-left: 2px; font-size: 0.7em; color: #66bb6a;\">Reliability</span></span> <span style=\"padding: 2px; border-radius: 4px; border: 1px solid #d7ccc8; background: #efebe9\">,<span style=\"vertical-align: middle; margin-left: 2px; font-size: 0.7em; color: #a1887f;\">Other</span></span> <span style=\"padding: 2px; border-radius: 4px; border: 1px solid #c8e6c9; background: #e8f5e9\">свечи<span style=\"vertical-align: middle; margin-left: 2px; font-size: 0.7em; color: #66bb6a;\">Reliability</span></span></div>"
            ],
            "text/plain": [
              "<IPython.core.display.HTML object>"
            ]
          },
          "metadata": {}
        },
        {
          "output_type": "stream",
          "name": "stdout",
          "text": [
            "tensor([ 1395,  7307, 10381,  3591,  6303,  2877,  6524,  6847,  7826,   289,\n",
            "         8063,  9912,  8648,  5768,  6381,   823,  7653,  6064,  7835,   289,\n",
            "         5435,  3739,  2737,  9234,   289,  5331,   289,  2540,   289,  9247])\n",
            "tensor([14, 14, 14, 14, 14, 14,  4, 11, 11, 14, 14, 14, 14, 14,  4, 14,  4, 11,\n",
            "        11, 14,  4, 11, 11, 11, 14,  4, 14,  4, 14,  4])\n",
            "\n"
          ]
        },
        {
          "output_type": "display_data",
          "data": {
            "text/html": [
              "<div class=\"tex2jax_ignore\" style=\"white-space: pre-wrap\"><span style=\"padding: 2px; border-radius: 4px; border: 1px solid #d7ccc8; background: #efebe9\">За первых три года не было<span style=\"vertical-align: middle; margin-left: 2px; font-size: 0.7em; color: #a1887f;\">Other</span></span> <span style=\"padding: 2px; border-radius: 4px; border: 1px solid #c8e6c9; background: #e8f5e9\">ни одной поломки<span style=\"vertical-align: middle; margin-left: 2px; font-size: 0.7em; color: #66bb6a;\">Reliability</span></span> <span style=\"padding: 2px; border-radius: 4px; border: 1px solid #d7ccc8; background: #efebe9\">, потом стали проявляться мелкие<span style=\"vertical-align: middle; margin-left: 2px; font-size: 0.7em; color: #a1887f;\">Other</span></span> <span style=\"padding: 2px; border-radius: 4px; border: 1px solid #c8e6c9; background: #e8f5e9\">неисправности<span style=\"vertical-align: middle; margin-left: 2px; font-size: 0.7em; color: #66bb6a;\">Reliability</span></span> <span style=\"padding: 2px; border-radius: 4px; border: 1px solid #d7ccc8; background: #efebe9\">:<span style=\"vertical-align: middle; margin-left: 2px; font-size: 0.7em; color: #a1887f;\">Other</span></span> <span style=\"padding: 2px; border-radius: 4px; border: 1px solid #c8e6c9; background: #e8f5e9\">подшипник на полуоси<span style=\"vertical-align: middle; margin-left: 2px; font-size: 0.7em; color: #66bb6a;\">Reliability</span></span> <span style=\"padding: 2px; border-radius: 4px; border: 1px solid #d7ccc8; background: #efebe9\">,<span style=\"vertical-align: middle; margin-left: 2px; font-size: 0.7em; color: #a1887f;\">Other</span></span> <span style=\"padding: 2px; border-radius: 4px; border: 1px solid #c8e6c9; background: #e8f5e9\">лампочки дальнего ближнего света<span style=\"vertical-align: middle; margin-left: 2px; font-size: 0.7em; color: #66bb6a;\">Reliability</span></span> <span style=\"padding: 2px; border-radius: 4px; border: 1px solid #d7ccc8; background: #efebe9\">,<span style=\"vertical-align: middle; margin-left: 2px; font-size: 0.7em; color: #a1887f;\">Other</span></span> <span style=\"padding: 2px; border-radius: 4px; border: 1px solid #c8e6c9; background: #e8f5e9\">крестовины<span style=\"vertical-align: middle; margin-left: 2px; font-size: 0.7em; color: #66bb6a;\">Reliability</span></span> <span style=\"padding: 2px; border-radius: 4px; border: 1px solid #d7ccc8; background: #efebe9\">,<span style=\"vertical-align: middle; margin-left: 2px; font-size: 0.7em; color: #a1887f;\">Other</span></span> <span style=\"padding: 2px; border-radius: 4px; border: 1px solid #c8e6c9; background: #e8f5e9\">аккумулятор<span style=\"vertical-align: middle; margin-left: 2px; font-size: 0.7em; color: #66bb6a;\">Reliability</span></span> <span style=\"padding: 2px; border-radius: 4px; border: 1px solid #d7ccc8; background: #efebe9\">,<span style=\"vertical-align: middle; margin-left: 2px; font-size: 0.7em; color: #a1887f;\">Other</span></span> <span style=\"padding: 2px; border-radius: 4px; border: 1px solid #c8e6c9; background: #e8f5e9\">свечи<span style=\"vertical-align: middle; margin-left: 2px; font-size: 0.7em; color: #66bb6a;\">Reliability</span></span></div>"
            ],
            "text/plain": [
              "<IPython.core.display.HTML object>"
            ]
          },
          "metadata": {}
        }
      ],
      "source": [
        "test_recipe, test_tags = training_data[1211]\n",
        "\n",
        "text, spans = generate_markup(test_recipe, test_tags) \n",
        "\n",
        "show_markup(text, spans)\n",
        "\n",
        "encoded_recipe = converter.words_to_index(test_recipe)\n",
        "encoded_tags   = converter.tags_to_index(test_tags)\n",
        "\n",
        "print(encoded_recipe)\n",
        "print(encoded_tags)\n",
        "print()\n",
        "\n",
        "decoded_recipe = converter.indices_to_words(encoded_recipe)\n",
        "decoded_tags   = converter.indices_to_tags(encoded_tags)\n",
        "\n",
        "text, spans = generate_markup(decoded_recipe, decoded_tags) \n",
        "\n",
        "show_markup(text, spans)"
      ]
    },
    {
      "cell_type": "markdown",
      "metadata": {
        "id": "PKKXWrCNu0uo"
      },
      "source": [
        "### Нейросети"
      ]
    },
    {
      "cell_type": "code",
      "execution_count": 39,
      "metadata": {
        "id": "TYAnbEW7u0uo"
      },
      "outputs": [],
      "source": [
        "EMBEDDING_DIM = 300\n",
        "HIDDEN_DIM    = 32\n",
        "VOCAB_SIZE    = len(converter.word_to_idx)\n",
        "TAGSET_SIZE   = len(converter.tag_to_idx)"
      ]
    },
    {
      "cell_type": "markdown",
      "metadata": {
        "id": "2YZk5pJNu0up"
      },
      "source": [
        "###  Предобученные векторы слов\n",
        "\n",
        "Алгоритм fastText обученный на корпусе Тайга, смотрите подробности на сайте: https://rusvectores.org/ru/models/\n"
      ]
    },
    {
      "cell_type": "code",
      "execution_count": 40,
      "metadata": {
        "id": "Ck4q03ngu0up"
      },
      "outputs": [],
      "source": [
        "# !pip3 install wget"
      ]
    },
    {
      "cell_type": "code",
      "execution_count": 57,
      "metadata": {
        "scrolled": true,
        "id": "Ct9k5Kreu0up"
      },
      "outputs": [],
      "source": [
        "import zipfile\n",
        "import gensim\n",
        "import wget\n",
        "\n",
        "model_url = 'http://vectors.nlpl.eu/repository/11/187.zip'\n",
        "wget.download(model_url)\n",
        "model_file = './stepik-dl-nlp/datasets/' + model_url.split('/')[-1]"
      ]
    },
    {
      "cell_type": "markdown",
      "source": [
        "А теперь перейдём к нейросетевому алгоритму. На этот раз мы воспользуемся векторами слов из датасета RusVectores с одноимённого сайта, подготовленного с помощью алгоритма FastText. В предобученной модели FastText, наверное, присутствуют следующие слова: \"тачка\", \"двигатель\" и \"Audi\". Посмотрим, какие векторы являются ближайшими к векторам этих слов. Например, к слову \"двигатель\" ближайшие векторы — \"двигатели\" "
      ],
      "metadata": {
        "id": "VG1n3nQnzLxM"
      }
    },
    {
      "cell_type": "code",
      "execution_count": 59,
      "metadata": {
        "collapsed": true,
        "colab": {
          "base_uri": "https://localhost:8080/",
          "height": 407
        },
        "id": "MGX4aakWu0up",
        "outputId": "27f35bd4-278d-46c3-893a-db6fb779754f"
      },
      "outputs": [
        {
          "output_type": "error",
          "ename": "FileNotFoundError",
          "evalue": "ignored",
          "traceback": [
            "\u001b[0;31m---------------------------------------------------------------------------\u001b[0m",
            "\u001b[0;31mFileNotFoundError\u001b[0m                         Traceback (most recent call last)",
            "\u001b[0;32m<ipython-input-59-20dea2ab92e2>\u001b[0m in \u001b[0;36m<module>\u001b[0;34m()\u001b[0m\n\u001b[0;32m----> 1\u001b[0;31m \u001b[0mw2v_model\u001b[0m \u001b[0;34m=\u001b[0m \u001b[0mgensim\u001b[0m\u001b[0;34m.\u001b[0m\u001b[0mmodels\u001b[0m\u001b[0;34m.\u001b[0m\u001b[0mKeyedVectors\u001b[0m\u001b[0;34m.\u001b[0m\u001b[0mload\u001b[0m\u001b[0;34m(\u001b[0m\u001b[0;34m'./stepik-dl-nlp/datasets/187/model.model'\u001b[0m\u001b[0;34m)\u001b[0m\u001b[0;34m\u001b[0m\u001b[0;34m\u001b[0m\u001b[0m\n\u001b[0m\u001b[1;32m      2\u001b[0m \u001b[0;34m\u001b[0m\u001b[0m\n\u001b[1;32m      3\u001b[0m \u001b[0mwords\u001b[0m \u001b[0;34m=\u001b[0m \u001b[0;34m[\u001b[0m\u001b[0;34m'тачка'\u001b[0m\u001b[0;34m,\u001b[0m \u001b[0;34m'двигатель'\u001b[0m\u001b[0;34m,\u001b[0m \u001b[0;34m'ауди'\u001b[0m\u001b[0;34m]\u001b[0m\u001b[0;34m\u001b[0m\u001b[0;34m\u001b[0m\u001b[0m\n\u001b[1;32m      4\u001b[0m \u001b[0;34m\u001b[0m\u001b[0m\n\u001b[1;32m      5\u001b[0m \u001b[0;32mfor\u001b[0m \u001b[0mword\u001b[0m \u001b[0;32min\u001b[0m \u001b[0mwords\u001b[0m\u001b[0;34m:\u001b[0m\u001b[0;34m\u001b[0m\u001b[0;34m\u001b[0m\u001b[0m\n",
            "\u001b[0;32m/usr/local/lib/python3.7/dist-packages/gensim/models/keyedvectors.py\u001b[0m in \u001b[0;36mload\u001b[0;34m(cls, fname_or_handle, **kwargs)\u001b[0m\n\u001b[1;32m   1538\u001b[0m     \u001b[0;34m@\u001b[0m\u001b[0mclassmethod\u001b[0m\u001b[0;34m\u001b[0m\u001b[0;34m\u001b[0m\u001b[0m\n\u001b[1;32m   1539\u001b[0m     \u001b[0;32mdef\u001b[0m \u001b[0mload\u001b[0m\u001b[0;34m(\u001b[0m\u001b[0mcls\u001b[0m\u001b[0;34m,\u001b[0m \u001b[0mfname_or_handle\u001b[0m\u001b[0;34m,\u001b[0m \u001b[0;34m**\u001b[0m\u001b[0mkwargs\u001b[0m\u001b[0;34m)\u001b[0m\u001b[0;34m:\u001b[0m\u001b[0;34m\u001b[0m\u001b[0;34m\u001b[0m\u001b[0m\n\u001b[0;32m-> 1540\u001b[0;31m         \u001b[0mmodel\u001b[0m \u001b[0;34m=\u001b[0m \u001b[0msuper\u001b[0m\u001b[0;34m(\u001b[0m\u001b[0mWordEmbeddingsKeyedVectors\u001b[0m\u001b[0;34m,\u001b[0m \u001b[0mcls\u001b[0m\u001b[0;34m)\u001b[0m\u001b[0;34m.\u001b[0m\u001b[0mload\u001b[0m\u001b[0;34m(\u001b[0m\u001b[0mfname_or_handle\u001b[0m\u001b[0;34m,\u001b[0m \u001b[0;34m**\u001b[0m\u001b[0mkwargs\u001b[0m\u001b[0;34m)\u001b[0m\u001b[0;34m\u001b[0m\u001b[0;34m\u001b[0m\u001b[0m\n\u001b[0m\u001b[1;32m   1541\u001b[0m         \u001b[0;32mif\u001b[0m \u001b[0misinstance\u001b[0m\u001b[0;34m(\u001b[0m\u001b[0mmodel\u001b[0m\u001b[0;34m,\u001b[0m \u001b[0mFastTextKeyedVectors\u001b[0m\u001b[0;34m)\u001b[0m\u001b[0;34m:\u001b[0m\u001b[0;34m\u001b[0m\u001b[0;34m\u001b[0m\u001b[0m\n\u001b[1;32m   1542\u001b[0m             \u001b[0;32mif\u001b[0m \u001b[0;32mnot\u001b[0m \u001b[0mhasattr\u001b[0m\u001b[0;34m(\u001b[0m\u001b[0mmodel\u001b[0m\u001b[0;34m,\u001b[0m \u001b[0;34m'compatible_hash'\u001b[0m\u001b[0;34m)\u001b[0m\u001b[0;34m:\u001b[0m\u001b[0;34m\u001b[0m\u001b[0;34m\u001b[0m\u001b[0m\n",
            "\u001b[0;32m/usr/local/lib/python3.7/dist-packages/gensim/models/keyedvectors.py\u001b[0m in \u001b[0;36mload\u001b[0;34m(cls, fname_or_handle, **kwargs)\u001b[0m\n\u001b[1;32m    226\u001b[0m     \u001b[0;34m@\u001b[0m\u001b[0mclassmethod\u001b[0m\u001b[0;34m\u001b[0m\u001b[0;34m\u001b[0m\u001b[0m\n\u001b[1;32m    227\u001b[0m     \u001b[0;32mdef\u001b[0m \u001b[0mload\u001b[0m\u001b[0;34m(\u001b[0m\u001b[0mcls\u001b[0m\u001b[0;34m,\u001b[0m \u001b[0mfname_or_handle\u001b[0m\u001b[0;34m,\u001b[0m \u001b[0;34m**\u001b[0m\u001b[0mkwargs\u001b[0m\u001b[0;34m)\u001b[0m\u001b[0;34m:\u001b[0m\u001b[0;34m\u001b[0m\u001b[0;34m\u001b[0m\u001b[0m\n\u001b[0;32m--> 228\u001b[0;31m         \u001b[0;32mreturn\u001b[0m \u001b[0msuper\u001b[0m\u001b[0;34m(\u001b[0m\u001b[0mBaseKeyedVectors\u001b[0m\u001b[0;34m,\u001b[0m \u001b[0mcls\u001b[0m\u001b[0;34m)\u001b[0m\u001b[0;34m.\u001b[0m\u001b[0mload\u001b[0m\u001b[0;34m(\u001b[0m\u001b[0mfname_or_handle\u001b[0m\u001b[0;34m,\u001b[0m \u001b[0;34m**\u001b[0m\u001b[0mkwargs\u001b[0m\u001b[0;34m)\u001b[0m\u001b[0;34m\u001b[0m\u001b[0;34m\u001b[0m\u001b[0m\n\u001b[0m\u001b[1;32m    229\u001b[0m \u001b[0;34m\u001b[0m\u001b[0m\n\u001b[1;32m    230\u001b[0m     \u001b[0;32mdef\u001b[0m \u001b[0msimilarity\u001b[0m\u001b[0;34m(\u001b[0m\u001b[0mself\u001b[0m\u001b[0;34m,\u001b[0m \u001b[0mentity1\u001b[0m\u001b[0;34m,\u001b[0m \u001b[0mentity2\u001b[0m\u001b[0;34m)\u001b[0m\u001b[0;34m:\u001b[0m\u001b[0;34m\u001b[0m\u001b[0;34m\u001b[0m\u001b[0m\n",
            "\u001b[0;32m/usr/local/lib/python3.7/dist-packages/gensim/utils.py\u001b[0m in \u001b[0;36mload\u001b[0;34m(cls, fname, mmap)\u001b[0m\n\u001b[1;32m    424\u001b[0m         \u001b[0mcompress\u001b[0m\u001b[0;34m,\u001b[0m \u001b[0msubname\u001b[0m \u001b[0;34m=\u001b[0m \u001b[0mSaveLoad\u001b[0m\u001b[0;34m.\u001b[0m\u001b[0m_adapt_by_suffix\u001b[0m\u001b[0;34m(\u001b[0m\u001b[0mfname\u001b[0m\u001b[0;34m)\u001b[0m\u001b[0;34m\u001b[0m\u001b[0;34m\u001b[0m\u001b[0m\n\u001b[1;32m    425\u001b[0m \u001b[0;34m\u001b[0m\u001b[0m\n\u001b[0;32m--> 426\u001b[0;31m         \u001b[0mobj\u001b[0m \u001b[0;34m=\u001b[0m \u001b[0munpickle\u001b[0m\u001b[0;34m(\u001b[0m\u001b[0mfname\u001b[0m\u001b[0;34m)\u001b[0m\u001b[0;34m\u001b[0m\u001b[0;34m\u001b[0m\u001b[0m\n\u001b[0m\u001b[1;32m    427\u001b[0m         \u001b[0mobj\u001b[0m\u001b[0;34m.\u001b[0m\u001b[0m_load_specials\u001b[0m\u001b[0;34m(\u001b[0m\u001b[0mfname\u001b[0m\u001b[0;34m,\u001b[0m \u001b[0mmmap\u001b[0m\u001b[0;34m,\u001b[0m \u001b[0mcompress\u001b[0m\u001b[0;34m,\u001b[0m \u001b[0msubname\u001b[0m\u001b[0;34m)\u001b[0m\u001b[0;34m\u001b[0m\u001b[0;34m\u001b[0m\u001b[0m\n\u001b[1;32m    428\u001b[0m         \u001b[0mlogger\u001b[0m\u001b[0;34m.\u001b[0m\u001b[0minfo\u001b[0m\u001b[0;34m(\u001b[0m\u001b[0;34m\"loaded %s\"\u001b[0m\u001b[0;34m,\u001b[0m \u001b[0mfname\u001b[0m\u001b[0;34m)\u001b[0m\u001b[0;34m\u001b[0m\u001b[0;34m\u001b[0m\u001b[0m\n",
            "\u001b[0;32m/usr/local/lib/python3.7/dist-packages/gensim/utils.py\u001b[0m in \u001b[0;36munpickle\u001b[0;34m(fname)\u001b[0m\n\u001b[1;32m   1379\u001b[0m \u001b[0;34m\u001b[0m\u001b[0m\n\u001b[1;32m   1380\u001b[0m     \"\"\"\n\u001b[0;32m-> 1381\u001b[0;31m     \u001b[0;32mwith\u001b[0m \u001b[0mopen\u001b[0m\u001b[0;34m(\u001b[0m\u001b[0mfname\u001b[0m\u001b[0;34m,\u001b[0m \u001b[0;34m'rb'\u001b[0m\u001b[0;34m)\u001b[0m \u001b[0;32mas\u001b[0m \u001b[0mf\u001b[0m\u001b[0;34m:\u001b[0m\u001b[0;34m\u001b[0m\u001b[0;34m\u001b[0m\u001b[0m\n\u001b[0m\u001b[1;32m   1382\u001b[0m         \u001b[0;31m# Because of loading from S3 load can't be used (missing readline in smart_open)\u001b[0m\u001b[0;34m\u001b[0m\u001b[0;34m\u001b[0m\u001b[0;34m\u001b[0m\u001b[0m\n\u001b[1;32m   1383\u001b[0m         \u001b[0;32mif\u001b[0m \u001b[0msys\u001b[0m\u001b[0;34m.\u001b[0m\u001b[0mversion_info\u001b[0m \u001b[0;34m>\u001b[0m \u001b[0;34m(\u001b[0m\u001b[0;36m3\u001b[0m\u001b[0;34m,\u001b[0m \u001b[0;36m0\u001b[0m\u001b[0;34m)\u001b[0m\u001b[0;34m:\u001b[0m\u001b[0;34m\u001b[0m\u001b[0;34m\u001b[0m\u001b[0m\n",
            "\u001b[0;32m/usr/local/lib/python3.7/dist-packages/smart_open/smart_open_lib.py\u001b[0m in \u001b[0;36mopen\u001b[0;34m(uri, mode, buffering, encoding, errors, newline, closefd, opener, ignore_ext, compression, transport_params)\u001b[0m\n\u001b[1;32m    193\u001b[0m         \u001b[0mencoding\u001b[0m\u001b[0;34m=\u001b[0m\u001b[0mencoding\u001b[0m\u001b[0;34m,\u001b[0m\u001b[0;34m\u001b[0m\u001b[0;34m\u001b[0m\u001b[0m\n\u001b[1;32m    194\u001b[0m         \u001b[0merrors\u001b[0m\u001b[0;34m=\u001b[0m\u001b[0merrors\u001b[0m\u001b[0;34m,\u001b[0m\u001b[0;34m\u001b[0m\u001b[0;34m\u001b[0m\u001b[0m\n\u001b[0;32m--> 195\u001b[0;31m         \u001b[0mnewline\u001b[0m\u001b[0;34m=\u001b[0m\u001b[0mnewline\u001b[0m\u001b[0;34m,\u001b[0m\u001b[0;34m\u001b[0m\u001b[0;34m\u001b[0m\u001b[0m\n\u001b[0m\u001b[1;32m    196\u001b[0m     )\n\u001b[1;32m    197\u001b[0m     \u001b[0;32mif\u001b[0m \u001b[0mfobj\u001b[0m \u001b[0;32mis\u001b[0m \u001b[0;32mnot\u001b[0m \u001b[0;32mNone\u001b[0m\u001b[0;34m:\u001b[0m\u001b[0;34m\u001b[0m\u001b[0;34m\u001b[0m\u001b[0m\n",
            "\u001b[0;32m/usr/local/lib/python3.7/dist-packages/smart_open/smart_open_lib.py\u001b[0m in \u001b[0;36m_shortcut_open\u001b[0;34m(uri, mode, compression, buffering, encoding, errors, newline)\u001b[0m\n\u001b[1;32m    359\u001b[0m         \u001b[0mopen_kwargs\u001b[0m\u001b[0;34m[\u001b[0m\u001b[0;34m'errors'\u001b[0m\u001b[0;34m]\u001b[0m \u001b[0;34m=\u001b[0m \u001b[0merrors\u001b[0m\u001b[0;34m\u001b[0m\u001b[0;34m\u001b[0m\u001b[0m\n\u001b[1;32m    360\u001b[0m \u001b[0;34m\u001b[0m\u001b[0m\n\u001b[0;32m--> 361\u001b[0;31m     \u001b[0;32mreturn\u001b[0m \u001b[0m_builtin_open\u001b[0m\u001b[0;34m(\u001b[0m\u001b[0mlocal_path\u001b[0m\u001b[0;34m,\u001b[0m \u001b[0mmode\u001b[0m\u001b[0;34m,\u001b[0m \u001b[0mbuffering\u001b[0m\u001b[0;34m=\u001b[0m\u001b[0mbuffering\u001b[0m\u001b[0;34m,\u001b[0m \u001b[0;34m**\u001b[0m\u001b[0mopen_kwargs\u001b[0m\u001b[0;34m)\u001b[0m\u001b[0;34m\u001b[0m\u001b[0;34m\u001b[0m\u001b[0m\n\u001b[0m\u001b[1;32m    362\u001b[0m \u001b[0;34m\u001b[0m\u001b[0m\n\u001b[1;32m    363\u001b[0m \u001b[0;34m\u001b[0m\u001b[0m\n",
            "\u001b[0;31mFileNotFoundError\u001b[0m: [Errno 2] No such file or directory: './stepik-dl-nlp/datasets/187/model.model'"
          ]
        }
      ],
      "source": [
        "w2v_model = gensim.models.KeyedVectors.load('./stepik-dl-nlp/datasets/187/model.model')\n",
        "\n",
        "words = ['тачка', 'двигатель', 'ауди']\n",
        "\n",
        "for word in words:\n",
        "    #if word in w2v_model:\n",
        "           \n",
        "    for i in w2v_model.most_similar(positive=[word], topn=10):\n",
        "        nearest_word      = i[0]\n",
        "        cosine_similarity = i[1]\n",
        "        print(nearest_word, cosine_similarity)\n",
        "    print('\\n')\n",
        "    \n",
        "    #else: print(word + ' is not present in the model')"
      ]
    },
    {
      "cell_type": "code",
      "execution_count": null,
      "metadata": {
        "id": "Z44pEf4Qu0up",
        "outputId": "f04266d3-d4b4-4f1e-d8f7-ee9eaa6b00c6"
      },
      "outputs": [
        {
          "data": {
            "text/plain": [
              "torch.Size([11333, 300])"
            ]
          },
          "execution_count": 31,
          "metadata": {},
          "output_type": "execute_result"
        }
      ],
      "source": [
        "numpy_embeddings = np.zeros(shape=[VOCAB_SIZE, EMBEDDING_DIM],dtype=np.float32)\n",
        "\n",
        "for word in vocabulary:\n",
        "    #if word in w2v_model:\n",
        "    vector = w2v_model.get_vector(word)\n",
        "    index  = converter.words_to_index([word])\n",
        "    numpy_embeddings[index] = vector\n",
        "        \n",
        "    #else: print(word + ' - такого слова нет в модели fasttext')\n",
        "        \n",
        "pretrained_embeddings = torch.FloatTensor(numpy_embeddings)\n",
        "pretrained_embeddings.shape"
      ]
    },
    {
      "cell_type": "markdown",
      "metadata": {
        "id": "z1i7Mp7nu0up"
      },
      "source": [
        "### LSTM \n",
        "\n",
        "1. Использует предобученные вектора слов и не изменяет их\n",
        "2. Двунаправленная\n",
        "\n",
        "\n",
        "\n",
        "Из всего множества векторов FastText мы возьмём только 11 333 вектора, соответствующие всем словам в нашем датасете, и поместим их в embedding матрицу. Далее мы определим нейросети LSTM, которая будет использовать эти векторы. Предобученные векторы мы передаём отдельным аргументом в метод init и — обратите внимание — говорим, что, во время обучения нейросети LSTM, она не должна дообучать наши пребодученные векторы. Это позволит нейросети сконцентрироваться на обучении собственных компонент. Вторая деталь, на которую я бы хотел обратить внимание — то, что теперь мы используем двунаправленную нейросеть и она будет работать следующим образом. Как всегда, слова попадают в объект \"конвертер\" и для них происходит замена индекса. В матрице эмбеддингов алгоритм находит векторы этих слов. Они, в свою очередь, попадают в LSTM. Но теперь это двунаправленная модель, и она также будет двигаться по предложению в обратном направлении. "
      ]
    },
    {
      "cell_type": "code",
      "execution_count": null,
      "metadata": {
        "id": "RZO2YgZ1u0uq"
      },
      "outputs": [],
      "source": [
        "class LSTMTagger(nn.Module):\n",
        "\n",
        "    def __init__(self, embedding_dim, hidden_dim, vocab_size, tagset_size, pretrained_embeddings):\n",
        "        super(LSTMTagger, self).__init__()\n",
        "        \n",
        "        self.hidden_dim      = hidden_dim\n",
        "        self.word_embeddings = nn.Embedding.from_pretrained(pretrained_embeddings, freeze=True)\n",
        "        self.lstm            = nn.LSTM(embedding_dim, hidden_dim, bidirectional=True)\n",
        "        self.hidden2tag      = nn.Linear(2*hidden_dim, tagset_size)\n",
        "\n",
        "    def forward(self, words):\n",
        "        embeds      = self.word_embeddings(words)\n",
        "        lstm_out, _ = self.lstm(embeds.view(len(words), 1, -1))\n",
        "        tag_space   = self.hidden2tag(lstm_out.view(len(words), -1))\n",
        "        tag_scores  = F.log_softmax(tag_space, dim=1)\n",
        "        \n",
        "        return tag_scores\n",
        "    \n",
        "    def predict_tags(self, words):\n",
        "        with torch.no_grad():\n",
        "            tags_pred = model(words).numpy()\n",
        "            tags_pred = np.argmax(tags_pred, axis=1)\n",
        "            \n",
        "        return tags_pred"
      ]
    },
    {
      "cell_type": "markdown",
      "metadata": {
        "id": "wOR6ylI7u0uq"
      },
      "source": [
        "### Взвешеная функция потерь"
      ]
    },
    {
      "cell_type": "code",
      "execution_count": null,
      "metadata": {
        "id": "PA_rit70u0uq",
        "outputId": "2629bfa9-4755-4814-e8c4-06152e75ff4e"
      },
      "outputs": [
        {
          "data": {
            "text/plain": [
              "[('Other', 23529),\n",
              " ('B-Driveability', 1188),\n",
              " ('B-Comfort', 1092),\n",
              " ('I-Driveability', 773),\n",
              " ('B-Reliability', 769),\n",
              " ('B-Whole', 768),\n",
              " ('I-Comfort', 480),\n",
              " ('I-Reliability', 457),\n",
              " ('B-Costs', 392),\n",
              " ('B-Appearance', 354),\n",
              " ('I-Whole', 310),\n",
              " ('I-Costs', 177),\n",
              " ('I-Appearance', 146),\n",
              " ('B-Safety', 87),\n",
              " ('I-Safety', 63)]"
            ]
          },
          "execution_count": 33,
          "metadata": {},
          "output_type": "execute_result"
        }
      ],
      "source": [
        "from collections import Counter\n",
        "\n",
        "tag_counter = Counter()\n",
        "for _,tokens in training_data:\n",
        "    for token in tokens:\n",
        "        tag_counter[token]+=1\n",
        "        \n",
        "tag_counter.most_common()     "
      ]
    },
    {
      "cell_type": "code",
      "execution_count": null,
      "metadata": {
        "id": "2QiphovWu0uq",
        "outputId": "7b57d986-458f-42a9-dc9e-ff5624db6904"
      },
      "outputs": [
        {
          "name": "stdout",
          "output_type": "stream",
          "text": [
            "tensor([ 66.7812,  21.6488,  60.3075,  19.8994,  30.7419, 271.7303,  30.7819,\n",
            "        161.9215,  49.2511, 133.5623,  30.5828,  51.7298, 375.2466,  76.2598,\n",
            "          1.0047])\n"
          ]
        }
      ],
      "source": [
        "class_weights = torch.ones(15)\n",
        "class_divs    = torch.ones(15)\n",
        "\n",
        "for tag, inv_weight in tag_counter.most_common():\n",
        "    tag_idx             = converter.tags_to_index([tag])\n",
        "    class_divs[tag_idx] = inv_weight\n",
        "    \n",
        "norm       = torch.norm(class_divs, p=2, dim=0).detach()\n",
        "class_divs = class_divs.div(norm.expand_as(class_divs))\n",
        "\n",
        "\n",
        "class_weights /= class_divs\n",
        "\n",
        "\n",
        "print(class_weights.detach())"
      ]
    },
    {
      "cell_type": "markdown",
      "source": [
        "Следующая модификация, которая позволит нам добиться высоких результатов при аспектной классификации — это взвешенная функция потерь. Из приведённой статистики мы видим, что тэг \"other\" встречается довольно часто (я бы сказал, почти всегда), а тэг \"внешний вид\" и тэг \"безопасность\" встречаются довольно редко. Мы хотим, чтобы взвешенная функция потерь сильнее штрафовала нашу нейросеть за ошибки при предсказании этих редких тэгов. "
      ],
      "metadata": {
        "id": "8PRD1nuy1QiB"
      }
    },
    {
      "cell_type": "code",
      "execution_count": null,
      "metadata": {
        "id": "3UjJ1anbu0uq"
      },
      "outputs": [],
      "source": [
        "model         = LSTMTagger(EMBEDDING_DIM, HIDDEN_DIM, VOCAB_SIZE, TAGSET_SIZE, pretrained_embeddings)\n",
        "loss_function = nn.NLLLoss(class_weights) \n",
        "optimizer     = optim.SGD(model.parameters(), lr=0.1)"
      ]
    },
    {
      "cell_type": "markdown",
      "metadata": {
        "id": "b0tJ3Enxu0uq"
      },
      "source": [
        "#### training"
      ]
    },
    {
      "cell_type": "code",
      "execution_count": null,
      "metadata": {
        "scrolled": false,
        "id": "c3W2NWUFu0uq",
        "outputId": "e819e920-0253-48a8-99b5-4326be5afc5c"
      },
      "outputs": [
        {
          "data": {
            "image/png": "[encoded data removed]",
            "text/plain": [
              "<Figure size 864x576 with 1 Axes>"
            ]
          },
          "metadata": {
            "needs_background": "light"
          },
          "output_type": "display_data"
        },
        {
          "name": "stdout",
          "output_type": "stream",
          "text": [
            "negative log likelihood loss:\n",
            "training   (min:    0.011, max:    4.351, cur:    0.211)\n"
          ]
        }
      ],
      "source": [
        "from livelossplot import PlotLosses\n",
        "\n",
        "liveplot = PlotLosses()\n",
        "\n",
        "for epoch in range(5): \n",
        "    for i, (recipe, tags) in enumerate(training_data):\n",
        "        \n",
        "        model.zero_grad()\n",
        "        \n",
        "        encoded_recipe = converter.words_to_index(recipe) # слово -> его номер в словаре \n",
        "        encoded_tags   = converter.tags_to_index(tags)    # тэг   -> его номер в списке тэгов\n",
        "        tag_scores     = model(encoded_recipe)\n",
        "        \n",
        "        loss = loss_function(tag_scores, encoded_tags)\n",
        "        loss.backward()\n",
        "        optimizer.step()\n",
        "        \n",
        "        \n",
        "        if i % 100 == 0:\n",
        "            liveplot.update({'negative log likelihood loss': loss})\n",
        "            liveplot.draw()\n",
        "            "
      ]
    },
    {
      "cell_type": "code",
      "execution_count": null,
      "metadata": {
        "id": "tmw7lRWcu0ur"
      },
      "outputs": [],
      "source": [
        "def predict_tags(model, converter, recipe):\n",
        "    \n",
        "    encoded_recipe = converter.words_to_index(recipe)        # слово -> его номер в словаре\n",
        "\n",
        "    encoded_tags   = model.predict_tags(encoded_recipe)      # предсказанные тэги (номера)\n",
        "\n",
        "    decoded_tags   = converter.indices_to_tags(encoded_tags) # номер тэга -> тэг\n",
        "    \n",
        "    return decoded_tags"
      ]
    },
    {
      "cell_type": "code",
      "execution_count": null,
      "metadata": {
        "scrolled": false,
        "id": "bmbmRo6Wu0ur",
        "outputId": "77a7c1e0-7906-4329-a7a1-2b6996325de8"
      },
      "outputs": [
        {
          "name": "stdout",
          "output_type": "stream",
          "text": [
            "истинные тэги:\n"
          ]
        },
        {
          "data": {
            "text/html": [
              "<div class=\"tex2jax_ignore\" style=\"white-space: pre-wrap\"><span style=\"padding: 2px; border-radius: 4px; border: 1px solid #d7ccc8; background: #efebe9\">Вот из чего им удалось сделать конфетку так это из небольших<span style=\"vertical-align: middle; margin-left: 2px; font-size: 0.7em; color: #a1887f;\">Other</span></span> <span style=\"padding: 2px; border-radius: 4px; border: 1px solid #ffcdd2; background: #ffebee\">коммерческих автомобилей<span style=\"vertical-align: middle; margin-left: 2px; font-size: 0.7em; color: #e57373;\">Whole</span></span> <span style=\"padding: 2px; border-radius: 4px; border: 1px solid #d7ccc8; background: #efebe9\">, но вот уже<span style=\"vertical-align: middle; margin-left: 2px; font-size: 0.7em; color: #a1887f;\">Other</span></span> <span style=\"padding: 2px; border-radius: 4px; border: 1px solid #ffcdd2; background: #ffebee\">Fiat Ducato<span style=\"vertical-align: middle; margin-left: 2px; font-size: 0.7em; color: #e57373;\">Whole</span></span> <span style=\"padding: 2px; border-radius: 4px; border: 1px solid #d7ccc8; background: #efebe9\">вечный аутсайдер среди больших автобусов , по<span style=\"vertical-align: middle; margin-left: 2px; font-size: 0.7em; color: #a1887f;\">Other</span></span> <span style=\"padding: 2px; border-radius: 4px; border: 1px solid #bbdefb; background: #e3f2fd\">дизайну<span style=\"vertical-align: middle; margin-left: 2px; font-size: 0.7em; color: #64b5f6;\">Appearance</span></span> <span style=\"padding: 2px; border-radius: 4px; border: 1px solid #d7ccc8; background: #efebe9\">видно , что<span style=\"vertical-align: middle; margin-left: 2px; font-size: 0.7em; color: #a1887f;\">Other</span></span> <span style=\"padding: 2px; border-radius: 4px; border: 1px solid #bbdefb; background: #e3f2fd\">Fiat Ducato<span style=\"vertical-align: middle; margin-left: 2px; font-size: 0.7em; color: #64b5f6;\">Appearance</span></span> <span style=\"padding: 2px; border-radius: 4px; border: 1px solid #d7ccc8; background: #efebe9\">пытается скопировать<span style=\"vertical-align: middle; margin-left: 2px; font-size: 0.7em; color: #a1887f;\">Other</span></span> <span style=\"padding: 2px; border-radius: 4px; border: 1px solid #bbdefb; background: #e3f2fd\">Peouget Boxer<span style=\"vertical-align: middle; margin-left: 2px; font-size: 0.7em; color: #64b5f6;\">Appearance</span></span> <span style=\"padding: 2px; border-radius: 4px; border: 1px solid #d7ccc8; background: #efebe9\">,<span style=\"vertical-align: middle; margin-left: 2px; font-size: 0.7em; color: #a1887f;\">Other</span></span> <span style=\"padding: 2px; border-radius: 4px; border: 1px solid #bbdefb; background: #e3f2fd\">фары<span style=\"vertical-align: middle; margin-left: 2px; font-size: 0.7em; color: #64b5f6;\">Appearance</span></span> <span style=\"padding: 2px; border-radius: 4px; border: 1px solid #d7ccc8; background: #efebe9\">и<span style=\"vertical-align: middle; margin-left: 2px; font-size: 0.7em; color: #a1887f;\">Other</span></span> <span style=\"padding: 2px; border-radius: 4px; border: 1px solid #bbdefb; background: #e3f2fd\">форма<span style=\"vertical-align: middle; margin-left: 2px; font-size: 0.7em; color: #64b5f6;\">Appearance</span></span> <span style=\"padding: 2px; border-radius: 4px; border: 1px solid #d7ccc8; background: #efebe9\">одни и те же во всяком случае и если поставить их рядом друг с другом , то особой разницы во<span style=\"vertical-align: middle; margin-left: 2px; font-size: 0.7em; color: #a1887f;\">Other</span></span> <span style=\"padding: 2px; border-radius: 4px; border: 1px solid #bbdefb; background: #e3f2fd\">внешности<span style=\"vertical-align: middle; margin-left: 2px; font-size: 0.7em; color: #64b5f6;\">Appearance</span></span> <span style=\"padding: 2px; border-radius: 4px; border: 1px solid #d7ccc8; background: #efebe9\">не будет , однако в<span style=\"vertical-align: middle; margin-left: 2px; font-size: 0.7em; color: #a1887f;\">Other</span></span> <span style=\"padding: 2px; border-radius: 4px; border: 1px solid #bbdefb; background: #e3f2fd\">начинке<span style=\"vertical-align: middle; margin-left: 2px; font-size: 0.7em; color: #64b5f6;\">Driveability</span></span> <span style=\"padding: 2px; border-radius: 4px; border: 1px solid #d7ccc8; background: #efebe9\">, Мы все знаем , что Французы пока еще впереди , да и по<span style=\"vertical-align: middle; margin-left: 2px; font-size: 0.7em; color: #a1887f;\">Other</span></span> <span style=\"padding: 2px; border-radius: 4px; border: 1px solid #ffcdd2; background: #ffebee\">цене<span style=\"vertical-align: middle; margin-left: 2px; font-size: 0.7em; color: #e57373;\">Costs</span></span> <span style=\"padding: 2px; border-radius: 4px; border: 1px solid #d7ccc8; background: #efebe9\">лям достаточно<span style=\"vertical-align: middle; margin-left: 2px; font-size: 0.7em; color: #a1887f;\">Other</span></span> <span style=\"padding: 2px; border-radius: 4px; border: 1px solid #ffcdd2; background: #ffebee\">накладно<span style=\"vertical-align: middle; margin-left: 2px; font-size: 0.7em; color: #e57373;\">Costs</span></span> <span style=\"padding: 2px; border-radius: 4px; border: 1px solid #d7ccc8; background: #efebe9\">отдавать за аутсайдера .<span style=\"vertical-align: middle; margin-left: 2px; font-size: 0.7em; color: #a1887f;\">Other</span></span></div>"
            ],
            "text/plain": [
              "BoxMarkup('Вот из чего им удалось сделать конфетку так это из небольших коммерческих автомобилей , но вот уже Fiat Ducato вечный аутсайдер среди больших автобусов , по дизайну видно , что Fiat Ducato пытается скопировать Peouget Boxer , фары и форма одни и те же во всяком случае и если поставить их рядом друг с другом , то особой разницы во внешности не будет , однако в начинке , Мы все знаем , что Французы пока еще впереди , да и по цене лям достаточно накладно отдавать за аутсайдера .',\n",
              "          [Span(0, 60, 'Other'),\n",
              "           Span(61, 85, 'Whole'),\n",
              "           Span(86, 98, 'Other'),\n",
              "           Span(99, 110, 'Whole'),\n",
              "           Span(111, 156, 'Other'),\n",
              "           Span(157, 164, 'Appearance'),\n",
              "           Span(165, 176, 'Other'),\n",
              "           Span(177, 188, 'Appearance'),\n",
              "           Span(189, 209, 'Other'),\n",
              "           Span(210, 223, 'Appearance'),\n",
              "           Span(224, 225, 'Other'),\n",
              "           Span(226, 230, 'Appearance'),\n",
              "           Span(231, 232, 'Other'),\n",
              "           Span(233, 238, 'Appearance'),\n",
              "           Span(239, 331, 'Other'),\n",
              "           Span(332, 341, 'Appearance'),\n",
              "           Span(342, 361, 'Other'),\n",
              "           Span(362, 369, 'Driveability'),\n",
              "           Span(370, 426, 'Other'),\n",
              "           Span(427, 431, 'Costs'),\n",
              "           Span(432, 446, 'Other'),\n",
              "           Span(447, 455, 'Costs'),\n",
              "           Span(456, 480, 'Other')])"
            ]
          },
          "metadata": {},
          "output_type": "display_data"
        },
        {
          "name": "stdout",
          "output_type": "stream",
          "text": [
            "предсказанные тэги:\n"
          ]
        },
        {
          "data": {
            "text/html": [
              "<div class=\"tex2jax_ignore\" style=\"white-space: pre-wrap\"><span style=\"padding: 2px; border-radius: 4px; border: 1px solid #d7ccc8; background: #efebe9\">Вот из чего им удалось сделать конфетку так это<span style=\"vertical-align: middle; margin-left: 2px; font-size: 0.7em; color: #a1887f;\">Other</span></span> <span style=\"padding: 2px; border-radius: 4px; border: 1px solid #ffcdd2; background: #ffebee\">из<span style=\"vertical-align: middle; margin-left: 2px; font-size: 0.7em; color: #e57373;\">Whole</span></span> <span style=\"padding: 2px; border-radius: 4px; border: 1px solid #d7ccc8; background: #efebe9\">небольших<span style=\"vertical-align: middle; margin-left: 2px; font-size: 0.7em; color: #a1887f;\">Other</span></span> <span style=\"padding: 2px; border-radius: 4px; border: 1px solid #ffcdd2; background: #ffebee\">коммерческих автомобилей ,<span style=\"vertical-align: middle; margin-left: 2px; font-size: 0.7em; color: #e57373;\">Whole</span></span> <span style=\"padding: 2px; border-radius: 4px; border: 1px solid #d7ccc8; background: #efebe9\">но<span style=\"vertical-align: middle; margin-left: 2px; font-size: 0.7em; color: #a1887f;\">Other</span></span> <span style=\"padding: 2px; border-radius: 4px; border: 1px solid #ffcdd2; background: #ffebee\">вот<span style=\"vertical-align: middle; margin-left: 2px; font-size: 0.7em; color: #e57373;\">Whole</span></span> <span style=\"padding: 2px; border-radius: 4px; border: 1px solid #d7ccc8; background: #efebe9\">уже<span style=\"vertical-align: middle; margin-left: 2px; font-size: 0.7em; color: #a1887f;\">Other</span></span> <span style=\"padding: 2px; border-radius: 4px; border: 1px solid #ffcdd2; background: #ffebee\">Fiat Ducato<span style=\"vertical-align: middle; margin-left: 2px; font-size: 0.7em; color: #e57373;\">Whole</span></span> <span style=\"padding: 2px; border-radius: 4px; border: 1px solid #bbdefb; background: #e3f2fd\">вечный<span style=\"vertical-align: middle; margin-left: 2px; font-size: 0.7em; color: #64b5f6;\">Driveability</span></span> <span style=\"padding: 2px; border-radius: 4px; border: 1px solid #ffcdd2; background: #ffebee\">аутсайдер<span style=\"vertical-align: middle; margin-left: 2px; font-size: 0.7em; color: #e57373;\">Whole</span></span> <span style=\"padding: 2px; border-radius: 4px; border: 1px solid #d7ccc8; background: #efebe9\">среди больших<span style=\"vertical-align: middle; margin-left: 2px; font-size: 0.7em; color: #a1887f;\">Other</span></span> <span style=\"padding: 2px; border-radius: 4px; border: 1px solid #ffcdd2; background: #ffebee\">автобусов<span style=\"vertical-align: middle; margin-left: 2px; font-size: 0.7em; color: #e57373;\">Whole</span></span> <span style=\"padding: 2px; border-radius: 4px; border: 1px solid #d7ccc8; background: #efebe9\">, по<span style=\"vertical-align: middle; margin-left: 2px; font-size: 0.7em; color: #a1887f;\">Other</span></span> <span style=\"padding: 2px; border-radius: 4px; border: 1px solid #bbdefb; background: #e3f2fd\">дизайну видно<span style=\"vertical-align: middle; margin-left: 2px; font-size: 0.7em; color: #64b5f6;\">Appearance</span></span> <span style=\"padding: 2px; border-radius: 4px; border: 1px solid #d7ccc8; background: #efebe9\">, что<span style=\"vertical-align: middle; margin-left: 2px; font-size: 0.7em; color: #a1887f;\">Other</span></span> <span style=\"padding: 2px; border-radius: 4px; border: 1px solid #ffe0b2; background: #fff3e0\">Fiat<span style=\"vertical-align: middle; margin-left: 2px; font-size: 0.7em; color: #ffb74d;\">Comfort</span></span> <span style=\"padding: 2px; border-radius: 4px; border: 1px solid #d7ccc8; background: #efebe9\">Ducato пытается<span style=\"vertical-align: middle; margin-left: 2px; font-size: 0.7em; color: #a1887f;\">Other</span></span> <span style=\"padding: 2px; border-radius: 4px; border: 1px solid #bbdefb; background: #e3f2fd\">скопировать<span style=\"vertical-align: middle; margin-left: 2px; font-size: 0.7em; color: #64b5f6;\">Appearance</span></span> <span style=\"padding: 2px; border-radius: 4px; border: 1px solid #ffcdd2; background: #ffebee\">Peouget Boxer , фары и форма<span style=\"vertical-align: middle; margin-left: 2px; font-size: 0.7em; color: #e57373;\">Whole</span></span> <span style=\"padding: 2px; border-radius: 4px; border: 1px solid #d7ccc8; background: #efebe9\">одни и те же во всяком случае и если поставить их рядом друг с другом , то особой разницы во<span style=\"vertical-align: middle; margin-left: 2px; font-size: 0.7em; color: #a1887f;\">Other</span></span> <span style=\"padding: 2px; border-radius: 4px; border: 1px solid #bbdefb; background: #e3f2fd\">внешности<span style=\"vertical-align: middle; margin-left: 2px; font-size: 0.7em; color: #64b5f6;\">Appearance</span></span> <span style=\"padding: 2px; border-radius: 4px; border: 1px solid #d7ccc8; background: #efebe9\">не будет , однако в начинке , Мы все знаем , что Французы пока еще<span style=\"vertical-align: middle; margin-left: 2px; font-size: 0.7em; color: #a1887f;\">Other</span></span> <span style=\"padding: 2px; border-radius: 4px; border: 1px solid #bbdefb; background: #e3f2fd\">впереди<span style=\"vertical-align: middle; margin-left: 2px; font-size: 0.7em; color: #64b5f6;\">Driveability</span></span> <span style=\"padding: 2px; border-radius: 4px; border: 1px solid #d7ccc8; background: #efebe9\">, да и по<span style=\"vertical-align: middle; margin-left: 2px; font-size: 0.7em; color: #a1887f;\">Other</span></span> <span style=\"padding: 2px; border-radius: 4px; border: 1px solid #ffcdd2; background: #ffebee\">цене лям<span style=\"vertical-align: middle; margin-left: 2px; font-size: 0.7em; color: #e57373;\">Costs</span></span> <span style=\"padding: 2px; border-radius: 4px; border: 1px solid #d7ccc8; background: #efebe9\">достаточно<span style=\"vertical-align: middle; margin-left: 2px; font-size: 0.7em; color: #a1887f;\">Other</span></span> <span style=\"padding: 2px; border-radius: 4px; border: 1px solid #c8e6c9; background: #e8f5e9\">накладно<span style=\"vertical-align: middle; margin-left: 2px; font-size: 0.7em; color: #66bb6a;\">Reliability</span></span> <span style=\"padding: 2px; border-radius: 4px; border: 1px solid #d7ccc8; background: #efebe9\">отдавать за аутсайдера .<span style=\"vertical-align: middle; margin-left: 2px; font-size: 0.7em; color: #a1887f;\">Other</span></span></div>"
            ],
            "text/plain": [
              "BoxMarkup('Вот из чего им удалось сделать конфетку так это из небольших коммерческих автомобилей , но вот уже Fiat Ducato вечный аутсайдер среди больших автобусов , по дизайну видно , что Fiat Ducato пытается скопировать Peouget Boxer , фары и форма одни и те же во всяком случае и если поставить их рядом друг с другом , то особой разницы во внешности не будет , однако в начинке , Мы все знаем , что Французы пока еще впереди , да и по цене лям достаточно накладно отдавать за аутсайдера .',\n",
              "          [Span(0, 47, 'Other'),\n",
              "           Span(48, 50, 'Whole'),\n",
              "           Span(51, 60, 'Other'),\n",
              "           Span(61, 87, 'Whole'),\n",
              "           Span(88, 90, 'Other'),\n",
              "           Span(91, 94, 'Whole'),\n",
              "           Span(95, 98, 'Other'),\n",
              "           Span(99, 110, 'Whole'),\n",
              "           Span(111, 117, 'Driveability'),\n",
              "           Span(118, 127, 'Whole'),\n",
              "           Span(128, 141, 'Other'),\n",
              "           Span(142, 151, 'Whole'),\n",
              "           Span(152, 156, 'Other'),\n",
              "           Span(157, 170, 'Appearance'),\n",
              "           Span(171, 176, 'Other'),\n",
              "           Span(177, 181, 'Comfort'),\n",
              "           Span(182, 197, 'Other'),\n",
              "           Span(198, 209, 'Appearance'),\n",
              "           Span(210, 238, 'Whole'),\n",
              "           Span(239, 331, 'Other'),\n",
              "           Span(332, 341, 'Appearance'),\n",
              "           Span(342, 408, 'Other'),\n",
              "           Span(409, 416, 'Driveability'),\n",
              "           Span(417, 426, 'Other'),\n",
              "           Span(427, 435, 'Costs'),\n",
              "           Span(436, 446, 'Other'),\n",
              "           Span(447, 455, 'Reliability'),\n",
              "           Span(456, 480, 'Other')])"
            ]
          },
          "metadata": {},
          "output_type": "display_data"
        },
        {
          "name": "stdout",
          "output_type": "stream",
          "text": [
            "\n",
            "истинные тэги:\n"
          ]
        },
        {
          "data": {
            "text/html": [
              "<div class=\"tex2jax_ignore\" style=\"white-space: pre-wrap\"><span style=\"padding: 2px; border-radius: 4px; border: 1px solid #d7ccc8; background: #efebe9\">В общем , ребят , подведу итог , не берите себе данный<span style=\"vertical-align: middle; margin-left: 2px; font-size: 0.7em; color: #a1887f;\">Other</span></span> <span style=\"padding: 2px; border-radius: 4px; border: 1px solid #ffcdd2; background: #ffebee\">автомобиль<span style=\"vertical-align: middle; margin-left: 2px; font-size: 0.7em; color: #e57373;\">Whole</span></span> <span style=\"padding: 2px; border-radius: 4px; border: 1px solid #d7ccc8; background: #efebe9\">! Общее впечатление : Отечественный<span style=\"vertical-align: middle; margin-left: 2px; font-size: 0.7em; color: #a1887f;\">Other</span></span> <span style=\"padding: 2px; border-radius: 4px; border: 1px solid #ffe0b2; background: #fff3e0\">автомобиль -погремушка<span style=\"vertical-align: middle; margin-left: 2px; font-size: 0.7em; color: #ffb74d;\">Comfort</span></span></div>"
            ],
            "text/plain": [
              "BoxMarkup('В общем , ребят , подведу итог , не берите себе данный автомобиль ! Общее впечатление : Отечественный автомобиль -погремушка',\n",
              "          [Span(0, 54, 'Other'),\n",
              "           Span(55, 65, 'Whole'),\n",
              "           Span(66, 101, 'Other'),\n",
              "           Span(102, 124, 'Comfort')])"
            ]
          },
          "metadata": {},
          "output_type": "display_data"
        },
        {
          "name": "stdout",
          "output_type": "stream",
          "text": [
            "предсказанные тэги:\n"
          ]
        },
        {
          "data": {
            "text/html": [
              "<div class=\"tex2jax_ignore\" style=\"white-space: pre-wrap\"><span style=\"padding: 2px; border-radius: 4px; border: 1px solid #d7ccc8; background: #efebe9\">В общем , ребят , подведу итог , не берите себе<span style=\"vertical-align: middle; margin-left: 2px; font-size: 0.7em; color: #a1887f;\">Other</span></span> <span style=\"padding: 2px; border-radius: 4px; border: 1px solid #ffcdd2; background: #ffebee\">данный автомобиль<span style=\"vertical-align: middle; margin-left: 2px; font-size: 0.7em; color: #e57373;\">Whole</span></span> <span style=\"padding: 2px; border-radius: 4px; border: 1px solid #d7ccc8; background: #efebe9\">! Общее впечатление :<span style=\"vertical-align: middle; margin-left: 2px; font-size: 0.7em; color: #a1887f;\">Other</span></span> <span style=\"padding: 2px; border-radius: 4px; border: 1px solid #ffcdd2; background: #ffebee\">Отечественный автомобиль -погремушка<span style=\"vertical-align: middle; margin-left: 2px; font-size: 0.7em; color: #e57373;\">Whole</span></span></div>"
            ],
            "text/plain": [
              "BoxMarkup('В общем , ребят , подведу итог , не берите себе данный автомобиль ! Общее впечатление : Отечественный автомобиль -погремушка',\n",
              "          [Span(0, 47, 'Other'),\n",
              "           Span(48, 65, 'Whole'),\n",
              "           Span(66, 87, 'Other'),\n",
              "           Span(88, 124, 'Whole')])"
            ]
          },
          "metadata": {},
          "output_type": "display_data"
        },
        {
          "name": "stdout",
          "output_type": "stream",
          "text": [
            "\n",
            "истинные тэги:\n"
          ]
        },
        {
          "data": {
            "text/html": [
              "<div class=\"tex2jax_ignore\" style=\"white-space: pre-wrap\"><span style=\"padding: 2px; border-radius: 4px; border: 1px solid #ffcdd2; background: #ffebee\">Автомобиль<span style=\"vertical-align: middle; margin-left: 2px; font-size: 0.7em; color: #e57373;\">Whole</span></span> <span style=\"padding: 2px; border-radius: 4px; border: 1px solid #d7ccc8; background: #efebe9\">был куплен в апреле 2010 года в салоне Тагаз .<span style=\"vertical-align: middle; margin-left: 2px; font-size: 0.7em; color: #a1887f;\">Other</span></span></div>"
            ],
            "text/plain": [
              "BoxMarkup('Автомобиль был куплен в апреле 2010 года в салоне Тагаз .',\n",
              "          [Span(0, 10, 'Whole'), Span(11, 57, 'Other')])"
            ]
          },
          "metadata": {},
          "output_type": "display_data"
        },
        {
          "name": "stdout",
          "output_type": "stream",
          "text": [
            "предсказанные тэги:\n"
          ]
        },
        {
          "data": {
            "text/html": [
              "<div class=\"tex2jax_ignore\" style=\"white-space: pre-wrap\"><span style=\"padding: 2px; border-radius: 4px; border: 1px solid #ffcdd2; background: #ffebee\">Автомобиль<span style=\"vertical-align: middle; margin-left: 2px; font-size: 0.7em; color: #e57373;\">Whole</span></span> <span style=\"padding: 2px; border-radius: 4px; border: 1px solid #d7ccc8; background: #efebe9\">был куплен в апреле 2010 года в<span style=\"vertical-align: middle; margin-left: 2px; font-size: 0.7em; color: #a1887f;\">Other</span></span> <span style=\"padding: 2px; border-radius: 4px; border: 1px solid #ffe0b2; background: #fff3e0\">салоне<span style=\"vertical-align: middle; margin-left: 2px; font-size: 0.7em; color: #ffb74d;\">Comfort</span></span> <span style=\"padding: 2px; border-radius: 4px; border: 1px solid #ffcdd2; background: #ffebee\">Тагаз<span style=\"vertical-align: middle; margin-left: 2px; font-size: 0.7em; color: #e57373;\">Whole</span></span> <span style=\"padding: 2px; border-radius: 4px; border: 1px solid #d7ccc8; background: #efebe9\">.<span style=\"vertical-align: middle; margin-left: 2px; font-size: 0.7em; color: #a1887f;\">Other</span></span></div>"
            ],
            "text/plain": [
              "BoxMarkup('Автомобиль был куплен в апреле 2010 года в салоне Тагаз .',\n",
              "          [Span(0, 10, 'Whole'),\n",
              "           Span(11, 42, 'Other'),\n",
              "           Span(43, 49, 'Comfort'),\n",
              "           Span(50, 55, 'Whole'),\n",
              "           Span(56, 57, 'Other')])"
            ]
          },
          "metadata": {},
          "output_type": "display_data"
        },
        {
          "name": "stdout",
          "output_type": "stream",
          "text": [
            "\n",
            "истинные тэги:\n"
          ]
        },
        {
          "data": {
            "text/html": [
              "<div class=\"tex2jax_ignore\" style=\"white-space: pre-wrap\"><span style=\"padding: 2px; border-radius: 4px; border: 1px solid #d7ccc8; background: #efebe9\">У меня был<span style=\"vertical-align: middle; margin-left: 2px; font-size: 0.7em; color: #a1887f;\">Other</span></span> <span style=\"padding: 2px; border-radius: 4px; border: 1px solid #ffcdd2; background: #ffebee\">Ваз 2112<span style=\"vertical-align: middle; margin-left: 2px; font-size: 0.7em; color: #e57373;\">Whole</span></span> <span style=\"padding: 2px; border-radius: 4px; border: 1px solid #d7ccc8; background: #efebe9\">2006 .<span style=\"vertical-align: middle; margin-left: 2px; font-size: 0.7em; color: #a1887f;\">Other</span></span></div>"
            ],
            "text/plain": [
              "BoxMarkup('У меня был Ваз 2112 2006 .',\n",
              "          [Span(0, 10, 'Other'), Span(11, 19, 'Whole'), Span(20, 26, 'Other')])"
            ]
          },
          "metadata": {},
          "output_type": "display_data"
        },
        {
          "name": "stdout",
          "output_type": "stream",
          "text": [
            "предсказанные тэги:\n"
          ]
        },
        {
          "data": {
            "text/html": [
              "<div class=\"tex2jax_ignore\" style=\"white-space: pre-wrap\"><span style=\"padding: 2px; border-radius: 4px; border: 1px solid #d7ccc8; background: #efebe9\">У меня был<span style=\"vertical-align: middle; margin-left: 2px; font-size: 0.7em; color: #a1887f;\">Other</span></span> <span style=\"padding: 2px; border-radius: 4px; border: 1px solid #ffcdd2; background: #ffebee\">Ваз 2112<span style=\"vertical-align: middle; margin-left: 2px; font-size: 0.7em; color: #e57373;\">Whole</span></span> <span style=\"padding: 2px; border-radius: 4px; border: 1px solid #d7ccc8; background: #efebe9\">2006<span style=\"vertical-align: middle; margin-left: 2px; font-size: 0.7em; color: #a1887f;\">Other</span></span> <span style=\"padding: 2px; border-radius: 4px; border: 1px solid #ffcdd2; background: #ffebee\">.<span style=\"vertical-align: middle; margin-left: 2px; font-size: 0.7em; color: #e57373;\">Whole</span></span></div>"
            ],
            "text/plain": [
              "BoxMarkup('У меня был Ваз 2112 2006 .',\n",
              "          [Span(0, 10, 'Other'),\n",
              "           Span(11, 19, 'Whole'),\n",
              "           Span(20, 24, 'Other'),\n",
              "           Span(25, 26, 'Whole')])"
            ]
          },
          "metadata": {},
          "output_type": "display_data"
        },
        {
          "name": "stdout",
          "output_type": "stream",
          "text": [
            "\n",
            "истинные тэги:\n"
          ]
        },
        {
          "data": {
            "text/html": [
              "<div class=\"tex2jax_ignore\" style=\"white-space: pre-wrap\"><span style=\"padding: 2px; border-radius: 4px; border: 1px solid #d7ccc8; background: #efebe9\">Одним словом заливай<span style=\"vertical-align: middle; margin-left: 2px; font-size: 0.7em; color: #a1887f;\">Other</span></span> <span style=\"padding: 2px; border-radius: 4px; border: 1px solid #bbdefb; background: #e3f2fd\">бензин<span style=\"vertical-align: middle; margin-left: 2px; font-size: 0.7em; color: #64b5f6;\">Driveability</span></span> <span style=\"padding: 2px; border-radius: 4px; border: 1px solid #d7ccc8; background: #efebe9\">, проходи<span style=\"vertical-align: middle; margin-left: 2px; font-size: 0.7em; color: #a1887f;\">Other</span></span> <span style=\"padding: 2px; border-radius: 4px; border: 1px solid #c8e6c9; background: #e8f5e9\">ТО<span style=\"vertical-align: middle; margin-left: 2px; font-size: 0.7em; color: #66bb6a;\">Reliability</span></span> <span style=\"padding: 2px; border-radius: 4px; border: 1px solid #d7ccc8; background: #efebe9\">и катайся в своё удовольствие ! Общее впечатление : Хороший ,<span style=\"vertical-align: middle; margin-left: 2px; font-size: 0.7em; color: #a1887f;\">Other</span></span> <span style=\"padding: 2px; border-radius: 4px; border: 1px solid #c8e6c9; background: #e8f5e9\">качественный<span style=\"vertical-align: middle; margin-left: 2px; font-size: 0.7em; color: #66bb6a;\">Reliability</span></span> <span style=\"padding: 2px; border-radius: 4px; border: 1px solid #ffcdd2; background: #ffebee\">автомобиль<span style=\"vertical-align: middle; margin-left: 2px; font-size: 0.7em; color: #e57373;\">Whole</span></span> <span style=\"padding: 2px; border-radius: 4px; border: 1px solid #d7ccc8; background: #efebe9\">без изысков<span style=\"vertical-align: middle; margin-left: 2px; font-size: 0.7em; color: #a1887f;\">Other</span></span></div>"
            ],
            "text/plain": [
              "BoxMarkup('Одним словом заливай бензин , проходи ТО и катайся в своё удовольствие ! Общее впечатление : Хороший , качественный автомобиль без изысков',\n",
              "          [Span(0, 20, 'Other'),\n",
              "           Span(21, 27, 'Driveability'),\n",
              "           Span(28, 37, 'Other'),\n",
              "           Span(38, 40, 'Reliability'),\n",
              "           Span(41, 102, 'Other'),\n",
              "           Span(103, 115, 'Reliability'),\n",
              "           Span(116, 126, 'Whole'),\n",
              "           Span(127, 138, 'Other')])"
            ]
          },
          "metadata": {},
          "output_type": "display_data"
        },
        {
          "name": "stdout",
          "output_type": "stream",
          "text": [
            "предсказанные тэги:\n"
          ]
        },
        {
          "data": {
            "text/html": [
              "<div class=\"tex2jax_ignore\" style=\"white-space: pre-wrap\"><span style=\"padding: 2px; border-radius: 4px; border: 1px solid #d7ccc8; background: #efebe9\">Одним словом<span style=\"vertical-align: middle; margin-left: 2px; font-size: 0.7em; color: #a1887f;\">Other</span></span> <span style=\"padding: 2px; border-radius: 4px; border: 1px solid #bbdefb; background: #e3f2fd\">заливай бензин<span style=\"vertical-align: middle; margin-left: 2px; font-size: 0.7em; color: #64b5f6;\">Driveability</span></span> <span style=\"padding: 2px; border-radius: 4px; border: 1px solid #d7ccc8; background: #efebe9\">,<span style=\"vertical-align: middle; margin-left: 2px; font-size: 0.7em; color: #a1887f;\">Other</span></span> <span style=\"padding: 2px; border-radius: 4px; border: 1px solid #bbdefb; background: #e3f2fd\">проходи<span style=\"vertical-align: middle; margin-left: 2px; font-size: 0.7em; color: #64b5f6;\">Driveability</span></span> <span style=\"padding: 2px; border-radius: 4px; border: 1px solid #d7ccc8; background: #efebe9\">ТО и<span style=\"vertical-align: middle; margin-left: 2px; font-size: 0.7em; color: #a1887f;\">Other</span></span> <span style=\"padding: 2px; border-radius: 4px; border: 1px solid #c8e6c9; background: #e8f5e9\">катайся<span style=\"vertical-align: middle; margin-left: 2px; font-size: 0.7em; color: #66bb6a;\">Reliability</span></span> <span style=\"padding: 2px; border-radius: 4px; border: 1px solid #d7ccc8; background: #efebe9\">в своё удовольствие ! Общее впечатление : Хороший ,<span style=\"vertical-align: middle; margin-left: 2px; font-size: 0.7em; color: #a1887f;\">Other</span></span> <span style=\"padding: 2px; border-radius: 4px; border: 1px solid #ffcdd2; background: #ffebee\">качественный автомобиль<span style=\"vertical-align: middle; margin-left: 2px; font-size: 0.7em; color: #e57373;\">Whole</span></span> <span style=\"padding: 2px; border-radius: 4px; border: 1px solid #bbdefb; background: #e3f2fd\">без<span style=\"vertical-align: middle; margin-left: 2px; font-size: 0.7em; color: #64b5f6;\">Driveability</span></span> <span style=\"padding: 2px; border-radius: 4px; border: 1px solid #d7ccc8; background: #efebe9\">изысков<span style=\"vertical-align: middle; margin-left: 2px; font-size: 0.7em; color: #a1887f;\">Other</span></span></div>"
            ],
            "text/plain": [
              "BoxMarkup('Одним словом заливай бензин , проходи ТО и катайся в своё удовольствие ! Общее впечатление : Хороший , качественный автомобиль без изысков',\n",
              "          [Span(0, 12, 'Other'),\n",
              "           Span(13, 27, 'Driveability'),\n",
              "           Span(28, 29, 'Other'),\n",
              "           Span(30, 37, 'Driveability'),\n",
              "           Span(38, 42, 'Other'),\n",
              "           Span(43, 50, 'Reliability'),\n",
              "           Span(51, 102, 'Other'),\n",
              "           Span(103, 126, 'Whole'),\n",
              "           Span(127, 130, 'Driveability'),\n",
              "           Span(131, 138, 'Other')])"
            ]
          },
          "metadata": {},
          "output_type": "display_data"
        },
        {
          "name": "stdout",
          "output_type": "stream",
          "text": [
            "\n",
            "истинные тэги:\n"
          ]
        },
        {
          "data": {
            "text/html": [
              "<div class=\"tex2jax_ignore\" style=\"white-space: pre-wrap\"><span style=\"padding: 2px; border-radius: 4px; border: 1px solid #ffe0b2; background: #fff3e0\">Салон комфортный<span style=\"vertical-align: middle; margin-left: 2px; font-size: 0.7em; color: #ffb74d;\">Comfort</span></span> <span style=\"padding: 2px; border-radius: 4px; border: 1px solid #d7ccc8; background: #efebe9\">насколько может быть<span style=\"vertical-align: middle; margin-left: 2px; font-size: 0.7em; color: #a1887f;\">Other</span></span> <span style=\"padding: 2px; border-radius: 4px; border: 1px solid #ffe0b2; background: #fff3e0\">комфортный авто<span style=\"vertical-align: middle; margin-left: 2px; font-size: 0.7em; color: #ffb74d;\">Comfort</span></span> <span style=\"padding: 2px; border-radius: 4px; border: 1px solid #d7ccc8; background: #efebe9\">за эти<span style=\"vertical-align: middle; margin-left: 2px; font-size: 0.7em; color: #a1887f;\">Other</span></span> <span style=\"padding: 2px; border-radius: 4px; border: 1px solid #ffcdd2; background: #ffebee\">деньги<span style=\"vertical-align: middle; margin-left: 2px; font-size: 0.7em; color: #e57373;\">Costs</span></span></div>"
            ],
            "text/plain": [
              "BoxMarkup('Салон комфортный насколько может быть комфортный авто за эти деньги',\n",
              "          [Span(0, 16, 'Comfort'),\n",
              "           Span(17, 37, 'Other'),\n",
              "           Span(38, 53, 'Comfort'),\n",
              "           Span(54, 60, 'Other'),\n",
              "           Span(61, 67, 'Costs')])"
            ]
          },
          "metadata": {},
          "output_type": "display_data"
        },
        {
          "name": "stdout",
          "output_type": "stream",
          "text": [
            "предсказанные тэги:\n"
          ]
        },
        {
          "data": {
            "text/html": [
              "<div class=\"tex2jax_ignore\" style=\"white-space: pre-wrap\"><span style=\"padding: 2px; border-radius: 4px; border: 1px solid #ffe0b2; background: #fff3e0\">Салон комфортный насколько<span style=\"vertical-align: middle; margin-left: 2px; font-size: 0.7em; color: #ffb74d;\">Comfort</span></span> <span style=\"padding: 2px; border-radius: 4px; border: 1px solid #d7ccc8; background: #efebe9\">может быть<span style=\"vertical-align: middle; margin-left: 2px; font-size: 0.7em; color: #a1887f;\">Other</span></span> <span style=\"padding: 2px; border-radius: 4px; border: 1px solid #ffe0b2; background: #fff3e0\">комфортный<span style=\"vertical-align: middle; margin-left: 2px; font-size: 0.7em; color: #ffb74d;\">Comfort</span></span> <span style=\"padding: 2px; border-radius: 4px; border: 1px solid #ffcdd2; background: #ffebee\">авто<span style=\"vertical-align: middle; margin-left: 2px; font-size: 0.7em; color: #e57373;\">Whole</span></span> <span style=\"padding: 2px; border-radius: 4px; border: 1px solid #d7ccc8; background: #efebe9\">за<span style=\"vertical-align: middle; margin-left: 2px; font-size: 0.7em; color: #a1887f;\">Other</span></span> <span style=\"padding: 2px; border-radius: 4px; border: 1px solid #ffcdd2; background: #ffebee\">эти<span style=\"vertical-align: middle; margin-left: 2px; font-size: 0.7em; color: #e57373;\">Whole</span></span> <span style=\"padding: 2px; border-radius: 4px; border: 1px solid #ffcdd2; background: #ffebee\">деньги<span style=\"vertical-align: middle; margin-left: 2px; font-size: 0.7em; color: #e57373;\">Costs</span></span></div>"
            ],
            "text/plain": [
              "BoxMarkup('Салон комфортный насколько может быть комфортный авто за эти деньги',\n",
              "          [Span(0, 26, 'Comfort'),\n",
              "           Span(27, 37, 'Other'),\n",
              "           Span(38, 48, 'Comfort'),\n",
              "           Span(49, 53, 'Whole'),\n",
              "           Span(54, 56, 'Other'),\n",
              "           Span(57, 60, 'Whole'),\n",
              "           Span(61, 67, 'Costs')])"
            ]
          },
          "metadata": {},
          "output_type": "display_data"
        },
        {
          "name": "stdout",
          "output_type": "stream",
          "text": [
            "\n",
            "истинные тэги:\n"
          ]
        },
        {
          "data": {
            "text/html": [
              "<div class=\"tex2jax_ignore\" style=\"white-space: pre-wrap\"><span style=\"padding: 2px; border-radius: 4px; border: 1px solid #bbdefb; background: #e3f2fd\">Расход бензина<span style=\"vertical-align: middle; margin-left: 2px; font-size: 0.7em; color: #64b5f6;\">Driveability</span></span> <span style=\"padding: 2px; border-radius: 4px; border: 1px solid #d7ccc8; background: #efebe9\">маленький - 7 .5 литров на 100 километров .<span style=\"vertical-align: middle; margin-left: 2px; font-size: 0.7em; color: #a1887f;\">Other</span></span></div>"
            ],
            "text/plain": [
              "BoxMarkup('Расход бензина маленький - 7 .5 литров на 100 километров .',\n",
              "          [Span(0, 14, 'Driveability'), Span(15, 58, 'Other')])"
            ]
          },
          "metadata": {},
          "output_type": "display_data"
        },
        {
          "name": "stdout",
          "output_type": "stream",
          "text": [
            "предсказанные тэги:\n"
          ]
        },
        {
          "data": {
            "text/html": [
              "<div class=\"tex2jax_ignore\" style=\"white-space: pre-wrap\"><span style=\"padding: 2px; border-radius: 4px; border: 1px solid #bbdefb; background: #e3f2fd\">Расход бензина<span style=\"vertical-align: middle; margin-left: 2px; font-size: 0.7em; color: #64b5f6;\">Driveability</span></span> <span style=\"padding: 2px; border-radius: 4px; border: 1px solid #d7ccc8; background: #efebe9\">маленький - 7 .5 литров на 100 километров .<span style=\"vertical-align: middle; margin-left: 2px; font-size: 0.7em; color: #a1887f;\">Other</span></span></div>"
            ],
            "text/plain": [
              "BoxMarkup('Расход бензина маленький - 7 .5 литров на 100 километров .',\n",
              "          [Span(0, 14, 'Driveability'), Span(15, 58, 'Other')])"
            ]
          },
          "metadata": {},
          "output_type": "display_data"
        },
        {
          "name": "stdout",
          "output_type": "stream",
          "text": [
            "\n",
            "истинные тэги:\n"
          ]
        },
        {
          "data": {
            "text/html": [
              "<div class=\"tex2jax_ignore\" style=\"white-space: pre-wrap\"><span style=\"padding: 2px; border-radius: 4px; border: 1px solid #d7ccc8; background: #efebe9\">Есть один нюанс .<span style=\"vertical-align: middle; margin-left: 2px; font-size: 0.7em; color: #a1887f;\">Other</span></span></div>"
            ],
            "text/plain": [
              "BoxMarkup('Есть один нюанс .', [Span(0, 17, 'Other')])"
            ]
          },
          "metadata": {},
          "output_type": "display_data"
        },
        {
          "name": "stdout",
          "output_type": "stream",
          "text": [
            "предсказанные тэги:\n"
          ]
        },
        {
          "data": {
            "text/html": [
              "<div class=\"tex2jax_ignore\" style=\"white-space: pre-wrap\"><span style=\"padding: 2px; border-radius: 4px; border: 1px solid #d7ccc8; background: #efebe9\">Есть один нюанс .<span style=\"vertical-align: middle; margin-left: 2px; font-size: 0.7em; color: #a1887f;\">Other</span></span></div>"
            ],
            "text/plain": [
              "BoxMarkup('Есть один нюанс .', [Span(0, 17, 'Other')])"
            ]
          },
          "metadata": {},
          "output_type": "display_data"
        },
        {
          "name": "stdout",
          "output_type": "stream",
          "text": [
            "\n",
            "истинные тэги:\n"
          ]
        },
        {
          "data": {
            "text/html": [
              "<div class=\"tex2jax_ignore\" style=\"white-space: pre-wrap\"><span style=\"padding: 2px; border-radius: 4px; border: 1px solid #d7ccc8; background: #efebe9\">иначе сильная<span style=\"vertical-align: middle; margin-left: 2px; font-size: 0.7em; color: #a1887f;\">Other</span></span> <span style=\"padding: 2px; border-radius: 4px; border: 1px solid #ffe0b2; background: #fff3e0\">вибрация по кузову<span style=\"vertical-align: middle; margin-left: 2px; font-size: 0.7em; color: #ffb74d;\">Comfort</span></span> <span style=\"padding: 2px; border-radius: 4px; border: 1px solid #d7ccc8; background: #efebe9\">, вместе с ней сразу стоит поменять и остальные<span style=\"vertical-align: middle; margin-left: 2px; font-size: 0.7em; color: #a1887f;\">Other</span></span> <span style=\"padding: 2px; border-radius: 4px; border: 1px solid #c8e6c9; background: #e8f5e9\">подушки<span style=\"vertical-align: middle; margin-left: 2px; font-size: 0.7em; color: #66bb6a;\">Reliability</span></span> <span style=\"padding: 2px; border-radius: 4px; border: 1px solid #d7ccc8; background: #efebe9\">, это еще 3 т .<span style=\"vertical-align: middle; margin-left: 2px; font-size: 0.7em; color: #a1887f;\">Other</span></span></div>"
            ],
            "text/plain": [
              "BoxMarkup('иначе сильная вибрация по кузову , вместе с ней сразу стоит поменять и остальные подушки , это еще 3 т .',\n",
              "          [Span(0, 13, 'Other'),\n",
              "           Span(14, 32, 'Comfort'),\n",
              "           Span(33, 80, 'Other'),\n",
              "           Span(81, 88, 'Reliability'),\n",
              "           Span(89, 104, 'Other')])"
            ]
          },
          "metadata": {},
          "output_type": "display_data"
        },
        {
          "name": "stdout",
          "output_type": "stream",
          "text": [
            "предсказанные тэги:\n"
          ]
        },
        {
          "data": {
            "text/html": [
              "<div class=\"tex2jax_ignore\" style=\"white-space: pre-wrap\"><span style=\"padding: 2px; border-radius: 4px; border: 1px solid #d7ccc8; background: #efebe9\">иначе<span style=\"vertical-align: middle; margin-left: 2px; font-size: 0.7em; color: #a1887f;\">Other</span></span> <span style=\"padding: 2px; border-radius: 4px; border: 1px solid #d1c4e9; background: #ede7f6\">сильная<span style=\"vertical-align: middle; margin-left: 2px; font-size: 0.7em; color: #9575cd;\">Safety</span></span> <span style=\"padding: 2px; border-radius: 4px; border: 1px solid #bbdefb; background: #e3f2fd\">вибрация по<span style=\"vertical-align: middle; margin-left: 2px; font-size: 0.7em; color: #64b5f6;\">Driveability</span></span> <span style=\"padding: 2px; border-radius: 4px; border: 1px solid #c8e6c9; background: #e8f5e9\">кузову<span style=\"vertical-align: middle; margin-left: 2px; font-size: 0.7em; color: #66bb6a;\">Reliability</span></span> <span style=\"padding: 2px; border-radius: 4px; border: 1px solid #d7ccc8; background: #efebe9\">, вместе с ней сразу стоит поменять и остальные<span style=\"vertical-align: middle; margin-left: 2px; font-size: 0.7em; color: #a1887f;\">Other</span></span> <span style=\"padding: 2px; border-radius: 4px; border: 1px solid #d1c4e9; background: #ede7f6\">подушки<span style=\"vertical-align: middle; margin-left: 2px; font-size: 0.7em; color: #9575cd;\">Safety</span></span> <span style=\"padding: 2px; border-radius: 4px; border: 1px solid #d7ccc8; background: #efebe9\">, это еще 3 т .<span style=\"vertical-align: middle; margin-left: 2px; font-size: 0.7em; color: #a1887f;\">Other</span></span></div>"
            ],
            "text/plain": [
              "BoxMarkup('иначе сильная вибрация по кузову , вместе с ней сразу стоит поменять и остальные подушки , это еще 3 т .',\n",
              "          [Span(0, 5, 'Other'),\n",
              "           Span(6, 13, 'Safety'),\n",
              "           Span(14, 25, 'Driveability'),\n",
              "           Span(26, 32, 'Reliability'),\n",
              "           Span(33, 80, 'Other'),\n",
              "           Span(81, 88, 'Safety'),\n",
              "           Span(89, 104, 'Other')])"
            ]
          },
          "metadata": {},
          "output_type": "display_data"
        },
        {
          "name": "stdout",
          "output_type": "stream",
          "text": [
            "\n",
            "истинные тэги:\n"
          ]
        },
        {
          "data": {
            "text/html": [
              "<div class=\"tex2jax_ignore\" style=\"white-space: pre-wrap\"><span style=\"padding: 2px; border-radius: 4px; border: 1px solid #d7ccc8; background: #efebe9\">Сев за руль я сразу почувствовала<span style=\"vertical-align: middle; margin-left: 2px; font-size: 0.7em; color: #a1887f;\">Other</span></span> <span style=\"padding: 2px; border-radius: 4px; border: 1px solid #ffe0b2; background: #fff3e0\">не удобные сидения<span style=\"vertical-align: middle; margin-left: 2px; font-size: 0.7em; color: #ffb74d;\">Comfort</span></span> <span style=\"padding: 2px; border-radius: 4px; border: 1px solid #d7ccc8; background: #efebe9\">,<span style=\"vertical-align: middle; margin-left: 2px; font-size: 0.7em; color: #a1887f;\">Other</span></span> <span style=\"padding: 2px; border-radius: 4px; border: 1px solid #c8e6c9; background: #e8f5e9\">заводится<span style=\"vertical-align: middle; margin-left: 2px; font-size: 0.7em; color: #66bb6a;\">Reliability</span></span> <span style=\"padding: 2px; border-radius: 4px; border: 1px solid #d7ccc8; background: #efebe9\">хорошо и<span style=\"vertical-align: middle; margin-left: 2px; font-size: 0.7em; color: #a1887f;\">Other</span></span> <span style=\"padding: 2px; border-radius: 4px; border: 1px solid #bbdefb; background: #e3f2fd\">трогается<span style=\"vertical-align: middle; margin-left: 2px; font-size: 0.7em; color: #64b5f6;\">Driveability</span></span> <span style=\"padding: 2px; border-radius: 4px; border: 1px solid #d7ccc8; background: #efebe9\">тоже , но когда я прокатилась я поняла что<span style=\"vertical-align: middle; margin-left: 2px; font-size: 0.7em; color: #a1887f;\">Other</span></span> <span style=\"padding: 2px; border-radius: 4px; border: 1px solid #bbdefb; background: #e3f2fd\">машина деревянная<span style=\"vertical-align: middle; margin-left: 2px; font-size: 0.7em; color: #64b5f6;\">Driveability</span></span> <span style=\"padding: 2px; border-radius: 4px; border: 1px solid #d7ccc8; background: #efebe9\">в каком смысле объясню .<span style=\"vertical-align: middle; margin-left: 2px; font-size: 0.7em; color: #a1887f;\">Other</span></span></div>"
            ],
            "text/plain": [
              "BoxMarkup('Сев за руль я сразу почувствовала не удобные сидения , заводится хорошо и трогается тоже , но когда я прокатилась я поняла что машина деревянная в каком смысле объясню .',\n",
              "          [Span(0, 33, 'Other'),\n",
              "           Span(34, 52, 'Comfort'),\n",
              "           Span(53, 54, 'Other'),\n",
              "           Span(55, 64, 'Reliability'),\n",
              "           Span(65, 73, 'Other'),\n",
              "           Span(74, 83, 'Driveability'),\n",
              "           Span(84, 126, 'Other'),\n",
              "           Span(127, 144, 'Driveability'),\n",
              "           Span(145, 169, 'Other')])"
            ]
          },
          "metadata": {},
          "output_type": "display_data"
        },
        {
          "name": "stdout",
          "output_type": "stream",
          "text": [
            "предсказанные тэги:\n"
          ]
        },
        {
          "data": {
            "text/html": [
              "<div class=\"tex2jax_ignore\" style=\"white-space: pre-wrap\"><span style=\"padding: 2px; border-radius: 4px; border: 1px solid #d7ccc8; background: #efebe9\">Сев за руль я сразу<span style=\"vertical-align: middle; margin-left: 2px; font-size: 0.7em; color: #a1887f;\">Other</span></span> <span style=\"padding: 2px; border-radius: 4px; border: 1px solid #d1c4e9; background: #ede7f6\">почувствовала<span style=\"vertical-align: middle; margin-left: 2px; font-size: 0.7em; color: #9575cd;\">Safety</span></span> <span style=\"padding: 2px; border-radius: 4px; border: 1px solid #ffe0b2; background: #fff3e0\">не удобные сидения<span style=\"vertical-align: middle; margin-left: 2px; font-size: 0.7em; color: #ffb74d;\">Comfort</span></span> <span style=\"padding: 2px; border-radius: 4px; border: 1px solid #d7ccc8; background: #efebe9\">,<span style=\"vertical-align: middle; margin-left: 2px; font-size: 0.7em; color: #a1887f;\">Other</span></span> <span style=\"padding: 2px; border-radius: 4px; border: 1px solid #c8e6c9; background: #e8f5e9\">заводится<span style=\"vertical-align: middle; margin-left: 2px; font-size: 0.7em; color: #66bb6a;\">Reliability</span></span> <span style=\"padding: 2px; border-radius: 4px; border: 1px solid #d7ccc8; background: #efebe9\">хорошо и трогается тоже , но когда я прокатилась я поняла что<span style=\"vertical-align: middle; margin-left: 2px; font-size: 0.7em; color: #a1887f;\">Other</span></span> <span style=\"padding: 2px; border-radius: 4px; border: 1px solid #ffcdd2; background: #ffebee\">машина<span style=\"vertical-align: middle; margin-left: 2px; font-size: 0.7em; color: #e57373;\">Whole</span></span> <span style=\"padding: 2px; border-radius: 4px; border: 1px solid #ffe0b2; background: #fff3e0\">деревянная<span style=\"vertical-align: middle; margin-left: 2px; font-size: 0.7em; color: #ffb74d;\">Comfort</span></span> <span style=\"padding: 2px; border-radius: 4px; border: 1px solid #d7ccc8; background: #efebe9\">в каком смысле объясню .<span style=\"vertical-align: middle; margin-left: 2px; font-size: 0.7em; color: #a1887f;\">Other</span></span></div>"
            ],
            "text/plain": [
              "BoxMarkup('Сев за руль я сразу почувствовала не удобные сидения , заводится хорошо и трогается тоже , но когда я прокатилась я поняла что машина деревянная в каком смысле объясню .',\n",
              "          [Span(0, 19, 'Other'),\n",
              "           Span(20, 33, 'Safety'),\n",
              "           Span(34, 52, 'Comfort'),\n",
              "           Span(53, 54, 'Other'),\n",
              "           Span(55, 64, 'Reliability'),\n",
              "           Span(65, 126, 'Other'),\n",
              "           Span(127, 133, 'Whole'),\n",
              "           Span(134, 144, 'Comfort'),\n",
              "           Span(145, 169, 'Other')])"
            ]
          },
          "metadata": {},
          "output_type": "display_data"
        },
        {
          "name": "stdout",
          "output_type": "stream",
          "text": [
            "\n"
          ]
        }
      ],
      "source": [
        "for i in range(0,10):\n",
        "\n",
        "    recipe, tags = test_data[np.random.randint(0,1000)]\n",
        "    \n",
        "    tags_pred    = predict_tags(model, converter, recipe)\n",
        "\n",
        "    print('истинные тэги:')\n",
        "    text, spans = generate_markup(recipe, tags) \n",
        "    show_markup(text, spans)\n",
        "\n",
        "    print('предсказанные тэги:')\n",
        "    text, spans = generate_markup(recipe, tags_pred) \n",
        "\n",
        "    show_markup(text, spans)\n",
        "    print()"
      ]
    },
    {
      "cell_type": "markdown",
      "metadata": {
        "id": "Lq4nt3e0u0ur"
      },
      "source": [
        "### Статистика"
      ]
    },
    {
      "cell_type": "markdown",
      "metadata": {
        "id": "xFSHDuNyu0ur"
      },
      "source": [
        "##### 1.  Количество верно предсказанных тэгов:"
      ]
    },
    {
      "cell_type": "code",
      "execution_count": null,
      "metadata": {
        "id": "9XpbGXncu0ur"
      },
      "outputs": [],
      "source": [
        "from dlnlputils.sentiment_utils import tag_statistics"
      ]
    },
    {
      "cell_type": "code",
      "execution_count": null,
      "metadata": {
        "collapsed": true,
        "id": "n6ajJTQ5u0us",
        "outputId": "82387a37-58a7-48d1-d327-678c0f98c20b"
      },
      "outputs": [
        {
          "name": "stdout",
          "output_type": "stream",
          "text": [
            "Статистика верно предсказанных тэгов:\n",
            "\n",
            "для Other:\n",
            "  корректно:\t 15840\n",
            "      всего:\t 19922\n",
            "% корректно:\t 79.51008934845899\n",
            "\n",
            "для B-Whole:\n",
            "  корректно:\t 527\n",
            "      всего:\t 673\n",
            "% корректно:\t 78.30609212481427\n",
            "\n",
            "для B-Driveability:\n",
            "  корректно:\t 488\n",
            "      всего:\t 1066\n",
            "% корректно:\t 45.77861163227016\n",
            "\n",
            "для I-Driveability:\n",
            "  корректно:\t 290\n",
            "      всего:\t 711\n",
            "% корректно:\t 40.787623066104075\n",
            "\n",
            "для B-Appearance:\n",
            "  корректно:\t 174\n",
            "      всего:\t 275\n",
            "% корректно:\t 63.272727272727266\n",
            "\n",
            "для I-Appearance:\n",
            "  корректно:\t 32\n",
            "      всего:\t 100\n",
            "% корректно:\t 32.0\n",
            "\n",
            "для B-Reliability:\n",
            "  корректно:\t 305\n",
            "      всего:\t 809\n",
            "% корректно:\t 37.7008652657602\n",
            "\n",
            "для I-Whole:\n",
            "  корректно:\t 87\n",
            "      всего:\t 213\n",
            "% корректно:\t 40.845070422535215\n",
            "\n",
            "для B-Comfort:\n",
            "  корректно:\t 610\n",
            "      всего:\t 1067\n",
            "% корректно:\t 57.16963448922212\n",
            "\n",
            "для I-Comfort:\n",
            "  корректно:\t 190\n",
            "      всего:\t 497\n",
            "% корректно:\t 38.22937625754527\n",
            "\n",
            "для I-Reliability:\n",
            "  корректно:\t 147\n",
            "      всего:\t 475\n",
            "% корректно:\t 30.94736842105263\n",
            "\n",
            "для B-Costs:\n",
            "  корректно:\t 227\n",
            "      всего:\t 389\n",
            "% корректно:\t 58.354755784061695\n",
            "\n",
            "для I-Costs:\n",
            "  корректно:\t 28\n",
            "      всего:\t 127\n",
            "% корректно:\t 22.04724409448819\n",
            "\n",
            "для B-Safety:\n",
            "  корректно:\t 21\n",
            "      всего:\t 96\n",
            "% корректно:\t 21.875\n",
            "\n",
            "для I-Safety:\n",
            "  корректно:\t 6\n",
            "      всего:\t 71\n",
            "% корректно:\t 8.450704225352112\n",
            "\n",
            "----------\n",
            "в итоге:\n",
            "  корректно:\t 18972\n",
            "      всего:\t 26491\n",
            "% корректно:\t 71.61677550866332\n"
          ]
        }
      ],
      "source": [
        "total_correct, total_tags = tag_statistics(model, converter, test_data)\n",
        "\n",
        "\n",
        "print('Статистика верно предсказанных тэгов:\\n')\n",
        "\n",
        "for tag in total_tags.keys():\n",
        "    print('для {}:'.format(tag))\n",
        "    print('  корректно:\\t', total_correct[tag])\n",
        "    print('      всего:\\t',   total_tags[tag])\n",
        "    print('% корректно:\\t', 100 * (total_correct[tag] / float(total_tags[tag])))\n",
        "    print()\n",
        "\n",
        "print('----------')\n",
        "print('в итоге:')\n",
        "print('  корректно:\\t', sum(total_correct.values()))\n",
        "print('      всего:\\t', sum(total_tags.values()))\n",
        "print('% корректно:\\t', 100 * (sum(total_correct.values()) / sum(total_tags.values())))"
      ]
    },
    {
      "cell_type": "markdown",
      "metadata": {
        "id": "U0zJdwySu0us"
      },
      "source": [
        "##### 2.  Количество верно предсказанных тэгов в виде матрицы ошибок:"
      ]
    },
    {
      "cell_type": "code",
      "execution_count": null,
      "metadata": {
        "id": "CjL-y9puu0us"
      },
      "outputs": [],
      "source": [
        "from dlnlputils.sentiment_utils import plot_confusion_matrix"
      ]
    },
    {
      "cell_type": "code",
      "execution_count": null,
      "metadata": {
        "id": "v-Ojx779u0us"
      },
      "outputs": [],
      "source": [
        "y_pred = []\n",
        "y_true = []\n",
        "\n",
        "for sentence, tags in test_data:\n",
        "    y_pred += predict_tags(model, converter, sentence)\n",
        "    y_true += tags"
      ]
    },
    {
      "cell_type": "markdown",
      "source": [
        "Наша нейросеть завершила обучение, мы можем проверить её точность на тестовых и тренировочных данных. Для этого мы опять построим матрицу ошибок и посмотрим на статистику. Определим уже известную вам функцию \"predict_tags\". Посмотрим на 10 случайных предложений из тестового датасета — как их будет размечать наша нейросеть. На тренировочных данных матрица ошибок выглядит хорошо. Матрица ошибок, полученная на тестовом датасете, выглядит не так хорошо, как на датасете, на котором мы обучались. Это может быть связано с тем, что, например, в целом, наши датасеты довольно небольшие — это 200 текстов, в каждом по 2000 предложений и, возможно, нам нужно было ещё немного модифицировать функцию потерь, чтобы не так агрессивно взвешивать тэги."
      ],
      "metadata": {
        "id": "CWsRv6tb1eyj"
      }
    },
    {
      "cell_type": "code",
      "execution_count": null,
      "metadata": {
        "id": "t3iBkoAIu0ut",
        "outputId": "b0b3e30d-87f3-4875-e973-0390e2f219b6"
      },
      "outputs": [
        {
          "data": {
            "image/png": "[encoded data removed]",
            "text/plain": [
              "<Figure size 720x720 with 2 Axes>"
            ]
          },
          "metadata": {
            "needs_background": "light"
          },
          "output_type": "display_data"
        }
      ],
      "source": [
        "plot_confusion_matrix(y_true, y_pred, classes=list(total_tags.keys()), title='Матрица ошибок')\n",
        "\n",
        "plt.show()"
      ]
    },
    {
      "cell_type": "code",
      "execution_count": null,
      "metadata": {
        "id": "Aw5dldscu0ut",
        "outputId": "ab45879e-a664-4e8a-989d-083f13d8b0e6"
      },
      "outputs": [
        {
          "data": {
            "image/png": "[encoded data removed]",
            "text/plain": [
              "<Figure size 720x720 with 2 Axes>"
            ]
          },
          "metadata": {
            "needs_background": "light"
          },
          "output_type": "display_data"
        }
      ],
      "source": [
        "plot_confusion_matrix(y_true, y_pred, classes=list(total_tags.keys()), normalize=True, \n",
        "                      title='Нормализованная матрица ошибок')\n",
        "\n",
        "plt.show()"
      ]
    },
    {
      "cell_type": "code",
      "execution_count": null,
      "metadata": {
        "id": "JZH3Ovucu0ut"
      },
      "outputs": [],
      "source": [
        ""
      ]
    }
  ],
  "metadata": {
    "kernelspec": {
      "display_name": "Python 3",
      "language": "python",
      "name": "python3"
    },
    "language_info": {
      "codemirror_mode": {
        "name": "ipython",
        "version": 3
      },
      "file_extension": ".py",
      "mimetype": "text/x-python",
      "name": "python",
      "nbconvert_exporter": "python",
      "pygments_lexer": "ipython3",
      "version": "3.6.9"
    },
    "colab": {
      "name": "task7_aspect_sentiment_eval.ipynb",
      "provenance": [],
      "collapsed_sections": [
        "b0tJ3Enxu0uq"
      ]
    }
  },
  "nbformat": 4,
  "nbformat_minor": 0
}