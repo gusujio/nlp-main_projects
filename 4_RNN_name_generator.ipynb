{
  "cells": [
    {
      "cell_type": "markdown",
      "metadata": {
        "id": "Z7aKvzbLad60"
      },
      "source": [
        "# Генерация текста с помощью RNN\n"
      ]
    },
    {
      "cell_type": "markdown",
      "metadata": {
        "id": "vM-t5CPBad61"
      },
      "source": [
        "(по мотивам [семинара](https://github.com/neychev/harbour_dlia2019/blob/master/day02_Simple_RNN/Day_2_Simple_RNN_pytorch.ipynb)\n",
        " [курса \"Deep Learning in Applications\"](https://in.harbour.space/data-science/deep-learning-in-applications-radoslav-neychev-anastasia-ianina/))"
      ]
    },
    {
      "cell_type": "code",
      "execution_count": 1,
      "metadata": {
        "colab": {
          "base_uri": "https://localhost:8080/"
        },
        "id": "aqkgOUmwad62",
        "outputId": "f9b69296-148e-44c7-e966-c2c6e95cda1a"
      },
      "outputs": [
        {
          "output_type": "stream",
          "name": "stdout",
          "text": [
            "Cloning into 'stepik-dl-nlp'...\n",
            "remote: Enumerating objects: 289, done.\u001b[K\n",
            "remote: Counting objects: 100% (23/23), done.\u001b[K\n",
            "remote: Compressing objects: 100% (17/17), done.\u001b[K\n",
            "remote: Total 289 (delta 10), reused 14 (delta 6), pack-reused 266\u001b[K\n",
            "Receiving objects: 100% (289/289), 42.27 MiB | 9.15 MiB/s, done.\n",
            "Resolving deltas: 100% (139/139), done.\n",
            "Requirement already satisfied: scikit-learn in /usr/local/lib/python3.7/dist-packages (from -r stepik-dl-nlp/requirements.txt (line 1)) (1.0.2)\n",
            "Collecting spacy-udpipe\n",
            "  Downloading spacy_udpipe-1.0.0-py3-none-any.whl (11 kB)\n",
            "Collecting pymorphy2\n",
            "  Downloading pymorphy2-0.9.1-py3-none-any.whl (55 kB)\n",
            "\u001b[K     |████████████████████████████████| 55 kB 2.2 MB/s \n",
            "\u001b[?25hRequirement already satisfied: torch>=1.2 in /usr/local/lib/python3.7/dist-packages (from -r stepik-dl-nlp/requirements.txt (line 4)) (1.10.0+cu111)\n",
            "Requirement already satisfied: matplotlib in /usr/local/lib/python3.7/dist-packages (from -r stepik-dl-nlp/requirements.txt (line 5)) (3.2.2)\n",
            "Collecting ipymarkup\n",
            "  Downloading ipymarkup-0.9.0-py3-none-any.whl (14 kB)\n",
            "Requirement already satisfied: lxml in /usr/local/lib/python3.7/dist-packages (from -r stepik-dl-nlp/requirements.txt (line 7)) (4.2.6)\n",
            "Requirement already satisfied: scipy in /usr/local/lib/python3.7/dist-packages (from -r stepik-dl-nlp/requirements.txt (line 8)) (1.4.1)\n",
            "Requirement already satisfied: pandas in /usr/local/lib/python3.7/dist-packages (from -r stepik-dl-nlp/requirements.txt (line 9)) (1.1.5)\n",
            "Requirement already satisfied: tqdm in /usr/local/lib/python3.7/dist-packages (from -r stepik-dl-nlp/requirements.txt (line 10)) (4.62.3)\n",
            "Collecting youtokentome\n",
            "  Downloading youtokentome-1.0.6-cp37-cp37m-manylinux2010_x86_64.whl (1.7 MB)\n",
            "\u001b[K     |████████████████████████████████| 1.7 MB 29.8 MB/s \n",
            "\u001b[?25hRequirement already satisfied: seaborn in /usr/local/lib/python3.7/dist-packages (from -r stepik-dl-nlp/requirements.txt (line 12)) (0.11.2)\n",
            "Requirement already satisfied: ipykernel in /usr/local/lib/python3.7/dist-packages (from -r stepik-dl-nlp/requirements.txt (line 13)) (4.10.1)\n",
            "Requirement already satisfied: ipython in /usr/local/lib/python3.7/dist-packages (from -r stepik-dl-nlp/requirements.txt (line 14)) (5.5.0)\n",
            "Collecting pyconll\n",
            "  Downloading pyconll-3.1.0-py3-none-any.whl (26 kB)\n",
            "Collecting gensim==3.8.1\n",
            "  Downloading gensim-3.8.1-cp37-cp37m-manylinux1_x86_64.whl (24.2 MB)\n",
            "\u001b[K     |████████████████████████████████| 24.2 MB 2.0 MB/s \n",
            "\u001b[?25hCollecting wget\n",
            "  Downloading wget-3.2.zip (10 kB)\n",
            "Collecting livelossplot==0.5.3\n",
            "  Downloading livelossplot-0.5.3-py3-none-any.whl (30 kB)\n",
            "Requirement already satisfied: numpy>=1.11.3 in /usr/local/lib/python3.7/dist-packages (from gensim==3.8.1->-r stepik-dl-nlp/requirements.txt (line 16)) (1.19.5)\n",
            "Requirement already satisfied: six>=1.5.0 in /usr/local/lib/python3.7/dist-packages (from gensim==3.8.1->-r stepik-dl-nlp/requirements.txt (line 16)) (1.15.0)\n",
            "Requirement already satisfied: smart-open>=1.8.1 in /usr/local/lib/python3.7/dist-packages (from gensim==3.8.1->-r stepik-dl-nlp/requirements.txt (line 16)) (5.2.1)\n",
            "Requirement already satisfied: bokeh in /usr/local/lib/python3.7/dist-packages (from livelossplot==0.5.3->-r stepik-dl-nlp/requirements.txt (line 18)) (2.3.3)\n",
            "Requirement already satisfied: typing-extensions in /usr/local/lib/python3.7/dist-packages (from torch>=1.2->-r stepik-dl-nlp/requirements.txt (line 4)) (3.10.0.2)\n",
            "Requirement already satisfied: joblib>=0.11 in /usr/local/lib/python3.7/dist-packages (from scikit-learn->-r stepik-dl-nlp/requirements.txt (line 1)) (1.1.0)\n",
            "Requirement already satisfied: threadpoolctl>=2.0.0 in /usr/local/lib/python3.7/dist-packages (from scikit-learn->-r stepik-dl-nlp/requirements.txt (line 1)) (3.0.0)\n",
            "Collecting spacy<4.0.0,>=3.0.0\n",
            "  Downloading spacy-3.2.1-cp37-cp37m-manylinux_2_17_x86_64.manylinux2014_x86_64.whl (6.0 MB)\n",
            "\u001b[K     |████████████████████████████████| 6.0 MB 23.3 MB/s \n",
            "\u001b[?25hCollecting ufal.udpipe>=1.2.0\n",
            "  Downloading ufal.udpipe-1.2.0.3.tar.gz (304 kB)\n",
            "\u001b[K     |████████████████████████████████| 304 kB 50.3 MB/s \n",
            "\u001b[?25hCollecting srsly<3.0.0,>=2.4.1\n",
            "  Downloading srsly-2.4.2-cp37-cp37m-manylinux_2_17_x86_64.manylinux2014_x86_64.whl (451 kB)\n",
            "\u001b[K     |████████████████████████████████| 451 kB 61.9 MB/s \n",
            "\u001b[?25hCollecting pydantic!=1.8,!=1.8.1,<1.9.0,>=1.7.4\n",
            "  Downloading pydantic-1.8.2-cp37-cp37m-manylinux2014_x86_64.whl (10.1 MB)\n",
            "\u001b[K     |████████████████████████████████| 10.1 MB 47.5 MB/s \n",
            "\u001b[?25hRequirement already satisfied: requests<3.0.0,>=2.13.0 in /usr/local/lib/python3.7/dist-packages (from spacy<4.0.0,>=3.0.0->spacy-udpipe->-r stepik-dl-nlp/requirements.txt (line 2)) (2.23.0)\n",
            "Requirement already satisfied: murmurhash<1.1.0,>=0.28.0 in /usr/local/lib/python3.7/dist-packages (from spacy<4.0.0,>=3.0.0->spacy-udpipe->-r stepik-dl-nlp/requirements.txt (line 2)) (1.0.6)\n",
            "Collecting catalogue<2.1.0,>=2.0.6\n",
            "  Downloading catalogue-2.0.6-py3-none-any.whl (17 kB)\n",
            "Collecting spacy-legacy<3.1.0,>=3.0.8\n",
            "  Downloading spacy_legacy-3.0.8-py2.py3-none-any.whl (14 kB)\n",
            "Requirement already satisfied: preshed<3.1.0,>=3.0.2 in /usr/local/lib/python3.7/dist-packages (from spacy<4.0.0,>=3.0.0->spacy-udpipe->-r stepik-dl-nlp/requirements.txt (line 2)) (3.0.6)\n",
            "Requirement already satisfied: jinja2 in /usr/local/lib/python3.7/dist-packages (from spacy<4.0.0,>=3.0.0->spacy-udpipe->-r stepik-dl-nlp/requirements.txt (line 2)) (2.11.3)\n",
            "Requirement already satisfied: packaging>=20.0 in /usr/local/lib/python3.7/dist-packages (from spacy<4.0.0,>=3.0.0->spacy-udpipe->-r stepik-dl-nlp/requirements.txt (line 2)) (21.3)\n",
            "Collecting pathy>=0.3.5\n",
            "  Downloading pathy-0.6.1-py3-none-any.whl (42 kB)\n",
            "\u001b[K     |████████████████████████████████| 42 kB 847 kB/s \n",
            "\u001b[?25hRequirement already satisfied: cymem<2.1.0,>=2.0.2 in /usr/local/lib/python3.7/dist-packages (from spacy<4.0.0,>=3.0.0->spacy-udpipe->-r stepik-dl-nlp/requirements.txt (line 2)) (2.0.6)\n",
            "Collecting langcodes<4.0.0,>=3.2.0\n",
            "  Downloading langcodes-3.3.0-py3-none-any.whl (181 kB)\n",
            "\u001b[K     |████████████████████████████████| 181 kB 76.2 MB/s \n",
            "\u001b[?25hRequirement already satisfied: setuptools in /usr/local/lib/python3.7/dist-packages (from spacy<4.0.0,>=3.0.0->spacy-udpipe->-r stepik-dl-nlp/requirements.txt (line 2)) (57.4.0)\n",
            "Collecting spacy-loggers<2.0.0,>=1.0.0\n",
            "  Downloading spacy_loggers-1.0.1-py3-none-any.whl (7.0 kB)\n",
            "Requirement already satisfied: blis<0.8.0,>=0.4.0 in /usr/local/lib/python3.7/dist-packages (from spacy<4.0.0,>=3.0.0->spacy-udpipe->-r stepik-dl-nlp/requirements.txt (line 2)) (0.4.1)\n",
            "Requirement already satisfied: wasabi<1.1.0,>=0.8.1 in /usr/local/lib/python3.7/dist-packages (from spacy<4.0.0,>=3.0.0->spacy-udpipe->-r stepik-dl-nlp/requirements.txt (line 2)) (0.9.0)\n",
            "Collecting thinc<8.1.0,>=8.0.12\n",
            "  Downloading thinc-8.0.13-cp37-cp37m-manylinux_2_17_x86_64.manylinux2014_x86_64.whl (628 kB)\n",
            "\u001b[K     |████████████████████████████████| 628 kB 65.1 MB/s \n",
            "\u001b[?25hCollecting typer<0.5.0,>=0.3.0\n",
            "  Downloading typer-0.4.0-py3-none-any.whl (27 kB)\n",
            "Requirement already satisfied: zipp>=0.5 in /usr/local/lib/python3.7/dist-packages (from catalogue<2.1.0,>=2.0.6->spacy<4.0.0,>=3.0.0->spacy-udpipe->-r stepik-dl-nlp/requirements.txt (line 2)) (3.7.0)\n",
            "Requirement already satisfied: pyparsing!=3.0.5,>=2.0.2 in /usr/local/lib/python3.7/dist-packages (from packaging>=20.0->spacy<4.0.0,>=3.0.0->spacy-udpipe->-r stepik-dl-nlp/requirements.txt (line 2)) (3.0.7)\n",
            "Requirement already satisfied: chardet<4,>=3.0.2 in /usr/local/lib/python3.7/dist-packages (from requests<3.0.0,>=2.13.0->spacy<4.0.0,>=3.0.0->spacy-udpipe->-r stepik-dl-nlp/requirements.txt (line 2)) (3.0.4)\n",
            "Requirement already satisfied: urllib3!=1.25.0,!=1.25.1,<1.26,>=1.21.1 in /usr/local/lib/python3.7/dist-packages (from requests<3.0.0,>=2.13.0->spacy<4.0.0,>=3.0.0->spacy-udpipe->-r stepik-dl-nlp/requirements.txt (line 2)) (1.24.3)\n",
            "Requirement already satisfied: idna<3,>=2.5 in /usr/local/lib/python3.7/dist-packages (from requests<3.0.0,>=2.13.0->spacy<4.0.0,>=3.0.0->spacy-udpipe->-r stepik-dl-nlp/requirements.txt (line 2)) (2.10)\n",
            "Requirement already satisfied: certifi>=2017.4.17 in /usr/local/lib/python3.7/dist-packages (from requests<3.0.0,>=2.13.0->spacy<4.0.0,>=3.0.0->spacy-udpipe->-r stepik-dl-nlp/requirements.txt (line 2)) (2021.10.8)\n",
            "Requirement already satisfied: click<9.0.0,>=7.1.1 in /usr/local/lib/python3.7/dist-packages (from typer<0.5.0,>=0.3.0->spacy<4.0.0,>=3.0.0->spacy-udpipe->-r stepik-dl-nlp/requirements.txt (line 2)) (7.1.2)\n",
            "Requirement already satisfied: docopt>=0.6 in /usr/local/lib/python3.7/dist-packages (from pymorphy2->-r stepik-dl-nlp/requirements.txt (line 3)) (0.6.2)\n",
            "Collecting pymorphy2-dicts-ru<3.0,>=2.4\n",
            "  Downloading pymorphy2_dicts_ru-2.4.417127.4579844-py2.py3-none-any.whl (8.2 MB)\n",
            "\u001b[K     |████████████████████████████████| 8.2 MB 71.3 MB/s \n",
            "\u001b[?25hCollecting dawg-python>=0.7.1\n",
            "  Downloading DAWG_Python-0.7.2-py2.py3-none-any.whl (11 kB)\n",
            "Requirement already satisfied: python-dateutil>=2.1 in /usr/local/lib/python3.7/dist-packages (from matplotlib->-r stepik-dl-nlp/requirements.txt (line 5)) (2.8.2)\n",
            "Requirement already satisfied: kiwisolver>=1.0.1 in /usr/local/lib/python3.7/dist-packages (from matplotlib->-r stepik-dl-nlp/requirements.txt (line 5)) (1.3.2)\n",
            "Requirement already satisfied: cycler>=0.10 in /usr/local/lib/python3.7/dist-packages (from matplotlib->-r stepik-dl-nlp/requirements.txt (line 5)) (0.11.0)\n",
            "Collecting intervaltree>=3\n",
            "  Downloading intervaltree-3.1.0.tar.gz (32 kB)\n",
            "Requirement already satisfied: sortedcontainers<3.0,>=2.0 in /usr/local/lib/python3.7/dist-packages (from intervaltree>=3->ipymarkup->-r stepik-dl-nlp/requirements.txt (line 6)) (2.4.0)\n",
            "Requirement already satisfied: pytz>=2017.2 in /usr/local/lib/python3.7/dist-packages (from pandas->-r stepik-dl-nlp/requirements.txt (line 9)) (2018.9)\n",
            "Requirement already satisfied: tornado>=4.0 in /usr/local/lib/python3.7/dist-packages (from ipykernel->-r stepik-dl-nlp/requirements.txt (line 13)) (5.1.1)\n",
            "Requirement already satisfied: traitlets>=4.1.0 in /usr/local/lib/python3.7/dist-packages (from ipykernel->-r stepik-dl-nlp/requirements.txt (line 13)) (5.1.1)\n",
            "Requirement already satisfied: jupyter-client in /usr/local/lib/python3.7/dist-packages (from ipykernel->-r stepik-dl-nlp/requirements.txt (line 13)) (5.3.5)\n",
            "Requirement already satisfied: decorator in /usr/local/lib/python3.7/dist-packages (from ipython->-r stepik-dl-nlp/requirements.txt (line 14)) (4.4.2)\n",
            "Requirement already satisfied: pickleshare in /usr/local/lib/python3.7/dist-packages (from ipython->-r stepik-dl-nlp/requirements.txt (line 14)) (0.7.5)\n",
            "Requirement already satisfied: pygments in /usr/local/lib/python3.7/dist-packages (from ipython->-r stepik-dl-nlp/requirements.txt (line 14)) (2.6.1)\n",
            "Requirement already satisfied: pexpect in /usr/local/lib/python3.7/dist-packages (from ipython->-r stepik-dl-nlp/requirements.txt (line 14)) (4.8.0)\n",
            "Requirement already satisfied: prompt-toolkit<2.0.0,>=1.0.4 in /usr/local/lib/python3.7/dist-packages (from ipython->-r stepik-dl-nlp/requirements.txt (line 14)) (1.0.18)\n",
            "Requirement already satisfied: simplegeneric>0.8 in /usr/local/lib/python3.7/dist-packages (from ipython->-r stepik-dl-nlp/requirements.txt (line 14)) (0.8.1)\n",
            "Requirement already satisfied: wcwidth in /usr/local/lib/python3.7/dist-packages (from prompt-toolkit<2.0.0,>=1.0.4->ipython->-r stepik-dl-nlp/requirements.txt (line 14)) (0.2.5)\n",
            "Requirement already satisfied: pillow>=7.1.0 in /usr/local/lib/python3.7/dist-packages (from bokeh->livelossplot==0.5.3->-r stepik-dl-nlp/requirements.txt (line 18)) (7.1.2)\n",
            "Requirement already satisfied: PyYAML>=3.10 in /usr/local/lib/python3.7/dist-packages (from bokeh->livelossplot==0.5.3->-r stepik-dl-nlp/requirements.txt (line 18)) (3.13)\n",
            "Requirement already satisfied: MarkupSafe>=0.23 in /usr/local/lib/python3.7/dist-packages (from jinja2->spacy<4.0.0,>=3.0.0->spacy-udpipe->-r stepik-dl-nlp/requirements.txt (line 2)) (2.0.1)\n",
            "Requirement already satisfied: jupyter-core>=4.6.0 in /usr/local/lib/python3.7/dist-packages (from jupyter-client->ipykernel->-r stepik-dl-nlp/requirements.txt (line 13)) (4.9.1)\n",
            "Requirement already satisfied: pyzmq>=13 in /usr/local/lib/python3.7/dist-packages (from jupyter-client->ipykernel->-r stepik-dl-nlp/requirements.txt (line 13)) (22.3.0)\n",
            "Requirement already satisfied: ptyprocess>=0.5 in /usr/local/lib/python3.7/dist-packages (from pexpect->ipython->-r stepik-dl-nlp/requirements.txt (line 14)) (0.7.0)\n",
            "Building wheels for collected packages: ufal.udpipe, intervaltree, wget\n",
            "  Building wheel for ufal.udpipe (setup.py) ... \u001b[?25l\u001b[?25hdone\n",
            "  Created wheel for ufal.udpipe: filename=ufal.udpipe-1.2.0.3-cp37-cp37m-linux_x86_64.whl size=5626634 sha256=c077e484b0fd8c44703f74f4f266ff93f3e610efbf3954689943723d6719c2ab\n",
            "  Stored in directory: /root/.cache/pip/wheels/b8/b5/8e/3da091629a21ce2d10bf90759d0cb034ba10a5cf7a01e83d64\n",
            "  Building wheel for intervaltree (setup.py) ... \u001b[?25l\u001b[?25hdone\n",
            "  Created wheel for intervaltree: filename=intervaltree-3.1.0-py2.py3-none-any.whl size=26119 sha256=fe46270cb549899f10eddc29e1313b889b71d555c6480ae68a434daa8ae160a2\n",
            "  Stored in directory: /root/.cache/pip/wheels/16/85/bd/1001cbb46dcfb71c2001cd7401c6fb250392f22a81ce3722f7\n",
            "  Building wheel for wget (setup.py) ... \u001b[?25l\u001b[?25hdone\n",
            "  Created wheel for wget: filename=wget-3.2-py3-none-any.whl size=9675 sha256=7c437b6e38c576563979dca64720bc096f74dddddb70ea224e6752bb88d0e166\n",
            "  Stored in directory: /root/.cache/pip/wheels/a1/b6/7c/0e63e34eb06634181c63adacca38b79ff8f35c37e3c13e3c02\n",
            "Successfully built ufal.udpipe intervaltree wget\n",
            "Installing collected packages: catalogue, typer, srsly, pydantic, thinc, spacy-loggers, spacy-legacy, pathy, langcodes, ufal.udpipe, spacy, pymorphy2-dicts-ru, intervaltree, dawg-python, youtokentome, wget, spacy-udpipe, pymorphy2, pyconll, livelossplot, ipymarkup, gensim\n",
            "  Attempting uninstall: catalogue\n",
            "    Found existing installation: catalogue 1.0.0\n",
            "    Uninstalling catalogue-1.0.0:\n",
            "      Successfully uninstalled catalogue-1.0.0\n",
            "  Attempting uninstall: srsly\n",
            "    Found existing installation: srsly 1.0.5\n",
            "    Uninstalling srsly-1.0.5:\n",
            "      Successfully uninstalled srsly-1.0.5\n",
            "  Attempting uninstall: thinc\n",
            "    Found existing installation: thinc 7.4.0\n",
            "    Uninstalling thinc-7.4.0:\n",
            "      Successfully uninstalled thinc-7.4.0\n",
            "  Attempting uninstall: spacy\n",
            "    Found existing installation: spacy 2.2.4\n",
            "    Uninstalling spacy-2.2.4:\n",
            "      Successfully uninstalled spacy-2.2.4\n",
            "  Attempting uninstall: intervaltree\n",
            "    Found existing installation: intervaltree 2.1.0\n",
            "    Uninstalling intervaltree-2.1.0:\n",
            "      Successfully uninstalled intervaltree-2.1.0\n",
            "  Attempting uninstall: gensim\n",
            "    Found existing installation: gensim 3.6.0\n",
            "    Uninstalling gensim-3.6.0:\n",
            "      Successfully uninstalled gensim-3.6.0\n",
            "Successfully installed catalogue-2.0.6 dawg-python-0.7.2 gensim-3.8.1 intervaltree-3.1.0 ipymarkup-0.9.0 langcodes-3.3.0 livelossplot-0.5.3 pathy-0.6.1 pyconll-3.1.0 pydantic-1.8.2 pymorphy2-0.9.1 pymorphy2-dicts-ru-2.4.417127.4579844 spacy-3.2.1 spacy-legacy-3.0.8 spacy-loggers-1.0.1 spacy-udpipe-1.0.0 srsly-2.4.2 thinc-8.0.13 typer-0.4.0 ufal.udpipe-1.2.0.3 wget-3.2 youtokentome-1.0.6\n"
          ]
        }
      ],
      "source": [
        "# Если Вы запускаете ноутбук на colab или kaggle,\n",
        "# выполните следующие строчки, чтобы подгрузить библиотеку dlnlputils:\n",
        "\n",
        "# !git clone https://github.com/Samsung-IT-Academy/stepik-dl-nlp.git && pip install -r stepik-dl-nlp/requirements.txt\n",
        "# import sys; sys.path.append('./stepik-dl-nlp')"
      ]
    },
    {
      "cell_type": "code",
      "execution_count": 2,
      "metadata": {
        "ExecuteTime": {
          "end_time": "2019-11-05T18:20:34.854793Z",
          "start_time": "2019-11-05T18:20:34.372865Z"
        },
        "id": "j6CF4h_aad63"
      },
      "outputs": [],
      "source": [
        "import os\n",
        "\n",
        "import numpy as np\n",
        "import matplotlib.pyplot as plt\n",
        "%matplotlib inline"
      ]
    },
    {
      "cell_type": "markdown",
      "metadata": {
        "id": "VwdTZT-Iad63"
      },
      "source": [
        "# Данные\n",
        "Датасет содержит ~9k имен, все написаны латиницей.\n",
        "\n",
        "Если не будет специального символа, с которого начинается генерация, то мы лишим нашу модель способности выбирать первый символ последовательности\n",
        "(Если же мы захотим генерировать любые имена, начинающиеся с любой буквы, мы просто передадим нашей функции пробел в качестве первого символа. Таким образом, сможем сгенерировать имена, начинающиеся на любую букву.)"
      ]
    },
    {
      "cell_type": "code",
      "execution_count": 5,
      "metadata": {
        "ExecuteTime": {
          "end_time": "2019-11-05T18:21:03.509714Z",
          "start_time": "2019-11-05T18:21:03.491489Z"
        },
        "id": "QnG7VSbvad63"
      },
      "outputs": [],
      "source": [
        "# Если Вы запускаете ноутбук на colab или kaggle, добавьте в начало пути ./stepik-dl-nlp\n",
        "with open('stepik-dl-nlp/datasets/russian_names.txt') as input_file:\n",
        "    names = input_file.read()[:-1].split('\\n')\n",
        "    names = [' ' + line for line in names]"
      ]
    },
    {
      "cell_type": "code",
      "execution_count": 6,
      "metadata": {
        "ExecuteTime": {
          "end_time": "2019-11-05T18:21:03.946758Z",
          "start_time": "2019-11-05T18:21:03.938432Z"
        },
        "colab": {
          "base_uri": "https://localhost:8080/"
        },
        "id": "4C_QaeSyad64",
        "outputId": "51df9132-b8d7-4f76-c2a7-5b87d6ba7363"
      },
      "outputs": [
        {
          "output_type": "execute_result",
          "data": {
            "text/plain": [
              "[' Ababko', ' Abaev', ' Abagyan', ' Abaidulin', ' Abaidullin']"
            ]
          },
          "metadata": {},
          "execution_count": 6
        }
      ],
      "source": [
        "names[:5]"
      ]
    },
    {
      "cell_type": "markdown",
      "metadata": {
        "id": "gqGnqS76ad64"
      },
      "source": [
        "Посмотрим на распределение длин имен:\n",
        "\n",
        " Как вы видите, распределение длин имён описывается нормальным распределением и, в целом, большинство имён имеет длину от 6 до, скажем, 12 символов, что довольно логично и соответствует действительности."
      ]
    },
    {
      "cell_type": "code",
      "execution_count": 10,
      "metadata": {
        "ExecuteTime": {
          "end_time": "2019-11-05T18:21:05.420060Z",
          "start_time": "2019-11-05T18:21:05.179513Z"
        },
        "colab": {
          "base_uri": "https://localhost:8080/",
          "height": 281
        },
        "id": "pXfaSHysad64",
        "outputId": "acd62431-2e79-4342-a248-745aa892e640"
      },
      "outputs": [
        {
          "output_type": "display_data",
          "data": {
            "image/png": "[encoded data removed]",
            "text/plain": [
              "<Figure size 432x288 with 1 Axes>"
            ]
          },
          "metadata": {
            "needs_background": "light"
          }
        }
      ],
      "source": [
        "plt.title('Name length distribution')\n",
        "plt.hist(list(map(len, names)), bins=18);"
      ]
    },
    {
      "cell_type": "markdown",
      "metadata": {
        "id": "fW1Uo2TMad65"
      },
      "source": [
        "# Препроцессинг\n",
        "\n",
        "Нам нужно составить список уникальных символов, которые встречаются в нашем датасете"
      ]
    },
    {
      "cell_type": "code",
      "execution_count": 11,
      "metadata": {
        "ExecuteTime": {
          "end_time": "2019-11-05T18:21:07.335188Z",
          "start_time": "2019-11-05T18:21:07.320148Z"
        },
        "colab": {
          "base_uri": "https://localhost:8080/"
        },
        "id": "__77tIHiad65",
        "outputId": "99f12719-3ce9-479d-824c-d26a1fc050bf"
      },
      "outputs": [
        {
          "output_type": "stream",
          "name": "stdout",
          "text": [
            "num_tokens =  52\n"
          ]
        }
      ],
      "source": [
        "#all unique characters go here\n",
        "tokens = list(set(''.join(names)))\n",
        "\n",
        "num_tokens = len(tokens)\n",
        "print ('num_tokens = ', num_tokens)"
      ]
    },
    {
      "cell_type": "markdown",
      "metadata": {
        "id": "8Qc9CKDpad65"
      },
      "source": [
        "### Символы -> id\n",
        "\n",
        "Создадим словарь < символ > -> < id >"
      ]
    },
    {
      "cell_type": "code",
      "execution_count": 28,
      "metadata": {
        "ExecuteTime": {
          "end_time": "2019-11-05T18:21:07.674548Z",
          "start_time": "2019-11-05T18:21:07.671129Z"
        },
        "id": "kSVg_e3lad65"
      },
      "outputs": [],
      "source": [
        "token_to_id = {token: idx for idx, token in enumerate(tokens)}"
      ]
    },
    {
      "cell_type": "code",
      "execution_count": 29,
      "metadata": {
        "ExecuteTime": {
          "end_time": "2019-11-05T18:21:07.838814Z",
          "start_time": "2019-11-05T18:21:07.833611Z"
        },
        "colab": {
          "base_uri": "https://localhost:8080/"
        },
        "id": "H5UZ_AWCad66",
        "outputId": "b8f2e5e3-2c07-4aa5-d49c-641d611180fd"
      },
      "outputs": [
        {
          "output_type": "stream",
          "name": "stdout",
          "text": [
            "Seems alright!\n"
          ]
        }
      ],
      "source": [
        "assert len(tokens) == len(token_to_id), \"dictionaries must have same size\"\n",
        "\n",
        "for i in range(num_tokens):\n",
        "    assert token_to_id[tokens[i]] == i, \"token identifier must be it's position in tokens list\"\n",
        "\n",
        "print(\"Seems alright!\")"
      ]
    },
    {
      "cell_type": "markdown",
      "source": [
        " И теперь мы хотим преобразовать наши входные данные, а именно — наши 9 с небольшим хвостиком тысяч имён в некоторое численное представление, то есть вместо имени мы хотим получить численный вектор. "
      ],
      "metadata": {
        "id": "6Q2y6ZigfNOL"
      }
    },
    {
      "cell_type": "code",
      "execution_count": 30,
      "metadata": {
        "ExecuteTime": {
          "end_time": "2019-11-05T18:21:07.988093Z",
          "start_time": "2019-11-05T18:21:07.977722Z"
        },
        "id": "3U8loqgBad66"
      },
      "outputs": [],
      "source": [
        "def to_matrix(data, token_to_id, max_len=None, dtype='int32', batch_first = True):\n",
        "    \"\"\"Casts a list of names into rnn-digestable matrix\"\"\"\n",
        "    \n",
        "    max_len = max_len or max(map(len, data))\n",
        "    data_ix = np.zeros([len(data), max_len], dtype) + token_to_id[' ']\n",
        "\n",
        "    for i in range(len(data)):\n",
        "        line_ix = [token_to_id[c] for c in data[i]]\n",
        "        data_ix[i, :len(line_ix)] = line_ix\n",
        "        \n",
        "    if not batch_first: # convert [batch, time] into [time, batch]\n",
        "        data_ix = np.transpose(data_ix)\n",
        "\n",
        "    return data_ix"
      ]
    },
    {
      "cell_type": "markdown",
      "source": [
        "Все векторы — одинаковой длины, и при этом все векторы начинаются с одного и того же числа: 29. Это вполне логично, поскольку в начале каждого имени мы ставили пробел, \"29\" — это ID пробела. Отлично! При этом, как вы можете заметить, в конце некоторых строк также присутствуют символы 29"
      ],
      "metadata": {
        "id": "OehxDSP9haa8"
      }
    },
    {
      "cell_type": "code",
      "execution_count": 31,
      "metadata": {
        "ExecuteTime": {
          "end_time": "2019-11-05T18:21:08.136936Z",
          "start_time": "2019-11-05T18:21:08.131609Z"
        },
        "colab": {
          "base_uri": "https://localhost:8080/"
        },
        "id": "ic-Td91nad66",
        "outputId": "532069c4-fd17-4f07-db87-53c7be59951b"
      },
      "outputs": [
        {
          "output_type": "stream",
          "name": "stdout",
          "text": [
            " Ababko\n",
            " Chihachev\n",
            " Isaikov\n",
            " Nakhamkin\n",
            " Ustenko\n",
            "[[ 8 42 19 15 19 16 33  8  8  8]\n",
            " [ 8 37 11 22 11 15 10 11 34 49]\n",
            " [ 8 31 50 15 22 16 33 49  8  8]\n",
            " [ 8 24 15 16 11 15  4 16 22 51]\n",
            " [ 8 45 50 41 34 51 16 33  8  8]]\n"
          ]
        }
      ],
      "source": [
        "#Example: cast 4 names to matrices, pad with zeros\n",
        "print('\\n'.join(names[::2000]))\n",
        "print(to_matrix(names[::2000], token_to_id))"
      ]
    },
    {
      "cell_type": "markdown",
      "metadata": {
        "id": "sCTwpScqad67"
      },
      "source": [
        "# Рекуррентные нейронные сети\n",
        "\n",
        "![rnn.png](data:image/png;base64,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)\n",
        "\n",
        "Напишем rnn своими руками"
      ]
    },
    {
      "cell_type": "code",
      "execution_count": 32,
      "metadata": {
        "ExecuteTime": {
          "end_time": "2019-11-05T18:21:10.739438Z",
          "start_time": "2019-11-05T18:21:09.661222Z"
        },
        "id": "GOxJmztjad67"
      },
      "outputs": [],
      "source": [
        "import torch, torch.nn as nn\n",
        "import torch.nn.functional as F\n",
        "from torch.autograd import Variable"
      ]
    },
    {
      "cell_type": "code",
      "execution_count": 35,
      "metadata": {
        "ExecuteTime": {
          "end_time": "2019-11-05T18:21:10.751862Z",
          "start_time": "2019-11-05T18:21:10.741772Z"
        },
        "id": "vYscy1spad67"
      },
      "outputs": [],
      "source": [
        "class CharRNNCell(nn.Module):\n",
        "    \"\"\"\n",
        "    Implement the scheme above as torch module\n",
        "    \"\"\"\n",
        "    def __init__(self, num_tokens=len(tokens), embedding_size=16, rnn_num_units=64):\n",
        "        super(self.__class__,self).__init__()\n",
        "        self.num_units = rnn_num_units\n",
        "        \n",
        "        self.embedding = nn.Embedding(num_tokens, embedding_size)\n",
        "        self.rnn_update = nn.Linear(embedding_size + rnn_num_units, rnn_num_units)\n",
        "        self.rnn_to_logits = nn.Linear(rnn_num_units, num_tokens)\n",
        "        \n",
        "    def forward(self, x, h_prev):\n",
        "        \"\"\"\n",
        "        This method computes h_next(x, h_prev) and log P(x_next | h_next)\n",
        "        We'll call it repeatedly to produce the whole sequence.\n",
        "        \n",
        "        :param x: batch of character ids, variable containing vector of int64\n",
        "        :param h_prev: previous rnn hidden states, variable containing matrix [batch, rnn_num_units] of float32\n",
        "\n",
        "        Для начала мы преобразовываем наши входные векторы в эмбеддинги с помощью слоя,\n",
        "        который мы берём из библиотеки pytorch, а именно \"nn embedding\". \n",
        "        Дальше мы конкатенируем текущий входной вектор из переменной \"x embedding\" \n",
        "        и скрытое состояние из предыдущего шага, и дальше, с помощью \"rnn update\" \n",
        "        (именно так мы назвали линейный слой функции \"init\"), \n",
        "        мы делаем следующий шаг — предсказываем следующее скрытое состояние. \n",
        "        Дальше в ход идёт нелинейность — мы применяем гиперболический тангенс к выходу этого слоя.\n",
        "        \"\"\"\n",
        "        # get vector embedding of x\n",
        "        x_emb = self.embedding(x)\n",
        "        \n",
        "        # compute next hidden state using self.rnn_update\n",
        "        x_and_h = torch.cat([x_emb, h_prev], dim=1) #YOUR CODE HERE\n",
        "        h_next = self.rnn_update(x_and_h) #YOUR CODE HERE\n",
        "        \n",
        "        h_next = F.tanh(h_next)\n",
        "        \n",
        "        assert h_next.size() == h_prev.size()\n",
        "        \n",
        "        #compute logits for next character probs\n",
        "        logits = self.rnn_to_logits(h_next)\n",
        "        \n",
        "        return h_next, F.log_softmax(logits, -1)\n",
        "    \n",
        "\n",
        "    def initial_state(self, batch_size):\n",
        "        \"\"\" return rnn state before it processes first input (aka h0) \n",
        "        просто заполняет векторы нулями, выход функции соответствует переменной \"h0\",\n",
        "         или нулевому скрытому состоянию нашей нейронной сети. \n",
        "        \"\"\"\n",
        "        return Variable(torch.zeros(batch_size, self.num_units))"
      ]
    },
    {
      "cell_type": "code",
      "execution_count": 36,
      "metadata": {
        "ExecuteTime": {
          "end_time": "2019-11-05T18:21:11.071002Z",
          "start_time": "2019-11-05T18:21:11.052377Z"
        },
        "id": "O35zZ7lQad68"
      },
      "outputs": [],
      "source": [
        "char_rnn = CharRNNCell()"
      ]
    },
    {
      "cell_type": "markdown",
      "metadata": {
        "id": "7PQkMMaRad68"
      },
      "source": [
        "### Тренировка сети, RNN loop\n",
        "\n",
        "После того, как мы написали один шаг RNN, мы можем вызвать его в цикле и предсказывать символы на каждом шаге нашего цикла. Теперь мы можем начинать тренировку нашей сети"
      ]
    },
    {
      "cell_type": "code",
      "execution_count": 39,
      "metadata": {
        "ExecuteTime": {
          "end_time": "2019-11-05T18:21:11.521078Z",
          "start_time": "2019-11-05T18:21:11.510175Z"
        },
        "id": "n1Hv3QpCad68"
      },
      "outputs": [],
      "source": [
        "def rnn_loop(rnn, batch_index):\n",
        "    \"\"\"\n",
        "    Computes log P(next_character) for all time-steps in names_ix\n",
        "    :param names_ix: an int32 matrix of shape [batch, time], output of to_matrix(names)\n",
        "    \"\"\"\n",
        "    batch_size, max_length = batch_index.size()\n",
        "    hid_state = rnn.initial_state(batch_size) ## создали входной слов с нулями\n",
        "    logprobs = []\n",
        "\n",
        "    for x_t in batch_index.transpose(0,1): ## транспонирование\n",
        "        hid_state, logp_next = rnn(x_t, hid_state)  ## передали бачи и слой, получили новый слой и вероятность следующей буквы\n",
        "        logprobs.append(logp_next) ## сохранили вер-сть след буквы\n",
        "        \n",
        "    return torch.stack(logprobs, dim=1)"
      ]
    },
    {
      "cell_type": "markdown",
      "metadata": {
        "id": "CG2Wn9Qnad69"
      },
      "source": [
        "### Тренировка сети"
      ]
    },
    {
      "cell_type": "code",
      "execution_count": 41,
      "metadata": {
        "ExecuteTime": {
          "end_time": "2019-11-05T18:21:12.120106Z",
          "start_time": "2019-11-05T18:21:12.109585Z"
        },
        "id": "K8Stl1b_ad69"
      },
      "outputs": [],
      "source": [
        "from IPython.display import clear_output\n",
        "from random import sample\n",
        "\n",
        "char_rnn = CharRNNCell() #  наша сеть\n",
        "opt = torch.optim.Adam(char_rnn.parameters())\n",
        "history = []"
      ]
    },
    {
      "cell_type": "code",
      "execution_count": 42,
      "metadata": {
        "ExecuteTime": {
          "end_time": "2019-11-05T18:21:23.521061Z",
          "start_time": "2019-11-05T18:21:12.302892Z"
        },
        "colab": {
          "base_uri": "https://localhost:8080/",
          "height": 265
        },
        "id": "N41MAV6Dad69",
        "outputId": "25082d69-7916-421c-f7c0-145584f271bc"
      },
      "outputs": [
        {
          "output_type": "display_data",
          "data": {
            "image/png": "[encoded data removed]",
            "text/plain": [
              "<Figure size 432x288 with 1 Axes>"
            ]
          },
          "metadata": {
            "needs_background": "light"
          }
        }
      ],
      "source": [
        "MAX_LENGTH = max(map(len, names))\n",
        "\n",
        "for i in range(1000):\n",
        "    \"\"\"рандомные 32 имени кодируем в виде числе (буквы заменяем нулями и добавляем падинг)\"\"\"\n",
        "    batch_ix = to_matrix(sample(names, 32), token_to_id, max_len=MAX_LENGTH)\n",
        "    batch_ix = torch.tensor(batch_ix, dtype=torch.int64) #просто переводим в tensor\n",
        "    \n",
        "    \"\"\"зациклили наш rnn, пытаясь предсказать каждую букву\"\"\"\n",
        "    logp_seq = rnn_loop(char_rnn, batch_ix)\n",
        "    \n",
        "    # compute loss\n",
        "    predictions_logp = logp_seq[:, :-1] ## развернули массив\n",
        "    actual_next_tokens = batch_ix[:, 1:]\n",
        "\n",
        "    loss = -torch.mean(torch.gather(predictions_logp, dim=2, index=actual_next_tokens[:,:,None]))###YOUR CODE\n",
        "    \n",
        "    # train with backprop\n",
        "    loss.backward()\n",
        "    opt.step()\n",
        "    opt.zero_grad()\n",
        "    \n",
        "    # visualizing training process\n",
        "    history.append(loss.data.numpy())\n",
        "    if (i + 1) % 100 == 0:\n",
        "        clear_output(True)\n",
        "        plt.plot(history,label='loss')\n",
        "        plt.legend()\n",
        "        plt.show()\n",
        "\n",
        "assert np.mean(history[:10]) > np.mean(history[-10:]), \"RNN didn't converge.\""
      ]
    },
    {
      "cell_type": "markdown",
      "metadata": {
        "id": "c98VuU-Zad69"
      },
      "source": [
        "### RNN: генерация имен"
      ]
    },
    {
      "cell_type": "code",
      "execution_count": 43,
      "metadata": {
        "ExecuteTime": {
          "end_time": "2019-11-05T18:21:23.540765Z",
          "start_time": "2019-11-05T18:21:23.524503Z"
        },
        "id": "GgiQwSA0ad6-"
      },
      "outputs": [],
      "source": [
        "def generate_sample(char_rnn, seed_phrase=' ', max_length=MAX_LENGTH, temperature=1.0):\n",
        "    '''\n",
        "    Функция генерирует текст по заданной фразе длиной не менее SEQ_LENGTH.\n",
        "      :param seed_phrase: символы префикса. RNN просят продолжить фразу\n",
        "      :param max_length: максимальная длина вывода, включая seed_phrase\n",
        "      :param temperature: коэффициент для выборки. более высокая temperature производит более хаотичные выходы,\n",
        "                          меньшая temperature сходится к единственному наиболее вероятному выходу\n",
        "       Если мы ставим маленькую температуру, сеть будет генерировать такие фамилии в которых она наиболее уверена.\n",
        "    '''\n",
        "    \n",
        "    x_sequence = [token_to_id[token] for token in seed_phrase] # получаем id seed_phrase\n",
        "    x_sequence = torch.tensor([x_sequence], dtype=torch.int64)\n",
        "    hid_state = char_rnn.initial_state(batch_size=1)\n",
        "    \n",
        "    #feed the seed phrase, if any\n",
        "    for i in range(len(seed_phrase) - 1):\n",
        "        hid_state, _ = char_rnn(x_sequence[:, i], hid_state)\n",
        "    \n",
        "    #start generating\n",
        "    for _ in range(max_length - len(seed_phrase)):\n",
        "        hid_state, logp_next = char_rnn(x_sequence[:, -1], hid_state)\n",
        "        p_next = F.softmax(logp_next / temperature, dim=-1).data.numpy()[0]\n",
        "        \n",
        "        # sample next token and push it back into x_sequence\n",
        "        next_ix = np.random.choice(len(tokens), p=p_next)\n",
        "        next_ix = torch.tensor([[next_ix]], dtype=torch.int64)\n",
        "        x_sequence = torch.cat([x_sequence, next_ix], dim=1)\n",
        "        \n",
        "    return ''.join([tokens[ix] for ix in x_sequence.data.numpy()[0]])"
      ]
    },
    {
      "cell_type": "code",
      "execution_count": 46,
      "metadata": {
        "ExecuteTime": {
          "end_time": "2019-11-05T18:21:23.625562Z",
          "start_time": "2019-11-05T18:21:23.544968Z"
        },
        "colab": {
          "base_uri": "https://localhost:8080/"
        },
        "id": "9WVphBifad6-",
        "outputId": "5f9c8679-94a4-46b4-c964-fc8dc70853b0"
      },
      "outputs": [
        {
          "output_type": "stream",
          "name": "stdout",
          "text": [
            " Rontreb             \n",
            " Hoshev              \n",
            " Valunan             \n",
            " Irelyuk             \n",
            " Jahenzov            \n",
            " Alzysmohenko        \n",
            " Vonasoff            \n",
            " Hakhimov            \n",
            " Rihonbkov           \n",
            " Elyuhatsir          \n"
          ]
        },
        {
          "output_type": "stream",
          "name": "stderr",
          "text": [
            "/usr/local/lib/python3.7/dist-packages/torch/nn/functional.py:1795: UserWarning: nn.functional.tanh is deprecated. Use torch.tanh instead.\n",
            "  warnings.warn(\"nn.functional.tanh is deprecated. Use torch.tanh instead.\")\n"
          ]
        }
      ],
      "source": [
        "for _ in range(10):\n",
        "    print(generate_sample(char_rnn))"
      ]
    },
    {
      "cell_type": "code",
      "execution_count": 50,
      "metadata": {
        "ExecuteTime": {
          "end_time": "2019-11-05T18:21:23.702249Z",
          "start_time": "2019-11-05T18:21:23.629226Z"
        },
        "colab": {
          "base_uri": "https://localhost:8080/"
        },
        "id": "9p3tpL_dad6-",
        "outputId": "05818c43-fa1b-4788-e4e7-bab81f660414"
      },
      "outputs": [
        {
          "output_type": "stream",
          "name": "stdout",
          "text": [
            " dashuhovsyN         \n",
            " dashjeuff           \n",
            " dashansky           \n",
            " dashubanikh         \n",
            " dashkr              \n",
            " dashinharko         \n",
            " dashav              \n",
            " dashyahenso         \n",
            " dash Lin            \n",
            " dashelyev           \n"
          ]
        },
        {
          "output_type": "stream",
          "name": "stderr",
          "text": [
            "/usr/local/lib/python3.7/dist-packages/torch/nn/functional.py:1795: UserWarning: nn.functional.tanh is deprecated. Use torch.tanh instead.\n",
            "  warnings.warn(\"nn.functional.tanh is deprecated. Use torch.tanh instead.\")\n"
          ]
        }
      ],
      "source": [
        "for _ in range(10):\n",
        "    print(generate_sample(char_rnn, seed_phrase=' dash'))"
      ]
    },
    {
      "cell_type": "markdown",
      "metadata": {
        "collapsed": true,
        "id": "TluoR7eYad6-"
      },
      "source": [
        "### Более простое решение\n",
        "\n",
        "писать RNN своими руками — это отличное упражнение, чтобы лучше понять, как работает рекуррентная нейронная сет. Но можно взять готовый модуль — например, из библиотеки pytorch, вы можете просто вызвать из неё \"nn.rnncell\" или \"nn.rnn\", и использовать уже готовый модуль для того, чтобы обучить вашу нейронную сеть генерировать новые имена. \n",
        "\n",
        "* `nn.RNNCell(emb_size, rnn_num_units)` - шаг RNN. Алгоритм: concat-linear-tanh\n",
        "* `nn.RNN(emb_size, rnn_num_units` - весь rnn_loop.\n",
        "\n",
        "Кроме того, в PyTorch есть `nn.LSTMCell`, `nn.LSTM`, `nn.GRUCell`, `nn.GRU`, etc. etc.\n",
        "\n",
        "Перепишем наш пример с генерацией имен с помощью средств PyTorch."
      ]
    },
    {
      "cell_type": "code",
      "execution_count": 51,
      "metadata": {
        "ExecuteTime": {
          "end_time": "2019-11-05T18:21:23.713285Z",
          "start_time": "2019-11-05T18:21:23.704755Z"
        },
        "id": "8mibR3qyad6_"
      },
      "outputs": [],
      "source": [
        "class CharRNNLoop(nn.Module):\n",
        "    def __init__(self, num_tokens=num_tokens, emb_size=16, rnn_num_units=64):\n",
        "        super(self.__class__, self).__init__()\n",
        "        self.emb = nn.Embedding(num_tokens, emb_size)\n",
        "        self.rnn = nn.RNN(emb_size, rnn_num_units, batch_first=True)\n",
        "        self.hid_to_logits = nn.Linear(rnn_num_units, num_tokens)\n",
        "        \n",
        "    def forward(self, x):\n",
        "        assert isinstance(x, Variable) and isinstance(x.data, torch.LongTensor)\n",
        "        h_seq, _ = self.rnn(self.emb(x))\n",
        "        next_logits = self.hid_to_logits(h_seq)\n",
        "        next_logp = F.log_softmax(next_logits, dim=-1)\n",
        "        return next_logp\n",
        "    \n",
        "model = CharRNNLoop()\n",
        "opt = torch.optim.Adam(model.parameters())\n",
        "history = []"
      ]
    },
    {
      "cell_type": "code",
      "execution_count": 52,
      "metadata": {
        "ExecuteTime": {
          "end_time": "2019-11-05T18:21:23.790047Z",
          "start_time": "2019-11-05T18:21:23.715167Z"
        },
        "id": "4LkH9K2Pad6_"
      },
      "outputs": [],
      "source": [
        "# the model applies over the whole sequence\n",
        "batch_ix = to_matrix(sample(names, 32), token_to_id, max_len=MAX_LENGTH)\n",
        "batch_ix = Variable(torch.LongTensor(batch_ix))\n",
        "\n",
        "logp_seq = model(batch_ix)\n",
        "\n",
        "# compute loss\n",
        "loss = F.nll_loss(logp_seq[:, 1:].contiguous().view(-1, num_tokens), \n",
        "                  batch_ix[:, :-1].contiguous().view(-1))\n",
        "\n",
        "loss.backward()"
      ]
    },
    {
      "cell_type": "markdown",
      "source": [
        "все те же самые шаги, что и выше"
      ],
      "metadata": {
        "id": "JP-u4V1S2hpv"
      }
    },
    {
      "cell_type": "code",
      "execution_count": 53,
      "metadata": {
        "ExecuteTime": {
          "end_time": "2019-11-05T18:21:31.468107Z",
          "start_time": "2019-11-05T18:21:23.792092Z"
        },
        "colab": {
          "base_uri": "https://localhost:8080/",
          "height": 265
        },
        "id": "qC3d_vkpad6_",
        "outputId": "f69ec199-9b98-40db-d509-d668acd9532e"
      },
      "outputs": [
        {
          "output_type": "display_data",
          "data": {
            "image/png": "[encoded data removed]",
            "text/plain": [
              "<Figure size 432x288 with 1 Axes>"
            ]
          },
          "metadata": {
            "needs_background": "light"
          }
        }
      ],
      "source": [
        "MAX_LENGTH = max(map(len, names))\n",
        "\n",
        "for i in range(1000):\n",
        "    batch_ix = to_matrix(sample(names, 32), token_to_id, max_len=MAX_LENGTH)\n",
        "    batch_ix = torch.tensor(batch_ix, dtype=torch.int64)\n",
        "    \n",
        "    logp_seq = model(batch_ix)\n",
        "    \n",
        "    # compute loss\n",
        "    predictions_logp = logp_seq[:, :-1]\n",
        "    actual_next_tokens = batch_ix[:, 1:]\n",
        "\n",
        "    loss = -torch.mean(torch.gather(predictions_logp, dim=2, index=actual_next_tokens[:,:,None]))\n",
        "    \n",
        "    # train with backprop\n",
        "    loss.backward()\n",
        "    opt.step()\n",
        "    opt.zero_grad()\n",
        "    \n",
        "    history.append(loss.data.numpy())\n",
        "    if (i + 1) % 100 == 0:\n",
        "        clear_output(True)\n",
        "        plt.plot(history, label='loss')\n",
        "        plt.legend()\n",
        "        plt.show()\n",
        "\n",
        "assert np.mean(history[:25]) > np.mean(history[-25:]), \"RNN didn't converge.\""
      ]
    },
    {
      "cell_type": "code",
      "execution_count": 54,
      "metadata": {
        "ExecuteTime": {
          "end_time": "2019-11-05T18:21:31.526436Z",
          "start_time": "2019-11-05T18:21:31.469965Z"
        },
        "colab": {
          "base_uri": "https://localhost:8080/"
        },
        "id": "adFgG6_nad6_",
        "outputId": "8ca41e0d-4c2f-4966-a8a4-5c988402c141"
      },
      "outputs": [
        {
          "output_type": "stream",
          "name": "stdout",
          "text": [
            " Ehairyamenov        \n",
            " Vruden              \n",
            " Kalovzov            \n",
            " Lhinkhodhin         \n",
            " Phapetsch           \n",
            " Alaichevski         \n",
            " Dozhiin             \n",
            " Zhav                \n",
            " Yagushkoff          \n",
            " Zhrano f            \n"
          ]
        },
        {
          "output_type": "stream",
          "name": "stderr",
          "text": [
            "/usr/local/lib/python3.7/dist-packages/torch/nn/functional.py:1795: UserWarning: nn.functional.tanh is deprecated. Use torch.tanh instead.\n",
            "  warnings.warn(\"nn.functional.tanh is deprecated. Use torch.tanh instead.\")\n"
          ]
        }
      ],
      "source": [
        "for _ in range(10):\n",
        "    print(generate_sample(char_rnn))"
      ]
    },
    {
      "cell_type": "markdown",
      "source": [
        "С помощью библиотеки pytorch мы можем обучить то же самое, что вы только что написали своими руками, но значительно быстрее и с меньшим количеством кода."
      ],
      "metadata": {
        "id": "pTxhHS6V20lJ"
      }
    },
    {
      "cell_type": "markdown",
      "metadata": {
        "id": "Obaoiowxad6_"
      },
      "source": [
        "### Домашнее задание: мотивационные лозунги"
      ]
    },
    {
      "cell_type": "code",
      "execution_count": null,
      "metadata": {
        "ExecuteTime": {
          "end_time": "2019-11-05T18:21:31.570320Z",
          "start_time": "2019-11-05T18:21:31.528673Z"
        },
        "id": "zjE5DX3Mad6_"
      },
      "outputs": [],
      "source": [
        "# Если Вы запускаете ноутбук на colab или kaggle, добавьте в начало пути ./stepik-dl-nlp\n",
        "with open('datasets/author_quotes.txt') as input_file:\n",
        "    quotes = input_file.read()[:-1].split('\\n')\n",
        "    quotes = [' ' + line for line in quotes]"
      ]
    },
    {
      "cell_type": "code",
      "execution_count": null,
      "metadata": {
        "ExecuteTime": {
          "end_time": "2019-11-05T18:21:31.575286Z",
          "start_time": "2019-11-05T18:21:31.571798Z"
        },
        "id": "31qIbCyWad7A"
      },
      "outputs": [],
      "source": [
        "quotes[:5]"
      ]
    },
    {
      "cell_type": "code",
      "execution_count": null,
      "metadata": {
        "ExecuteTime": {
          "end_time": "2019-11-05T18:21:31.653673Z",
          "start_time": "2019-11-05T18:21:31.578424Z"
        },
        "id": "yrgQcI1Qad7A"
      },
      "outputs": [],
      "source": [
        "tokens = list(set(''.join(quotes)))\n",
        "token_to_id = {token: idx for idx, token in enumerate(tokens)}\n",
        "num_tokens = len(tokens)"
      ]
    },
    {
      "cell_type": "code",
      "execution_count": null,
      "metadata": {
        "id": "8u11FcyMad7A"
      },
      "outputs": [],
      "source": [
        "# your code here"
      ]
    },
    {
      "cell_type": "markdown",
      "metadata": {
        "id": "-dc75Abbad7A"
      },
      "source": [
        "### Что еще можно генерировать?\n",
        "С помощью кода из этого семинара можно генерировать не только имена, но и:\n",
        "\n",
        "* Повести/романы/поэзию/песни любимого автора\n",
        "* Новостные заголовки\n",
        "* Программный код\n",
        "* Молекулы в формате [smiles](https://en.wikipedia.org/wiki/Simplified_molecular-input_line-entry_system)\n",
        "* Музыку\n",
        "* Названия мебели из ИКЕА\n",
        "* Мотивационные лозунги\n",
        "* etc.\n",
        "\n",
        "__Удачи!__"
      ]
    },
    {
      "cell_type": "code",
      "execution_count": null,
      "metadata": {
        "id": "sxfdZJgnad7B"
      },
      "outputs": [],
      "source": [
        ""
      ]
    }
  ],
  "metadata": {
    "kernelspec": {
      "display_name": "Python 3",
      "language": "python",
      "name": "python3"
    },
    "language_info": {
      "codemirror_mode": {
        "name": "ipython",
        "version": 3
      },
      "file_extension": ".py",
      "mimetype": "text/x-python",
      "name": "python",
      "nbconvert_exporter": "python",
      "pygments_lexer": "ipython3",
      "version": "3.7.1"
    },
    "latex_envs": {
      "LaTeX_envs_menu_present": true,
      "autoclose": false,
      "autocomplete": true,
      "bibliofile": "biblio.bib",
      "cite_by": "apalike",
      "current_citInitial": 1,
      "eqLabelWithNumbers": true,
      "eqNumInitial": 1,
      "hotkeys": {
        "equation": "Ctrl-E",
        "itemize": "Ctrl-I"
      },
      "labels_anchors": false,
      "latex_user_defs": false,
      "report_style_numbering": false,
      "user_envs_cfg": false
    },
    "toc": {
      "base_numbering": 1,
      "nav_menu": {},
      "number_sections": true,
      "sideBar": true,
      "skip_h1_title": false,
      "title_cell": "Table of Contents",
      "title_sidebar": "Contents",
      "toc_cell": false,
      "toc_position": {},
      "toc_section_display": true,
      "toc_window_display": false
    },
    "colab": {
      "name": "4_RNN_name_generator.ipynb",
      "provenance": [],
      "collapsed_sections": []
    }
  },
  "nbformat": 4,
  "nbformat_minor": 0
}