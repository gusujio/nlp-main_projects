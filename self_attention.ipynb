{
  "nbformat": 4,
  "nbformat_minor": 0,
  "metadata": {
    "colab": {
      "name": "self-attention.ipynb",
      "provenance": []
    },
    "kernelspec": {
      "name": "python3",
      "display_name": "Python 3"
    },
    "language_info": {
      "name": "python"
    }
  },
  "cells": [
    {
      "cell_type": "code",
      "execution_count": 1,
      "metadata": {
        "id": "08XH5trVZg7K"
      },
      "outputs": [],
      "source": [
        "from torch.nn import Softmax\n",
        "import torch\n",
        "import numpy  as np"
      ]
    },
    {
      "cell_type": "markdown",
      "source": [
        "Давайте теперь посмотрим, как работает более общий вариант self-attention - когда в качестве ключей, запросов и значений используются разные матрицы.\n",
        "\n",
        "На вход мы получаем всё ту же матрицу\n",
        "\n",
        "Input =  \\begin{matrix} 1 & 0 \\\\ 0 & 1 \\\\ 1 & 1 \\\\ 0 & 0\\end{matrix} "
      ],
      "metadata": {
        "id": "6scKrNDEsbqD"
      }
    },
    {
      "cell_type": "markdown",
      "source": [
        "Общий алгоритм состоит из следующих основных шагов:\n",
        "\n",
        "1. Найти значения ключей, запросов и значений, используя линейное преобразование\n",
        "\n",
        "    Keys =Input⋅Proj_k + Bias_K\n",
        "\n",
        "    Queries = Input * Proj_Q + Bias_Q\n",
        "\n",
        "    Values = Input * Proj_V + Bias_V\n",
        "\n",
        "2. Найти матрицу попарного сходства, используя полученные матричное произведение запросов и ключей \n",
        "\n",
        "    Logits=Queries * Keys.T\n",
        " \n",
        "3. Найти коэффициенты усреднения, нормировав матрицу попарного сходства с помощью softmax по строкам \n",
        "    AttScores = softmax(Logits, rows)\n",
        "\n",
        "4. Найти результат с помощью матричного произведения матриц значений и коэффициентов \n",
        "Result=AttScores * ValuesResult\n",
        "\n",
        "\n",
        "Вам требуется найти значение матрицы Result с учётом следующих параметров преобразования:\n",
        "\n",
        "Proj_K = \\begin{matrix}(1 & 0 \\\\ 0 & 0)\\end{matrix} \n",
        "\n",
        "Proj_Q = \\begin{matrix}(0 & 0 \\\\ 1 & 0)\\end{matrix}\n",
        "\n",
        "Proj_V = \\begin{matrix}(1 & 0 \\\\ 0 & 1)\\end{matrix}\n",
        "\n",
        "Bias_K = Bias_Q = Bias_V = \\begin{matrix}(0 & 0)\\end{matrix}\n",
        "\n",
        "\n",
        "Результат запишите в виде матрицы, на одной строке - элементы одной строки матрицы, разделённые пробелами. В качестве десятичного разделителя используйте точку. Ответ округлите до не менее чем двух знаков после запятой."
      ],
      "metadata": {
        "id": "6KyHmbnyv3hI"
      }
    },
    {
      "cell_type": "markdown",
      "source": [
        "## 1"
      ],
      "metadata": {
        "id": "VEbFKjDuymG4"
      }
    },
    {
      "cell_type": "code",
      "source": [
        "Input = np.array([[1, 0], [0, 1], [1, 1], [0, 0]]) \n",
        "\n",
        "\n",
        "Proj_K = np.array([[1, 0], [0, 0]]) \n",
        "Proj_Q = np.array([[0, 0], [1, 0]]) \n",
        "Proj_V = np.array([[1, 0], [0, 1]]) \n",
        "\n",
        "keys = Input @ Proj_K\n",
        "queries = Input @ Proj_Q\n",
        "values  = Input @ Proj_V"
      ],
      "metadata": {
        "id": "9W4NXFwnan3N"
      },
      "execution_count": 2,
      "outputs": []
    },
    {
      "cell_type": "markdown",
      "source": [
        "## 2"
      ],
      "metadata": {
        "id": "cxCKvQiqynty"
      }
    },
    {
      "cell_type": "code",
      "source": [
        "logits = queries @ keys.T\n",
        "logits"
      ],
      "metadata": {
        "colab": {
          "base_uri": "https://localhost:8080/"
        },
        "id": "PBl9Go-byuKc",
        "outputId": "47e24561-cf74-4452-8689-b4bd40d2aac9"
      },
      "execution_count": 3,
      "outputs": [
        {
          "output_type": "execute_result",
          "data": {
            "text/plain": [
              "array([[0, 0, 0, 0],\n",
              "       [1, 0, 1, 0],\n",
              "       [1, 0, 1, 0],\n",
              "       [0, 0, 0, 0]])"
            ]
          },
          "metadata": {},
          "execution_count": 3
        }
      ]
    },
    {
      "cell_type": "markdown",
      "source": [
        "## 3"
      ],
      "metadata": {
        "id": "zNvOGNmey3ON"
      }
    },
    {
      "cell_type": "code",
      "source": [
        "sm = Softmax(dim=1)\n",
        "AttScores = sm(torch.tensor(logits).float())\n",
        "AttScores "
      ],
      "metadata": {
        "colab": {
          "base_uri": "https://localhost:8080/"
        },
        "id": "vTgd3eclZiqb",
        "outputId": "b4177d56-56e6-44c7-df66-0553fdf213d3"
      },
      "execution_count": 27,
      "outputs": [
        {
          "output_type": "execute_result",
          "data": {
            "text/plain": [
              "tensor([[0.2500, 0.2500, 0.2500, 0.2500],\n",
              "        [0.3655, 0.1345, 0.3655, 0.1345],\n",
              "        [0.3655, 0.1345, 0.3655, 0.1345],\n",
              "        [0.2500, 0.2500, 0.2500, 0.2500]])"
            ]
          },
          "metadata": {},
          "execution_count": 27
        }
      ]
    },
    {
      "cell_type": "markdown",
      "source": [
        "## 4"
      ],
      "metadata": {
        "id": "uVFnVMVUzFOi"
      }
    },
    {
      "cell_type": "code",
      "source": [
        "result = AttScores @ torch.tensor(values).float()\n",
        "result"
      ],
      "metadata": {
        "colab": {
          "base_uri": "https://localhost:8080/"
        },
        "id": "8SBFGDfWl5cs",
        "outputId": "4e205d36-d7ed-4517-dd1f-59c926957eda"
      },
      "execution_count": 28,
      "outputs": [
        {
          "output_type": "execute_result",
          "data": {
            "text/plain": [
              "tensor([[0.5000, 0.5000],\n",
              "        [0.7311, 0.5000],\n",
              "        [0.7311, 0.5000],\n",
              "        [0.5000, 0.5000]])"
            ]
          },
          "metadata": {},
          "execution_count": 28
        }
      ]
    },
    {
      "cell_type": "code",
      "source": [
        "np.round(np.array(result), 3)"
      ],
      "metadata": {
        "colab": {
          "base_uri": "https://localhost:8080/"
        },
        "id": "T8XkFGzozOl_",
        "outputId": "08a979b1-597a-4644-caf4-000e242f17bb"
      },
      "execution_count": 29,
      "outputs": [
        {
          "output_type": "execute_result",
          "data": {
            "text/plain": [
              "array([[0.5  , 0.5  ],\n",
              "       [0.731, 0.5  ],\n",
              "       [0.731, 0.5  ],\n",
              "       [0.5  , 0.5  ]], dtype=float32)"
            ]
          },
          "metadata": {},
          "execution_count": 29
        }
      ]
    },
    {
      "cell_type": "code",
      "source": [
        "# 0.5   0.5\n",
        "# 0.731 0.5\n",
        "# 0.731 0.5\n",
        "# 0.5   0.5"
      ],
      "metadata": {
        "id": "g82b-WjWzSto"
      },
      "execution_count": 31,
      "outputs": []
    },
    {
      "cell_type": "code",
      "source": [
        ""
      ],
      "metadata": {
        "id": "wmVRzezQ6kLn"
      },
      "execution_count": null,
      "outputs": []
    }
  ]
}